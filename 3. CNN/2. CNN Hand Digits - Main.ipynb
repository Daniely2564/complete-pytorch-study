{
 "cells": [
  {
   "cell_type": "code",
   "execution_count": 1,
   "metadata": {},
   "outputs": [],
   "source": [
    "import torch\n",
    "import torch.nn as nn\n",
    "import torch.nn.functional as F"
   ]
  },
  {
   "cell_type": "code",
   "execution_count": 2,
   "metadata": {},
   "outputs": [],
   "source": [
    "from torch.utils.data import DataLoader\n",
    "from torchvision import datasets, transforms\n",
    "from torchvision.utils import make_grid"
   ]
  },
  {
   "cell_type": "code",
   "execution_count": 3,
   "metadata": {},
   "outputs": [],
   "source": [
    "import numpy as np\n",
    "import pandas as pd\n",
    "import matplotlib.pyplot as plt"
   ]
  },
  {
   "cell_type": "code",
   "execution_count": 4,
   "metadata": {},
   "outputs": [],
   "source": [
    "from sklearn.metrics import confusion_matrix"
   ]
  },
  {
   "cell_type": "code",
   "execution_count": 5,
   "metadata": {},
   "outputs": [],
   "source": [
    "transform = transforms.ToTensor()"
   ]
  },
  {
   "cell_type": "code",
   "execution_count": 6,
   "metadata": {},
   "outputs": [],
   "source": [
    "train_data = datasets.MNIST(root=\"../Data\", train=True, download=True, transform=transform)"
   ]
  },
  {
   "cell_type": "code",
   "execution_count": 7,
   "metadata": {},
   "outputs": [],
   "source": [
    "test_data = datasets.MNIST(root=\"../Data\", train=False, download=True, transform=transform)"
   ]
  },
  {
   "cell_type": "code",
   "execution_count": 10,
   "metadata": {},
   "outputs": [],
   "source": [
    "train_loader = DataLoader(train_data, batch_size=10, shuffle=True)\n",
    "test_loader = DataLoader(test_data, batch_size=10, shuffle=False)"
   ]
  },
  {
   "cell_type": "code",
   "execution_count": 11,
   "metadata": {},
   "outputs": [],
   "source": [
    "class ConvolutionalNetwork(nn.Module):\n",
    "    def __init__(self):\n",
    "        super().__init__()\n",
    "        self.conv1 = nn.Conv2d(1,6,3,1)\n",
    "        self.conv2 = nn.Conv2d(6,16,3,1)\n",
    "        self.fc1 = nn.Linear(5*5*16, 120)\n",
    "        self.fc2 = nn.Linear(120,84)\n",
    "        self.fc3 = nn.Linear(84,10)\n",
    "        \n",
    "    def forward(self,X):\n",
    "        X = F.relu(self.conv1(X))\n",
    "        X = F.max_pool2d(X,2,2)\n",
    "        X = F.relu(self.conv2(X))\n",
    "        X = F.max_pool2d(X,2,2)\n",
    "        X = X.view(-1,16*5*5)\n",
    "        X = F.relu(self.fc1(X))\n",
    "        X = F.relu(self.fc2(X))\n",
    "        X = F.log_softmax(self.fc3(X),dim=1)\n",
    "        \n",
    "        return X"
   ]
  },
  {
   "cell_type": "code",
   "execution_count": 12,
   "metadata": {},
   "outputs": [],
   "source": [
    "torch.manual_seed(42)\n",
    "model = ConvolutionalNetwork()\n",
    "CUDA = torch.cuda.is_available()\n",
    "if CUDA:\n",
    "    model = model.cuda()"
   ]
  },
  {
   "cell_type": "code",
   "execution_count": 13,
   "metadata": {},
   "outputs": [
    {
     "data": {
      "text/plain": [
       "ConvolutionalNetwork(\n",
       "  (conv1): Conv2d(1, 6, kernel_size=(3, 3), stride=(1, 1))\n",
       "  (conv2): Conv2d(6, 16, kernel_size=(3, 3), stride=(1, 1))\n",
       "  (fc1): Linear(in_features=400, out_features=120, bias=True)\n",
       "  (fc2): Linear(in_features=120, out_features=84, bias=True)\n",
       "  (fc3): Linear(in_features=84, out_features=10, bias=True)\n",
       ")"
      ]
     },
     "execution_count": 13,
     "metadata": {},
     "output_type": "execute_result"
    }
   ],
   "source": [
    "model"
   ]
  },
  {
   "cell_type": "code",
   "execution_count": 14,
   "metadata": {},
   "outputs": [
    {
     "name": "stdout",
     "output_type": "stream",
     "text": [
      "54\n",
      "6\n",
      "864\n",
      "16\n",
      "48000\n",
      "120\n",
      "10080\n",
      "84\n",
      "840\n",
      "10\n"
     ]
    }
   ],
   "source": [
    "for param in model.parameters():\n",
    "    print(param.numel())"
   ]
  },
  {
   "cell_type": "code",
   "execution_count": 15,
   "metadata": {},
   "outputs": [],
   "source": [
    "criterion = nn.CrossEntropyLoss()\n",
    "optimizer = torch.optim.Adam(model.parameters(), lr=.001)"
   ]
  },
  {
   "cell_type": "code",
   "execution_count": 16,
   "metadata": {},
   "outputs": [
    {
     "name": "stdout",
     "output_type": "stream",
     "text": [
      "Epoch [0/5]. Batch : 600. Loss : 0.20335471630096436\n",
      "Epoch [0/5]. Batch : 1200. Loss : 0.6414305567741394\n",
      "Epoch [0/5]. Batch : 1800. Loss : 0.01634938456118107\n",
      "Epoch [0/5]. Batch : 2400. Loss : 0.02244677022099495\n",
      "Epoch [0/5]. Batch : 3000. Loss : 0.00885276310145855\n",
      "Epoch [0/5]. Batch : 3600. Loss : 0.009102092124521732\n",
      "Epoch [0/5]. Batch : 4200. Loss : 0.0685952827334404\n",
      "Epoch [0/5]. Batch : 4800. Loss : 0.004769043531268835\n",
      "Epoch [0/5]. Batch : 5400. Loss : 0.0004062069929204881\n",
      "Epoch [0/5]. Batch : 6000. Loss : 0.0031378469429910183\n",
      "Epoch [1/5]. Batch : 600. Loss : 0.004590737167745829\n",
      "Epoch [1/5]. Batch : 1200. Loss : 0.3490144610404968\n",
      "Epoch [1/5]. Batch : 1800. Loss : 0.07315859198570251\n",
      "Epoch [1/5]. Batch : 2400. Loss : 0.0006341033731587231\n",
      "Epoch [1/5]. Batch : 3000. Loss : 0.0005574311944656074\n",
      "Epoch [1/5]. Batch : 3600. Loss : 0.13341890275478363\n",
      "Epoch [1/5]. Batch : 4200. Loss : 0.010514939203858376\n",
      "Epoch [1/5]. Batch : 4800. Loss : 0.19620287418365479\n",
      "Epoch [1/5]. Batch : 5400. Loss : 0.0006635366007685661\n",
      "Epoch [1/5]. Batch : 6000. Loss : 0.00717206159606576\n",
      "Epoch [2/5]. Batch : 600. Loss : 0.01689438335597515\n",
      "Epoch [2/5]. Batch : 1200. Loss : 0.0006720477831549942\n",
      "Epoch [2/5]. Batch : 1800. Loss : 0.00012499788135755807\n",
      "Epoch [2/5]. Batch : 2400. Loss : 0.0010659060208126903\n",
      "Epoch [2/5]. Batch : 3000. Loss : 0.04695160314440727\n",
      "Epoch [2/5]. Batch : 3600. Loss : 0.00012392131611704826\n",
      "Epoch [2/5]. Batch : 4200. Loss : 0.0012765279971063137\n",
      "Epoch [2/5]. Batch : 4800. Loss : 0.0005809777067042887\n",
      "Epoch [2/5]. Batch : 5400. Loss : 0.001398171647451818\n",
      "Epoch [2/5]. Batch : 6000. Loss : 0.00018027288024313748\n",
      "Epoch [3/5]. Batch : 600. Loss : 0.008215914480388165\n",
      "Epoch [3/5]. Batch : 1200. Loss : 0.00409636041149497\n",
      "Epoch [3/5]. Batch : 1800. Loss : 0.0007154182530939579\n",
      "Epoch [3/5]. Batch : 2400. Loss : 0.002139101969078183\n",
      "Epoch [3/5]. Batch : 3000. Loss : 1.561600947752595e-05\n",
      "Epoch [3/5]. Batch : 3600. Loss : 0.05580681562423706\n",
      "Epoch [3/5]. Batch : 4200. Loss : 0.13084442913532257\n",
      "Epoch [3/5]. Batch : 4800. Loss : 0.07634593546390533\n",
      "Epoch [3/5]. Batch : 5400. Loss : 0.004452268593013287\n",
      "Epoch [3/5]. Batch : 6000. Loss : 0.0011300285113975406\n",
      "Epoch [4/5]. Batch : 600. Loss : 0.10076455026865005\n",
      "Epoch [4/5]. Batch : 1200. Loss : 0.5616661310195923\n",
      "Epoch [4/5]. Batch : 1800. Loss : 0.010687213391065598\n",
      "Epoch [4/5]. Batch : 2400. Loss : 7.0927999331615865e-06\n",
      "Epoch [4/5]. Batch : 3000. Loss : 0.016617735847830772\n",
      "Epoch [4/5]. Batch : 3600. Loss : 0.0006293741171248257\n",
      "Epoch [4/5]. Batch : 4200. Loss : 0.0002351754083065316\n",
      "Epoch [4/5]. Batch : 4800. Loss : 0.0011134056840091944\n",
      "Epoch [4/5]. Batch : 5400. Loss : 0.14227458834648132\n",
      "Epoch [4/5]. Batch : 6000. Loss : 0.0031704530119895935\n",
      "Training took 3.1313193440437317 minutes\n"
     ]
    }
   ],
   "source": [
    "import time\n",
    "start_time = time.time()\n",
    "\n",
    "# Variables(Trackes)\n",
    "epochs = 5\n",
    "train_losses = []\n",
    "test_losses = []\n",
    "train_corrects = []\n",
    "test_corrects = []\n",
    "\n",
    "# Epochs\n",
    "for epoch in range(epochs):\n",
    "    train_corr = 0\n",
    "    test_corr = 0\n",
    "\n",
    "    # TRAIN\n",
    "    for batch, (X_train, y_train) in enumerate(train_loader):\n",
    "        batch = batch+1\n",
    "        if CUDA:\n",
    "            X_train = X_train.cuda()\n",
    "            y_train = y_train.cuda()\n",
    "        y_pred = model(X_train)\n",
    "        loss = criterion(y_pred, y_train)\n",
    "        \n",
    "        train_corr += (y_pred.argmax(axis=1) == y_train).sum()\n",
    "        \n",
    "        optimizer.zero_grad()\n",
    "        loss.backward()\n",
    "        optimizer.step()\n",
    "        \n",
    "        if batch % 600 == 0:\n",
    "            print(f'Epoch [{epoch}/{epochs}]. Batch : {batch}. Loss : {loss.item()}')\n",
    "        \n",
    "    train_losses.append(loss)\n",
    "    train_corrects.append(train_corr)\n",
    "    \n",
    "    # TEST\n",
    "    with torch.no_grad():\n",
    "        for batch, (X_test, y_test) in enumerate(test_loader):\n",
    "            if CUDA:\n",
    "                X_test = X_test.cuda()\n",
    "                y_test = y_test.cuda()\n",
    "            y_val = model(X_test)\n",
    "            test_corr += (y_val.argmax(axis=1) == y_test).sum()\n",
    "    loss = criterion(y_val, y_test)\n",
    "    test_losses.append(loss)\n",
    "    test_corrects.append(test_corr)\n",
    "\n",
    "\n",
    "current_time = time.time()\n",
    "total = current_time - start_time\n",
    "print(f'Training took {total/60} minutes')"
   ]
  },
  {
   "cell_type": "code",
   "execution_count": 20,
   "metadata": {},
   "outputs": [
    {
     "data": {
      "text/plain": [
       "<matplotlib.legend.Legend at 0x1ad7ba8b6c8>"
      ]
     },
     "execution_count": 20,
     "metadata": {},
     "output_type": "execute_result"
    },
    {
     "data": {
      "image/png": "[encoded data removed]",
      "text/plain": [
       "<Figure size 432x288 with 1 Axes>"
      ]
     },
     "metadata": {
      "needs_background": "light"
     },
     "output_type": "display_data"
    }
   ],
   "source": [
    "plt.plot(train_losses, label='Train Loss')\n",
    "plt.plot(test_losses, label='Validation Loss')\n",
    "plt.title('Loss at each epoch')\n",
    "plt.legend()"
   ]
  },
  {
   "cell_type": "code",
   "execution_count": 23,
   "metadata": {},
   "outputs": [
    {
     "data": {
      "text/plain": [
       "<matplotlib.legend.Legend at 0x1ad7ba6c588>"
      ]
     },
     "execution_count": 23,
     "metadata": {},
     "output_type": "execute_result"
    },
    {
     "data": {
      "image/png": "[encoded data removed]",
      "text/plain": [
       "<Figure size 432x288 with 1 Axes>"
      ]
     },
     "metadata": {
      "needs_background": "light"
     },
     "output_type": "display_data"
    }
   ],
   "source": [
    "plt.plot([t.float()/600 for t in train_corrects], label='Train Loss')\n",
    "plt.plot([t.float()/100 for t in test_corrects], label='Validation Loss')\n",
    "plt.title('Loss at each epoch')\n",
    "plt.legend()"
   ]
  },
  {
   "cell_type": "code",
   "execution_count": 24,
   "metadata": {},
   "outputs": [],
   "source": [
    "test_load_all = DataLoader(test_data, batch_size=10000, shuffle=False)"
   ]
  },
  {
   "cell_type": "code",
   "execution_count": 27,
   "metadata": {},
   "outputs": [
    {
     "name": "stdout",
     "output_type": "stream",
     "text": [
      "tensor(0.9862, device='cuda:0')\n"
     ]
    }
   ],
   "source": [
    "with torch.no_grad():\n",
    "    correct = 0\n",
    "    for X_test, y_test in test_load_all:\n",
    "        if CUDA:\n",
    "            X_test = X_test.cuda()\n",
    "            y_test = y_test.cuda()\n",
    "        y_pred = model(X_test)\n",
    "        correct += (y_pred.argmax(1) == y_test).sum().float() / X_test.shape[0]\n",
    "    print(correct)"
   ]
  },
  {
   "cell_type": "code",
   "execution_count": 33,
   "metadata": {},
   "outputs": [
    {
     "name": "stdout",
     "output_type": "stream",
     "text": [
      "[[   0    1    2    3    4    5    6    7    8    9]]\n",
      "\n",
      "[[ 978    0    2    0    0    2    6    3    8    1]\n",
      " [   0 1127    2    0    0    0    3    1    0    0]\n",
      " [   0    2 1018    0    0    0    0    6    1    0]\n",
      " [   0    2    2 1004    0   15    0    3    4    2]\n",
      " [   0    0    1    0  976    0    1    1    1    6]\n",
      " [   0    1    0    1    0  870    3    1    4    4]\n",
      " [   1    1    0    0    3    1  944    0    1    0]\n",
      " [   1    2    5    3    0    0    0 1006    0    3]\n",
      " [   0    0    2    1    0    0    1    2  950    4]\n",
      " [   0    0    0    1    3    4    0    5    5  989]]\n"
     ]
    }
   ],
   "source": [
    "np.set_printoptions(formatter=dict(int=lambda x: f'{x:4}'))\n",
    "print(np.arange(10).reshape(1,10))\n",
    "print()\n",
    "\n",
    "print(confusion_matrix(y_pred.argmax(1).to('cpu'), y_test.view(-1).to('cpu')))"
   ]
  },
  {
   "cell_type": "code",
   "execution_count": null,
   "metadata": {},
   "outputs": [],
   "source": []
  }
 ],
 "metadata": {
  "kernelspec": {
   "display_name": "Python 3",
   "language": "python",
   "name": "python3"
  },
  "language_info": {
   "codemirror_mode": {
    "name": "ipython",
    "version": 3
   },
   "file_extension": ".py",
   "mimetype": "text/x-python",
   "name": "python",
   "nbconvert_exporter": "python",
   "pygments_lexer": "ipython3",
   "version": "3.6.8"
  }
 },
 "nbformat": 4,
 "nbformat_minor": 2
}
