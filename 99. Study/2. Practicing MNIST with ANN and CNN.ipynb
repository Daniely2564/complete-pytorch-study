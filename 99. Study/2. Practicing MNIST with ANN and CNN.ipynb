{
 "cells": [
  {
   "cell_type": "code",
   "execution_count": 17,
   "metadata": {},
   "outputs": [],
   "source": [
    "import torch\n",
    "import torch.nn as nn\n",
    "import torch.nn.functional as F"
   ]
  },
  {
   "cell_type": "code",
   "execution_count": 18,
   "metadata": {},
   "outputs": [],
   "source": [
    "from torchvision import datasets, transforms\n",
    "from torch.utils.data import DataLoader"
   ]
  },
  {
   "cell_type": "code",
   "execution_count": 19,
   "metadata": {},
   "outputs": [],
   "source": [
    "import numpy as np\n",
    "import pandas as pd\n",
    "import matplotlib.pyplot as plt"
   ]
  },
  {
   "cell_type": "markdown",
   "metadata": {},
   "source": [
    "Solving the MINST Data ANN Approach"
   ]
  },
  {
   "cell_type": "code",
   "execution_count": 20,
   "metadata": {},
   "outputs": [],
   "source": [
    "train_data = datasets.MNIST(root=\"../Data\",train=True, download=True, transform=transforms.ToTensor())"
   ]
  },
  {
   "cell_type": "code",
   "execution_count": 21,
   "metadata": {},
   "outputs": [],
   "source": [
    "test_data = datasets.MNIST(root=\"../Data\",train=False, download=True, transform=transforms.ToTensor())"
   ]
  },
  {
   "cell_type": "code",
   "execution_count": 22,
   "metadata": {},
   "outputs": [
    {
     "data": {
      "text/plain": [
       "Dataset MNIST\n",
       "    Number of datapoints: 60000\n",
       "    Root location: ../Data\n",
       "    Split: Train\n",
       "    StandardTransform\n",
       "Transform: ToTensor()"
      ]
     },
     "execution_count": 22,
     "metadata": {},
     "output_type": "execute_result"
    }
   ],
   "source": [
    "train_data"
   ]
  },
  {
   "cell_type": "code",
   "execution_count": 23,
   "metadata": {},
   "outputs": [
    {
     "data": {
      "text/plain": [
       "Dataset MNIST\n",
       "    Number of datapoints: 10000\n",
       "    Root location: ../Data\n",
       "    Split: Test\n",
       "    StandardTransform\n",
       "Transform: ToTensor()"
      ]
     },
     "execution_count": 23,
     "metadata": {},
     "output_type": "execute_result"
    }
   ],
   "source": [
    "test_data"
   ]
  },
  {
   "cell_type": "code",
   "execution_count": 24,
   "metadata": {},
   "outputs": [],
   "source": [
    "train_loader = DataLoader(dataset=train_data,batch_size=600, shuffle=True)\n",
    "test_loader = DataLoader(dataset=test_data,batch_size=100)"
   ]
  },
  {
   "cell_type": "code",
   "execution_count": 25,
   "metadata": {},
   "outputs": [],
   "source": [
    "for X_train, y_train in train_loader:\n",
    "    break"
   ]
  },
  {
   "cell_type": "code",
   "execution_count": 26,
   "metadata": {},
   "outputs": [],
   "source": [
    "class MultilayerNetowrk(nn.Module):\n",
    "    def __init__(self, no_inputs, no_outputs, hidden_layers):\n",
    "        super().__init__()\n",
    "        layers = []\n",
    "        for h in hidden_layers:\n",
    "            layers.append(nn.Linear(no_inputs, h))\n",
    "            layers.append(nn.ReLU(inplace=True))\n",
    "            no_inputs = h\n",
    "        layers.append(nn.Linear(no_inputs, no_outputs))\n",
    "        layers.append(nn.LogSoftmax(dim=1))\n",
    "        self.layers = nn.Sequential(*layers)\n",
    "        \n",
    "    def forward(self, X):\n",
    "        return self.layers(X)"
   ]
  },
  {
   "cell_type": "code",
   "execution_count": 27,
   "metadata": {},
   "outputs": [],
   "source": [
    "model = MultilayerNetowrk(28 * 28, 10, [100, 50])"
   ]
  },
  {
   "cell_type": "code",
   "execution_count": 28,
   "metadata": {},
   "outputs": [
    {
     "data": {
      "text/plain": [
       "MultilayerNetowrk(\n",
       "  (layers): Sequential(\n",
       "    (0): Linear(in_features=784, out_features=100, bias=True)\n",
       "    (1): ReLU(inplace=True)\n",
       "    (2): Linear(in_features=100, out_features=50, bias=True)\n",
       "    (3): ReLU(inplace=True)\n",
       "    (4): Linear(in_features=50, out_features=10, bias=True)\n",
       "    (5): LogSoftmax()\n",
       "  )\n",
       ")"
      ]
     },
     "execution_count": 28,
     "metadata": {},
     "output_type": "execute_result"
    }
   ],
   "source": [
    "model"
   ]
  },
  {
   "cell_type": "code",
   "execution_count": 29,
   "metadata": {},
   "outputs": [],
   "source": [
    "criterion = nn.CrossEntropyLoss()\n",
    "optimizer = torch.optim.Adam(model.parameters(), lr=0.002)"
   ]
  },
  {
   "cell_type": "code",
   "execution_count": 30,
   "metadata": {},
   "outputs": [
    {
     "name": "stdout",
     "output_type": "stream",
     "text": [
      "Epooch [1/10]. Loss : 0.781. Accuracy : 77.80000305175781\n",
      "Epooch [2/10]. Loss : 0.325. Accuracy : 90.31999969482422\n",
      "Epooch [3/10]. Loss : 0.251. Accuracy : 92.6500015258789\n",
      "Epooch [4/10]. Loss : 0.202. Accuracy : 93.8499984741211\n",
      "Epooch [5/10]. Loss : 0.161. Accuracy : 95.13999938964844\n",
      "Epooch [6/10]. Loss : 0.126. Accuracy : 96.22000122070312\n",
      "Epooch [7/10]. Loss : 0.099. Accuracy : 97.04000091552734\n",
      "Epooch [8/10]. Loss : 0.077. Accuracy : 97.8499984741211\n",
      "Epooch [9/10]. Loss : 0.060. Accuracy : 98.43000030517578\n",
      "Epooch [10/10]. Loss : 0.047. Accuracy : 98.7699966430664\n"
     ]
    }
   ],
   "source": [
    "epochs = 10\n",
    "train_losses = []\n",
    "test_losses = []\n",
    "train_corrs = []\n",
    "for epoch in range(epochs):\n",
    "    epoch += 1\n",
    "    train_loss = 0\n",
    "    test_loss = 0\n",
    "    length = 100\n",
    "    train_corr = 0\n",
    "    test_corr = 0\n",
    "    \n",
    "    for X_train, y_train in test_loader:\n",
    "        y_pred = model(X_train.view(X_train.shape[0], -1))\n",
    "        loss = criterion(y_pred, y_train)\n",
    "        train_loss += loss.item()\n",
    "        train_corr += (y_pred.argmax(1) == y_train).sum()\n",
    "        optimizer.zero_grad()\n",
    "        loss.backward()\n",
    "        optimizer.step()\n",
    "    batch_loss_avg = train_loss / 100\n",
    "    train_losses.append(batch_loss_avg)\n",
    "    train_corrs.append(train_corr.float()/100)\n",
    "    \n",
    "    print(f'Epooch [{epoch}/{epochs}]. Loss : {batch_loss_avg:.3f}. Accuracy : {train_corr.float()/100}')"
   ]
  },
  {
   "cell_type": "code",
   "execution_count": 31,
   "metadata": {},
   "outputs": [
    {
     "name": "stdout",
     "output_type": "stream",
     "text": [
      "Loss : 0.039. Accuracy : 99.02999877929688\n"
     ]
    }
   ],
   "source": [
    "test_loss = 0\n",
    "test_corr = 0\n",
    "for X_test, y_test in test_loader:\n",
    "    y_pred = model(X_test.view(X_train.shape[0], -1))\n",
    "    loss = criterion(y_pred, y_test)\n",
    "    test_loss += loss.item()\n",
    "    test_corr += (y_pred.argmax(1) == y_test).sum()\n",
    "    optimizer.zero_grad()\n",
    "    loss.backward()\n",
    "    optimizer.step()\n",
    "batch_loss_avg = test_loss / 100\n",
    "\n",
    "print(f'Loss : {batch_loss_avg:.3f}. Accuracy : {test_corr.float()/100}')"
   ]
  },
  {
   "cell_type": "code",
   "execution_count": 32,
   "metadata": {},
   "outputs": [
    {
     "data": {
      "text/plain": [
       "[<matplotlib.lines.Line2D at 0x1b5bf0a8f08>]"
      ]
     },
     "execution_count": 32,
     "metadata": {},
     "output_type": "execute_result"
    },
    {
     "data": {
      "image/png": "[encoded data removed]",
      "text/plain": [
       "<Figure size 432x288 with 1 Axes>"
      ]
     },
     "metadata": {
      "needs_background": "light"
     },
     "output_type": "display_data"
    }
   ],
   "source": [
    "plt.plot(range(epochs), train_losses)"
   ]
  },
  {
   "cell_type": "code",
   "execution_count": 33,
   "metadata": {},
   "outputs": [
    {
     "data": {
      "text/plain": [
       "[<matplotlib.lines.Line2D at 0x1b5bef15cc8>]"
      ]
     },
     "execution_count": 33,
     "metadata": {},
     "output_type": "execute_result"
    },
    {
     "data": {
      "image/png": "[encoded data removed]",
      "text/plain": [
       "<Figure size 432x288 with 1 Axes>"
      ]
     },
     "metadata": {
      "needs_background": "light"
     },
     "output_type": "display_data"
    }
   ],
   "source": [
    "plt.plot(range(epochs), train_corrs)"
   ]
  },
  {
   "cell_type": "code",
   "execution_count": null,
   "metadata": {},
   "outputs": [],
   "source": [
    "class ConvolutionalNetowrk(nn.Module):\n",
    "    def __init__(self):\n",
    "        nn.Conv2d()\n",
    "        nn.MaxPool2d()\n",
    "        pass\n",
    "    \n",
    "    def forward(self,X):\n",
    "        pass"
   ]
  }
 ],
 "metadata": {
  "kernelspec": {
   "display_name": "Python 3",
   "language": "python",
   "name": "python3"
  },
  "language_info": {
   "codemirror_mode": {
    "name": "ipython",
    "version": 3
   },
   "file_extension": ".py",
   "mimetype": "text/x-python",
   "name": "python",
   "nbconvert_exporter": "python",
   "pygments_lexer": "ipython3",
   "version": "3.7.4"
  }
 },
 "nbformat": 4,
 "nbformat_minor": 2
}
