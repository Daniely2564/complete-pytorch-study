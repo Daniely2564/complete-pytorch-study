{
 "cells": [
  {
   "cell_type": "code",
   "execution_count": 1,
   "metadata": {},
   "outputs": [],
   "source": [
    "import torch\n",
    "import torch.nn as nn\n",
    "import torch.nn.functional as F"
   ]
  },
  {
   "cell_type": "code",
   "execution_count": 2,
   "metadata": {},
   "outputs": [],
   "source": [
    "from torch.utils.data import DataLoader, TensorDataset\n",
    "from torchvision import datasets, transforms"
   ]
  },
  {
   "cell_type": "code",
   "execution_count": 3,
   "metadata": {},
   "outputs": [],
   "source": [
    "import numpy as np\n",
    "import pandas as pd\n",
    "import matplotlib.pyplot as plt\n",
    "from sklearn.metrics import confusion_matrix\n",
    "%matplotlib inline"
   ]
  },
  {
   "cell_type": "code",
   "execution_count": 4,
   "metadata": {},
   "outputs": [],
   "source": [
    "# MNIST Image --> Tensors\n",
    "transform = transforms.ToTensor()"
   ]
  },
  {
   "cell_type": "code",
   "execution_count": 5,
   "metadata": {},
   "outputs": [],
   "source": [
    "train_data = datasets.MNIST(root=\"../Data\", train=True, transform=transform)"
   ]
  },
  {
   "cell_type": "code",
   "execution_count": 6,
   "metadata": {},
   "outputs": [],
   "source": [
    "test_data = datasets.MNIST(root=\"../Data\", train=False, transform=transform)"
   ]
  },
  {
   "cell_type": "code",
   "execution_count": 7,
   "metadata": {},
   "outputs": [
    {
     "data": {
      "text/plain": [
       "Dataset MNIST\n",
       "    Number of datapoints: 60000\n",
       "    Root location: ../Data\n",
       "    Split: Train\n",
       "    StandardTransform\n",
       "Transform: ToTensor()"
      ]
     },
     "execution_count": 7,
     "metadata": {},
     "output_type": "execute_result"
    }
   ],
   "source": [
    "train_data"
   ]
  },
  {
   "cell_type": "code",
   "execution_count": 8,
   "metadata": {},
   "outputs": [
    {
     "data": {
      "text/plain": [
       "Dataset MNIST\n",
       "    Number of datapoints: 10000\n",
       "    Root location: ../Data\n",
       "    Split: Test\n",
       "    StandardTransform\n",
       "Transform: ToTensor()"
      ]
     },
     "execution_count": 8,
     "metadata": {},
     "output_type": "execute_result"
    }
   ],
   "source": [
    "test_data"
   ]
  },
  {
   "cell_type": "code",
   "execution_count": 9,
   "metadata": {},
   "outputs": [],
   "source": [
    "torch.manual_seed(101)\n",
    "train_loader = DataLoader(train_data, batch_size=100, shuffle=True) # Len 600\n",
    "test_loader = DataLoader(test_data, batch_size=500, shuffle=False) # Len 20"
   ]
  },
  {
   "cell_type": "code",
   "execution_count": 10,
   "metadata": {},
   "outputs": [],
   "source": [
    "class MultilayerPerceptron(nn.Module):\n",
    "    def __init__(self, input_layer=784, output_layer=10, hidden_layers=[120,84]):\n",
    "        super().__init__()\n",
    "        self.fc1 = nn.Linear(input_layer, hidden_layers[0])\n",
    "        self.fc2 = nn.Linear(hidden_layers[0], hidden_layers[1])\n",
    "        self.fc3 = nn.Linear(hidden_layers[1], output_layer)\n",
    "    \n",
    "    def forward(self, X):\n",
    "        X = F.relu(self.fc1(X))\n",
    "        X = F.relu(self.fc2(X))\n",
    "        X = F.log_softmax(self.fc3(X), dim=1) \n",
    "        return X"
   ]
  },
  {
   "cell_type": "code",
   "execution_count": 11,
   "metadata": {},
   "outputs": [],
   "source": [
    "torch.manual_seed(101)\n",
    "model = MultilayerPerceptron()"
   ]
  },
  {
   "cell_type": "code",
   "execution_count": 12,
   "metadata": {},
   "outputs": [],
   "source": [
    "model\n",
    "CUDA = torch.cuda.is_available()\n",
    "if CUDA:\n",
    "    model = model.cuda()"
   ]
  },
  {
   "cell_type": "code",
   "execution_count": 13,
   "metadata": {},
   "outputs": [],
   "source": [
    "criterion = nn.CrossEntropyLoss()\n",
    "optimizer = torch.optim.Adam(model.parameters(), lr=0.001)"
   ]
  },
  {
   "cell_type": "code",
   "execution_count": 14,
   "metadata": {},
   "outputs": [
    {
     "name": "stdout",
     "output_type": "stream",
     "text": [
      "Epoch [1/10]. Loss : 0.21335367858409882. Accuracy 0.8938833475112915\n",
      "Epoch [1/10]. Test Accuracy : 0.9437999725341797\n",
      "Epoch [2/10]. Loss : 0.11907872557640076. Accuracy 0.954200029373169\n",
      "Epoch [2/10]. Test Accuracy : 0.9629999995231628\n",
      "Epoch [3/10]. Loss : 0.0992632657289505. Accuracy 0.9677333235740662\n",
      "Epoch [3/10]. Test Accuracy : 0.9718999862670898\n",
      "Epoch [4/10]. Loss : 0.045757293701171875. Accuracy 0.975600004196167\n",
      "Epoch [4/10]. Test Accuracy : 0.9724999666213989\n",
      "Epoch [5/10]. Loss : 0.13561569154262543. Accuracy 0.9800166487693787\n",
      "Epoch [5/10]. Test Accuracy : 0.9739999771118164\n",
      "Epoch [6/10]. Loss : 0.05420176684856415. Accuracy 0.983833372592926\n",
      "Epoch [6/10]. Test Accuracy : 0.974399983882904\n",
      "Epoch [7/10]. Loss : 0.07793308049440384. Accuracy 0.9869166612625122\n",
      "Epoch [7/10]. Test Accuracy : 0.977400004863739\n",
      "Epoch [8/10]. Loss : 0.05281431972980499. Accuracy 0.9891999959945679\n",
      "Epoch [8/10]. Test Accuracy : 0.976699948310852\n",
      "Epoch [9/10]. Loss : 0.006511249113827944. Accuracy 0.9904833436012268\n",
      "Epoch [9/10]. Test Accuracy : 0.976699948310852\n",
      "Epoch [10/10]. Loss : 0.008220410905778408. Accuracy 0.9918333292007446\n",
      "Epoch [10/10]. Test Accuracy : 0.9770999550819397\n"
     ]
    }
   ],
   "source": [
    "epochs = 10\n",
    "train_corrects = []\n",
    "test_corrects = []\n",
    "for epoch in range(epochs):\n",
    "    train_corr = 0\n",
    "    test_corr = 0\n",
    "    for b, (X_train, y_train) in enumerate(train_loader):\n",
    "        if CUDA:\n",
    "            X_train = X_train.cuda()\n",
    "            y_train = y_train.cuda()\n",
    "            \n",
    "        y_pred = model(X_train.reshape(X_train.shape[0], -1))\n",
    "        loss = criterion(y_pred, y_train)\n",
    "\n",
    "        train_corr += (y_pred.argmax(1) == y_train).sum()\n",
    "        \n",
    "        optimizer.zero_grad()\n",
    "        loss.backward()\n",
    "        optimizer.step()\n",
    "    \n",
    "    train_corrects.append(train_corr.float() / len(train_data))\n",
    "    \n",
    "    print(f'Epoch [{epoch+1}/{epochs}]. Loss : {loss}. Accuracy {train_corr.float() / len(train_data) }')\n",
    "    \n",
    "    for t, (X_test, y_test) in enumerate(test_loader):\n",
    "        if CUDA:\n",
    "            X_test = X_test.cuda()\n",
    "            y_test = y_test.cuda()\n",
    "        with torch.no_grad():\n",
    "            y_pred = model(X_test.reshape(X_test.shape[0], -1))\n",
    "            test_corr += (y_pred.argmax(1) == y_test).sum()\n",
    "    test_corrects.append(test_corr.float() / len(test_data))\n",
    "    print(f'Epoch [{epoch+1}/{epochs}]. Test Accuracy : {test_corr.float() / len(test_data)}')"
   ]
  },
  {
   "cell_type": "code",
   "execution_count": 15,
   "metadata": {},
   "outputs": [
    {
     "data": {
      "text/plain": [
       "tensor([1, 0, 2])"
      ]
     },
     "execution_count": 15,
     "metadata": {},
     "output_type": "execute_result"
    }
   ],
   "source": [
    "torch.max(torch.tensor([[1,2,1],[4,2,1],[1,2,20],]),1)[1]"
   ]
  },
  {
   "cell_type": "code",
   "execution_count": 18,
   "metadata": {},
   "outputs": [
    {
     "data": {
      "text/plain": [
       "60000"
      ]
     },
     "execution_count": 18,
     "metadata": {},
     "output_type": "execute_result"
    }
   ],
   "source": [
    "len(train_data)"
   ]
  },
  {
   "cell_type": "code",
   "execution_count": 16,
   "metadata": {},
   "outputs": [
    {
     "data": {
      "text/plain": [
       "<matplotlib.legend.Legend at 0x26f39d34f08>"
      ]
     },
     "execution_count": 16,
     "metadata": {},
     "output_type": "execute_result"
    },
    {
     "data": {
      "image/png": "[encoded data removed]",
      "text/plain": [
       "<Figure size 432x288 with 1 Axes>"
      ]
     },
     "metadata": {
      "needs_background": "light"
     },
     "output_type": "display_data"
    }
   ],
   "source": [
    "plt.plot(train_corrects, label=\"Train Correct\")\n",
    "plt.plot(test_corrects, label=\"Test Correct\")\n",
    "plt.legend()"
   ]
  },
  {
   "cell_type": "code",
   "execution_count": null,
   "metadata": {},
   "outputs": [],
   "source": []
  }
 ],
 "metadata": {
  "kernelspec": {
   "display_name": "Python 3",
   "language": "python",
   "name": "python3"
  },
  "language_info": {
   "codemirror_mode": {
    "name": "ipython",
    "version": 3
   },
   "file_extension": ".py",
   "mimetype": "text/x-python",
   "name": "python",
   "nbconvert_exporter": "python",
   "pygments_lexer": "ipython3",
   "version": "3.7.4"
  }
 },
 "nbformat": 4,
 "nbformat_minor": 2
}
