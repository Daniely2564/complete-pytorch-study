{
 "cells": [
  {
   "cell_type": "code",
   "execution_count": 3,
   "metadata": {},
   "outputs": [],
   "source": [
    "import torch\n",
    "import torch.nn as nn\n",
    "import torchtext.data as ttd\n",
    "import numpy as np\n",
    "import pandas as pd\n",
    "import matplotlib.pyplot as plt\n",
    "from datetime import datetime"
   ]
  },
  {
   "cell_type": "code",
   "execution_count": 5,
   "metadata": {},
   "outputs": [
    {
     "data": {
      "text/html": [
       "<div>\n",
       "<style scoped>\n",
       "    .dataframe tbody tr th:only-of-type {\n",
       "        vertical-align: middle;\n",
       "    }\n",
       "\n",
       "    .dataframe tbody tr th {\n",
       "        vertical-align: top;\n",
       "    }\n",
       "\n",
       "    .dataframe thead th {\n",
       "        text-align: right;\n",
       "    }\n",
       "</style>\n",
       "<table border=\"1\" class=\"dataframe\">\n",
       "  <thead>\n",
       "    <tr style=\"text-align: right;\">\n",
       "      <th></th>\n",
       "      <th>label</th>\n",
       "      <th>data</th>\n",
       "    </tr>\n",
       "  </thead>\n",
       "  <tbody>\n",
       "    <tr>\n",
       "      <th>0</th>\n",
       "      <td>0</td>\n",
       "      <td>I like eggs and ham.</td>\n",
       "    </tr>\n",
       "    <tr>\n",
       "      <th>1</th>\n",
       "      <td>1</td>\n",
       "      <td>Eggs I like!</td>\n",
       "    </tr>\n",
       "    <tr>\n",
       "      <th>2</th>\n",
       "      <td>1</td>\n",
       "      <td>Ham and egg or just ham?</td>\n",
       "    </tr>\n",
       "  </tbody>\n",
       "</table>\n",
       "</div>"
      ],
      "text/plain": [
       "   label                      data\n",
       "0      0      I like eggs and ham.\n",
       "1      1              Eggs I like!\n",
       "2      1  Ham and egg or just ham?"
      ]
     },
     "execution_count": 5,
     "metadata": {},
     "output_type": "execute_result"
    }
   ],
   "source": [
    "# Creating a fake dataset\n",
    "data = {\n",
    "    \"label\":[0,1,1],\n",
    "    \"data\":[\n",
    "        \"I like eggs and ham.\",\n",
    "        \"Eggs I like!\",\n",
    "        \"Ham and egg or just ham?\"\n",
    "    ]\n",
    "}\n",
    "df = pd.DataFrame(data)\n",
    "df.to_csv(\"test.csv\", index=False)\n",
    "df"
   ]
  },
  {
   "cell_type": "code",
   "execution_count": 8,
   "metadata": {},
   "outputs": [],
   "source": [
    "TEXT = ttd.Field(sequential=True, batch_first=True, lower=True, tokenize='spacy', pad_first=True) # had to install spacy"
   ]
  },
  {
   "cell_type": "code",
   "execution_count": 9,
   "metadata": {},
   "outputs": [],
   "source": [
    "LABEL = ttd.Field(sequential=False, use_vocab=False, is_target=True)"
   ]
  },
  {
   "cell_type": "code",
   "execution_count": 17,
   "metadata": {},
   "outputs": [],
   "source": [
    "dataset = ttd.TabularDataset(\n",
    "    path='test.csv',\n",
    "    format='csv',\n",
    "    skip_header=True,\n",
    "    fields=[('label', LABEL),('data',TEXT)] # Must follow the order of the column\n",
    ")\n",
    "# Also what we declare in the field ('label', Label), we will access label by dataset.label"
   ]
  },
  {
   "cell_type": "code",
   "execution_count": 20,
   "metadata": {},
   "outputs": [
    {
     "name": "stdout",
     "output_type": "stream",
     "text": [
      "Data ['i', 'like', 'eggs', 'and', 'ham', '.']\n",
      "Index 0\n"
     ]
    }
   ],
   "source": [
    "ex = dataset.examples[0]\n",
    "print(\"Data\",ex.data)\n",
    "print(\"Index\", ex.label)"
   ]
  },
  {
   "cell_type": "code",
   "execution_count": 21,
   "metadata": {},
   "outputs": [],
   "source": [
    "train_dataset, test_dataset = dataset.split(0.66)"
   ]
  },
  {
   "cell_type": "code",
   "execution_count": 22,
   "metadata": {},
   "outputs": [],
   "source": [
    "TEXT.build_vocab(train_dataset,)\n",
    "vocab = TEXT.vocab"
   ]
  },
  {
   "cell_type": "code",
   "execution_count": 25,
   "metadata": {},
   "outputs": [
    {
     "data": {
      "text/plain": [
       "defaultdict(<bound method Vocab._default_unk_index of <torchtext.vocab.Vocab object at 0x000001D38BE81880>>,\n",
       "            {'<unk>': 0,\n",
       "             '<pad>': 1,\n",
       "             'eggs': 2,\n",
       "             'i': 3,\n",
       "             'like': 4,\n",
       "             '!': 5,\n",
       "             '.': 6,\n",
       "             'and': 7,\n",
       "             'ham': 8})"
      ]
     },
     "execution_count": 25,
     "metadata": {},
     "output_type": "execute_result"
    }
   ],
   "source": [
    "vocab.stoi"
   ]
  },
  {
   "cell_type": "code",
   "execution_count": 26,
   "metadata": {},
   "outputs": [
    {
     "data": {
      "text/plain": [
       "['<unk>', '<pad>', 'eggs', 'i', 'like', '!', '.', 'and', 'ham']"
      ]
     },
     "execution_count": 26,
     "metadata": {},
     "output_type": "execute_result"
    }
   ],
   "source": [
    "vocab.itos"
   ]
  },
  {
   "cell_type": "code",
   "execution_count": 29,
   "metadata": {},
   "outputs": [
    {
     "name": "stdout",
     "output_type": "stream",
     "text": [
      "cpu\n"
     ]
    }
   ],
   "source": [
    "device = torch.device(\"cuda:0\" if torch.cuda.is_available() else \"cpu\")\n",
    "print(device)"
   ]
  },
  {
   "cell_type": "code",
   "execution_count": 30,
   "metadata": {},
   "outputs": [],
   "source": [
    "train_iter, test_iter = ttd.Iterator.splits(\n",
    "    (train_dataset, test_dataset),\n",
    "    sort_key=lambda x : len(x.data),\n",
    "    batch_sizes=(2,2),\n",
    "    device=device\n",
    ")"
   ]
  },
  {
   "cell_type": "code",
   "execution_count": 38,
   "metadata": {},
   "outputs": [
    {
     "name": "stdout",
     "output_type": "stream",
     "text": [
      "inputs: tensor([[1, 1, 2, 3, 4, 5],\n",
      "        [3, 4, 2, 7, 8, 6]]) shape: torch.Size([2, 6])\n",
      "targets: tensor([1, 0]) shape: torch.Size([2])\n"
     ]
    }
   ],
   "source": [
    "for inputs, targets in train_iter:\n",
    "    print(\"inputs:\", inputs, \"shape:\", inputs.shape)\n",
    "    print(\"targets:\", targets, \"shape:\", targets.shape)"
   ]
  },
  {
   "cell_type": "code",
   "execution_count": 32,
   "metadata": {},
   "outputs": [
    {
     "name": "stdout",
     "output_type": "stream",
     "text": [
      "inputs: tensor([[8, 7, 0, 0, 0, 8, 0]]) shape: torch.Size([1, 7])\n",
      "targets: tensor([1]) shape: torch.Size([1])\n"
     ]
    }
   ],
   "source": [
    "for inputs, targets in test_iter:\n",
    "    print(\"inputs:\", inputs, \"shape:\", inputs.shape)\n",
    "    print(\"targets:\", targets, \"shape:\", targets.shape)"
   ]
  },
  {
   "cell_type": "code",
   "execution_count": 40,
   "metadata": {},
   "outputs": [
    {
     "name": "stdout",
     "output_type": "stream",
     "text": [
      "i\n",
      "like\n",
      "eggs\n",
      "and\n",
      "ham\n",
      ".\n"
     ]
    }
   ],
   "source": [
    "for i in inputs[1]:\n",
    "    print(vocab.itos[i])"
   ]
  },
  {
   "cell_type": "code",
   "execution_count": null,
   "metadata": {},
   "outputs": [],
   "source": []
  }
 ],
 "metadata": {
  "kernelspec": {
   "display_name": "Python 3",
   "language": "python",
   "name": "python3"
  },
  "language_info": {
   "codemirror_mode": {
    "name": "ipython",
    "version": 3
   },
   "file_extension": ".py",
   "mimetype": "text/x-python",
   "name": "python",
   "nbconvert_exporter": "python",
   "pygments_lexer": "ipython3",
   "version": "3.8.3"
  }
 },
 "nbformat": 4,
 "nbformat_minor": 4
}
