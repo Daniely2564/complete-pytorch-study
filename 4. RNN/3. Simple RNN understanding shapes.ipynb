{
 "cells": [
  {
   "cell_type": "code",
   "execution_count": 30,
   "metadata": {},
   "outputs": [],
   "source": [
    "import torch\n",
    "import torch.nn as nn\n",
    "import numpy as np\n",
    "import matplotlib.pyplot as plt"
   ]
  },
  {
   "cell_type": "markdown",
   "metadata": {},
   "source": [
    "### Things we must know and have memorized\n",
    "\n",
    "<b>N</b> = Number of samples<br> \n",
    "<b>T</b> = sequence length<br> \n",
    "<b>D</b> = number of input features<br> \n",
    "<b>M</b> = number of hidden units<br> \n",
    "<b>K</b> = number of output units<br> "
   ]
  },
  {
   "cell_type": "code",
   "execution_count": 31,
   "metadata": {},
   "outputs": [],
   "source": [
    "# Make some data\n",
    "N = 2\n",
    "T = 10\n",
    "D = 3\n",
    "M = 5\n",
    "K = 3\n",
    "L = 10\n",
    "X = np.random.randn(N,T,D)"
   ]
  },
  {
   "cell_type": "code",
   "execution_count": 32,
   "metadata": {},
   "outputs": [],
   "source": [
    "X = torch.tensor(X, dtype=torch.float64)"
   ]
  },
  {
   "cell_type": "code",
   "execution_count": 33,
   "metadata": {},
   "outputs": [],
   "source": [
    "rnn = nn.RNN(\n",
    "    input_size=D,\n",
    "    hidden_size=M, \n",
    "    num_layers=L,\n",
    "    nonlinearity='tanh',\n",
    "    batch_first=True\n",
    ")"
   ]
  },
  {
   "cell_type": "code",
   "execution_count": 34,
   "metadata": {},
   "outputs": [],
   "source": [
    "h0 = torch.zeros(L, X.shape[0], M)"
   ]
  },
  {
   "cell_type": "code",
   "execution_count": 35,
   "metadata": {},
   "outputs": [
    {
     "data": {
      "text/plain": [
       "2"
      ]
     },
     "execution_count": 35,
     "metadata": {},
     "output_type": "execute_result"
    }
   ],
   "source": [
    "X.shape[0]"
   ]
  },
  {
   "cell_type": "code",
   "execution_count": 36,
   "metadata": {},
   "outputs": [],
   "source": [
    "res = rnn(X.float())"
   ]
  },
  {
   "cell_type": "code",
   "execution_count": 37,
   "metadata": {
    "scrolled": true
   },
   "outputs": [
    {
     "data": {
      "text/plain": [
       "(tensor([[[ 0.2370, -0.2558,  0.2140, -0.0504,  0.6318],\n",
       "          [ 0.0515, -0.4174,  0.1617, -0.3254,  0.5345],\n",
       "          [ 0.0015, -0.4065,  0.3219, -0.2141,  0.6447],\n",
       "          [ 0.0368, -0.3391,  0.3138, -0.2494,  0.5711],\n",
       "          [ 0.0327, -0.3043,  0.3527, -0.2301,  0.5847],\n",
       "          [ 0.0532, -0.2837,  0.3397, -0.2205,  0.5689],\n",
       "          [ 0.0571, -0.2957,  0.3389, -0.2237,  0.5653],\n",
       "          [ 0.0539, -0.3010,  0.3415, -0.2242,  0.5680],\n",
       "          [ 0.0527, -0.3010,  0.3423, -0.2240,  0.5691],\n",
       "          [ 0.0524, -0.3000,  0.3431, -0.2247,  0.5691]],\n",
       " \n",
       "         [[ 0.2369, -0.2560,  0.2143, -0.0504,  0.6318],\n",
       "          [ 0.0508, -0.4182,  0.1629, -0.3253,  0.5350],\n",
       "          [ 0.0008, -0.4074,  0.3240, -0.2144,  0.6448],\n",
       "          [ 0.0370, -0.3375,  0.3151, -0.2498,  0.5705],\n",
       "          [ 0.0339, -0.3021,  0.3527, -0.2297,  0.5833],\n",
       "          [ 0.0559, -0.2820,  0.3373, -0.2198,  0.5668],\n",
       "          [ 0.0577, -0.2983,  0.3375, -0.2230,  0.5653],\n",
       "          [ 0.0535, -0.3036,  0.3407, -0.2249,  0.5690],\n",
       "          [ 0.0520, -0.3010,  0.3420, -0.2250,  0.5696],\n",
       "          [ 0.0520, -0.2990,  0.3427, -0.2243,  0.5695]]],\n",
       "        grad_fn=<TransposeBackward1>),\n",
       " tensor([[[-4.3784e-01,  1.2219e-01, -7.3218e-03,  6.2071e-02,  8.0507e-01],\n",
       "          [-3.1248e-01, -2.4412e-01, -1.9636e-01,  2.6166e-03,  8.7456e-01]],\n",
       " \n",
       "         [[ 1.0792e-01,  5.3397e-01,  2.0746e-01,  1.9686e-01, -1.3751e-01],\n",
       "          [-6.6563e-01,  4.2190e-01,  3.5226e-01,  3.7737e-01, -3.8509e-01]],\n",
       " \n",
       "         [[ 4.9057e-01, -3.4103e-01, -3.1189e-02,  7.6928e-02,  4.3370e-02],\n",
       "          [ 6.1453e-01, -6.5804e-01, -3.0719e-01, -2.4899e-01, -2.6362e-01]],\n",
       " \n",
       "         [[ 3.8903e-01,  4.4924e-01, -6.4645e-01,  5.5153e-01,  5.6114e-01],\n",
       "          [ 3.7872e-01,  5.1369e-01, -7.3696e-01,  5.9898e-01,  4.9849e-01]],\n",
       " \n",
       "         [[-2.0531e-01,  7.1413e-02,  6.6115e-01,  3.9551e-01,  6.5926e-01],\n",
       "          [-2.4180e-01,  1.1026e-02,  6.6763e-01,  4.4556e-01,  6.7058e-01]],\n",
       " \n",
       "         [[-1.7232e-01, -4.4599e-01,  2.3194e-01,  8.1722e-04,  7.8554e-01],\n",
       "          [-1.7932e-01, -4.4352e-01,  2.1919e-01,  8.7680e-03,  7.9946e-01]],\n",
       " \n",
       "         [[ 4.4246e-01, -2.4222e-01,  1.7965e-01,  3.6035e-02, -4.6494e-01],\n",
       "          [ 4.4297e-01, -2.4640e-01,  1.8760e-01,  3.8104e-02, -4.6563e-01]],\n",
       " \n",
       "         [[-4.0380e-01,  3.0589e-02, -5.2045e-01, -4.7578e-01,  1.8622e-01],\n",
       "          [-4.0517e-01,  2.8312e-02, -5.2025e-01, -4.7857e-01,  1.8387e-01]],\n",
       " \n",
       "         [[-4.3188e-01,  3.1334e-01, -4.2912e-01,  3.4790e-01,  4.9549e-01],\n",
       "          [-4.3173e-01,  3.1318e-01, -4.2930e-01,  3.4646e-01,  4.9601e-01]],\n",
       " \n",
       "         [[ 5.2380e-02, -3.0002e-01,  3.4309e-01, -2.2469e-01,  5.6908e-01],\n",
       "          [ 5.2008e-02, -2.9903e-01,  3.4274e-01, -2.2428e-01,  5.6947e-01]]],\n",
       "        grad_fn=<StackBackward>))"
      ]
     },
     "execution_count": 37,
     "metadata": {},
     "output_type": "execute_result"
    }
   ],
   "source": [
    "res"
   ]
  },
  {
   "cell_type": "code",
   "execution_count": 38,
   "metadata": {},
   "outputs": [],
   "source": [
    "# (num_samples, sequence_length, num_features)\n",
    "out = res[0]"
   ]
  },
  {
   "cell_type": "code",
   "execution_count": 39,
   "metadata": {},
   "outputs": [
    {
     "data": {
      "text/plain": [
       "torch.Size([2, 10, 5])"
      ]
     },
     "execution_count": 39,
     "metadata": {},
     "output_type": "execute_result"
    }
   ],
   "source": [
    "out.shape"
   ]
  },
  {
   "cell_type": "code",
   "execution_count": 40,
   "metadata": {},
   "outputs": [
    {
     "data": {
      "text/plain": [
       "tensor([[ 0.0524, -0.3000,  0.3431, -0.2247,  0.5691],\n",
       "        [ 0.0520, -0.2990,  0.3427, -0.2243,  0.5695]],\n",
       "       grad_fn=<SliceBackward>)"
      ]
     },
     "execution_count": 40,
     "metadata": {},
     "output_type": "execute_result"
    }
   ],
   "source": [
    "out[:,-1,:]"
   ]
  },
  {
   "cell_type": "code",
   "execution_count": null,
   "metadata": {},
   "outputs": [],
   "source": []
  }
 ],
 "metadata": {
  "kernelspec": {
   "display_name": "Python 3",
   "language": "python",
   "name": "python3"
  },
  "language_info": {
   "codemirror_mode": {
    "name": "ipython",
    "version": 3
   },
   "file_extension": ".py",
   "mimetype": "text/x-python",
   "name": "python",
   "nbconvert_exporter": "python",
   "pygments_lexer": "ipython3",
   "version": "3.6.8"
  }
 },
 "nbformat": 4,
 "nbformat_minor": 2
}
