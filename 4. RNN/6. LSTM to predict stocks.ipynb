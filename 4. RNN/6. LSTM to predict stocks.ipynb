{
 "cells": [
  {
   "cell_type": "code",
   "execution_count": 300,
   "metadata": {},
   "outputs": [],
   "source": [
    "import torch\n",
    "import torch.nn as nn\n",
    "import torch.nn.functional as F\n",
    "import numpy as np\n",
    "import pandas as pd\n",
    "import matplotlib.pyplot as plt"
   ]
  },
  {
   "cell_type": "code",
   "execution_count": 301,
   "metadata": {},
   "outputs": [],
   "source": [
    "companies = ['DKNG','FB','MSFT','GOOG']\n",
    "data = pd.read_csv(f\"../Data/stocks/{companies[2]}.csv\")"
   ]
  },
  {
   "cell_type": "code",
   "execution_count": 302,
   "metadata": {},
   "outputs": [],
   "source": [
    "close = data['Close'].values"
   ]
  },
  {
   "cell_type": "code",
   "execution_count": 303,
   "metadata": {},
   "outputs": [
    {
     "data": {
      "image/png": "[encoded data removed]",
      "text/plain": [
       "<Figure size 432x288 with 1 Axes>"
      ]
     },
     "metadata": {
      "needs_background": "light"
     },
     "output_type": "display_data"
    }
   ],
   "source": [
    "plt.plot(close)\n",
    "plt.show()"
   ]
  },
  {
   "cell_type": "code",
   "execution_count": 304,
   "metadata": {},
   "outputs": [],
   "source": [
    "T = 15\n",
    "X = []\n",
    "Y = []\n",
    "for t in range(len(close)-T):\n",
    "    x = close[t:t+T]\n",
    "    X.append(x)\n",
    "    y = close[t+T]\n",
    "    Y.append(y)"
   ]
  },
  {
   "cell_type": "code",
   "execution_count": 305,
   "metadata": {},
   "outputs": [],
   "source": [
    "X = np.array(X).reshape(-1,T,1)\n",
    "Y = np.array(Y).reshape(-1,1)"
   ]
  },
  {
   "cell_type": "code",
   "execution_count": 306,
   "metadata": {},
   "outputs": [
    {
     "name": "stdout",
     "output_type": "stream",
     "text": [
      "X.shape (1244, 15, 1) Y.shape (1244, 1)\n"
     ]
    }
   ],
   "source": [
    "print(\"X.shape\",X.shape, \"Y.shape\",Y.shape)"
   ]
  },
  {
   "cell_type": "code",
   "execution_count": 307,
   "metadata": {},
   "outputs": [
    {
     "data": {
      "text/plain": [
       "device(type='cuda', index=0)"
      ]
     },
     "execution_count": 307,
     "metadata": {},
     "output_type": "execute_result"
    }
   ],
   "source": [
    "device = torch.device(\"cuda:0\" if torch.cuda.is_available() else \"cpu\")\n",
    "device"
   ]
  },
  {
   "cell_type": "code",
   "execution_count": 308,
   "metadata": {},
   "outputs": [],
   "source": [
    "### Define LSTM\n",
    "class LSTM(nn.Module):\n",
    "    def __init__(self, n_inputs, n_hiddens, n_rnnlayers, n_outputs, n_fc_hidden):\n",
    "        super().__init__()\n",
    "        self.D = n_inputs\n",
    "        self.M = n_hiddens\n",
    "        self.K = n_outputs\n",
    "        self.L = n_rnnlayers\n",
    "        \n",
    "        self.lstm = nn.LSTM(\n",
    "            input_size=self.D,\n",
    "            hidden_size=self.M,\n",
    "            num_layers=self.L,\n",
    "            batch_first=True\n",
    "        )\n",
    "        self.fc = nn.Linear(self.M, n_fc_hidden)\n",
    "        self.fc2 = nn.Linear(n_fc_hidden, n_outputs)\n",
    "        \n",
    "    def forward(self, X):\n",
    "        # Initial Hidden states and Cell states\n",
    "        h0 = torch.zeros(self.L, X.shape[0], self.M).to(device)\n",
    "        c0 = torch.zeros(self.L, X.shape[0], self.M).to(device)\n",
    "        \n",
    "        # get LSTM output\n",
    "        # out is of size (N, T, M)\n",
    "        out, _ = self.lstm(X,(h0,c0))\n",
    "        \n",
    "        # we only use h(t) at the final timestep\n",
    "        out = F.relu(self.fc(out[:,-1,:]))\n",
    "        out = self.fc2(out)\n",
    "        return out"
   ]
  },
  {
   "cell_type": "code",
   "execution_count": 309,
   "metadata": {},
   "outputs": [
    {
     "data": {
      "text/plain": [
       "LSTM(\n",
       "  (lstm): LSTM(1, 130, num_layers=3, batch_first=True)\n",
       "  (fc): Linear(in_features=130, out_features=50, bias=True)\n",
       "  (fc2): Linear(in_features=50, out_features=1, bias=True)\n",
       ")"
      ]
     },
     "execution_count": 309,
     "metadata": {},
     "output_type": "execute_result"
    }
   ],
   "source": [
    "model = LSTM(n_inputs=1, n_hiddens=130, n_rnnlayers=3, n_outputs=1,n_fc_hidden=50)\n",
    "model.to(device)"
   ]
  },
  {
   "cell_type": "code",
   "execution_count": 310,
   "metadata": {},
   "outputs": [],
   "source": [
    "criterion = nn.MSELoss()\n",
    "optimizer = torch.optim.Adam(model.parameters(), lr=0.001)"
   ]
  },
  {
   "cell_type": "code",
   "execution_count": 311,
   "metadata": {},
   "outputs": [],
   "source": [
    "# Make inputs and targets\n",
    "X_train = torch.from_numpy(X[:-T].astype(np.float32))\n",
    "y_train = torch.from_numpy(Y[:-T].astype(np.float32))\n",
    "X_test = torch.from_numpy(X[-T:].astype(np.float32))\n",
    "y_test = torch.from_numpy(Y[-T:].astype(np.float32))"
   ]
  },
  {
   "cell_type": "code",
   "execution_count": 312,
   "metadata": {},
   "outputs": [],
   "source": [
    "X_train, y_train, X_test, y_test = X_train.to(device), y_train.to(device), X_test.to(device), y_test.to(device)"
   ]
  },
  {
   "cell_type": "code",
   "execution_count": 313,
   "metadata": {},
   "outputs": [],
   "source": [
    "def full_gd(model, criterion, optimizer, X_train, y_train, X_test, y_test, epochs=200):\n",
    "    # Storing losses.\n",
    "    train_losses = np.zeros(epochs)\n",
    "    test_losses = np.zeros(epochs)\n",
    "    \n",
    "    for epoch in range(epochs):\n",
    "        optimizer.zero_grad()\n",
    "        \n",
    "        # Forward Pass\n",
    "        outputs = model(X_train)\n",
    "        loss = criterion(outputs, y_train)\n",
    "        \n",
    "        # Backward Optimization\n",
    "        loss.backward()\n",
    "        optimizer.step()\n",
    "        \n",
    "        # Save loss\n",
    "        train_losses[epoch] = loss.item()\n",
    "        \n",
    "        # Test loss\n",
    "        test_outputs = model(X_test)\n",
    "        test_loss = criterion(test_outputs, y_test)\n",
    "        test_losses[epoch] = test_loss.item()\n",
    "        \n",
    "        if (epoch + 1) % 100 == 0:\n",
    "            print(f'Epoch [{epoch+1}/{epochs}]. Train loss : {loss.item():.3f}. Test loss : {test_loss.item():.3f}')\n",
    "            \n",
    "\n",
    "    return train_losses, test_losses"
   ]
  },
  {
   "cell_type": "code",
   "execution_count": 314,
   "metadata": {},
   "outputs": [
    {
     "name": "stdout",
     "output_type": "stream",
     "text": [
      "Epoch [100/3000]. Train loss : 3075.348. Test loss : 20684.514\n",
      "Epoch [200/3000]. Train loss : 1912.974. Test loss : 12215.176\n",
      "Epoch [300/3000]. Train loss : 1912.907. Test loss : 12268.818\n",
      "Epoch [400/3000]. Train loss : 1912.907. Test loss : 12269.082\n",
      "Epoch [500/3000]. Train loss : 1912.906. Test loss : 12269.077\n",
      "Epoch [600/3000]. Train loss : 1912.903. Test loss : 12269.073\n",
      "Epoch [700/3000]. Train loss : 1912.420. Test loss : 12267.984\n",
      "Epoch [800/3000]. Train loss : 119.287. Test loss : 2412.028\n",
      "Epoch [900/3000]. Train loss : 15.291. Test loss : 374.226\n",
      "Epoch [1000/3000]. Train loss : 6.928. Test loss : 140.976\n",
      "Epoch [1100/3000]. Train loss : 5.486. Test loss : 102.429\n",
      "Epoch [1200/3000]. Train loss : 5.156. Test loss : 95.611\n",
      "Epoch [1300/3000]. Train loss : 4.974. Test loss : 93.163\n",
      "Epoch [1400/3000]. Train loss : 4.833. Test loss : 91.640\n",
      "Epoch [1500/3000]. Train loss : 4.728. Test loss : 85.302\n",
      "Epoch [1600/3000]. Train loss : 4.522. Test loss : 82.862\n",
      "Epoch [1700/3000]. Train loss : 4.747. Test loss : 85.560\n",
      "Epoch [1800/3000]. Train loss : 4.359. Test loss : 79.739\n",
      "Epoch [1900/3000]. Train loss : 4.145. Test loss : 82.471\n",
      "Epoch [2000/3000]. Train loss : 4.101. Test loss : 83.217\n",
      "Epoch [2100/3000]. Train loss : 4.344. Test loss : 78.984\n",
      "Epoch [2200/3000]. Train loss : 3.790. Test loss : 72.740\n",
      "Epoch [2300/3000]. Train loss : 4.035. Test loss : 74.528\n",
      "Epoch [2400/3000]. Train loss : 4.372. Test loss : 75.877\n",
      "Epoch [2500/3000]. Train loss : 3.595. Test loss : 70.965\n",
      "Epoch [2600/3000]. Train loss : 3.433. Test loss : 82.018\n",
      "Epoch [2700/3000]. Train loss : 3.363. Test loss : 87.571\n",
      "Epoch [2800/3000]. Train loss : 3.009. Test loss : 85.150\n",
      "Epoch [2900/3000]. Train loss : 2.987. Test loss : 100.542\n",
      "Epoch [3000/3000]. Train loss : 2.736. Test loss : 109.380\n"
     ]
    }
   ],
   "source": [
    "train_losses, test_losses = full_gd(model, criterion, optimizer, X_train, y_train, X_test, y_test, epochs=3000)"
   ]
  },
  {
   "cell_type": "code",
   "execution_count": 315,
   "metadata": {},
   "outputs": [
    {
     "data": {
      "image/png": "[encoded data removed]",
      "text/plain": [
       "<Figure size 432x288 with 1 Axes>"
      ]
     },
     "metadata": {
      "needs_background": "light"
     },
     "output_type": "display_data"
    }
   ],
   "source": [
    "# Plot the train loss and test loss per iteration\n",
    "plt.plot(train_losses, label='Train Loss')\n",
    "plt.plot(test_losses, label='Test Loss')\n",
    "plt.legend()\n",
    "plt.show()"
   ]
  },
  {
   "cell_type": "code",
   "execution_count": 316,
   "metadata": {},
   "outputs": [],
   "source": [
    "# \"Wrong\" forecast using true target\n",
    "validation_target = Y[-T:]\n",
    "validation_predictions = []\n",
    "\n",
    "# index of first validation input\n",
    "i = 0\n",
    "\n",
    "while len(validation_predictions) < len(validation_target):\n",
    "    input_ = X_test[i].reshape(1, T, 1)\n",
    "    p = model(input_)[0,0].item()\n",
    "    i += 1\n",
    "    \n",
    "    # Update the prediction list\n",
    "    validation_predictions.append(p)"
   ]
  },
  {
   "cell_type": "code",
   "execution_count": 317,
   "metadata": {},
   "outputs": [
    {
     "data": {
      "image/png": "[encoded data removed]",
      "text/plain": [
       "<Figure size 432x288 with 1 Axes>"
      ]
     },
     "metadata": {
      "needs_background": "light"
     },
     "output_type": "display_data"
    }
   ],
   "source": [
    "plt.plot(validation_target, label='Forecast Target')\n",
    "plt.plot(validation_predictions, label='Forecast prediction')\n",
    "plt.legend()\n",
    "plt.show()"
   ]
  },
  {
   "cell_type": "code",
   "execution_count": 318,
   "metadata": {},
   "outputs": [],
   "source": [
    "validation_target = Y[-T//2:]\n",
    "validation_predictions = []\n",
    "\n",
    "last_x = X_test[0].view(T)\n",
    "\n",
    "while len(validation_predictions) < len(validation_target):\n",
    "    input_ = last_x.reshape(1,T,1)\n",
    "    p = model(input_)\n",
    "    # [0, 0]. 1 x 1 array -> scalar\n",
    "    \n",
    "    # Update the prediction list\n",
    "    validation_predictions.append(p[0,0].item())\n",
    "    \n",
    "    last_x = torch.cat((last_x[1:], p[0]))"
   ]
  },
  {
   "cell_type": "code",
   "execution_count": 319,
   "metadata": {},
   "outputs": [
    {
     "data": {
      "image/png": "[encoded data removed]",
      "text/plain": [
       "<Figure size 432x288 with 1 Axes>"
      ]
     },
     "metadata": {
      "needs_background": "light"
     },
     "output_type": "display_data"
    }
   ],
   "source": [
    "plt.plot(validation_target, label='Forecast Target')\n",
    "plt.plot(validation_predictions, label='Forecast prediction')\n",
    "plt.legend()\n",
    "plt.show()"
   ]
  },
  {
   "cell_type": "code",
   "execution_count": null,
   "metadata": {},
   "outputs": [],
   "source": []
  }
 ],
 "metadata": {
  "kernelspec": {
   "display_name": "Python 3",
   "language": "python",
   "name": "python3"
  },
  "language_info": {
   "codemirror_mode": {
    "name": "ipython",
    "version": 3
   },
   "file_extension": ".py",
   "mimetype": "text/x-python",
   "name": "python",
   "nbconvert_exporter": "python",
   "pygments_lexer": "ipython3",
   "version": "3.7.4"
  }
 },
 "nbformat": 4,
 "nbformat_minor": 2
}
