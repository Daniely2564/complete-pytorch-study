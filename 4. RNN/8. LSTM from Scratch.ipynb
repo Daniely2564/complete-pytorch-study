{
 "cells": [
  {
   "cell_type": "markdown",
   "metadata": {},
   "source": [
    "# LSTM\n",
    "<img src=\"../img/lstm_im.png/\">"
   ]
  },
  {
   "cell_type": "markdown",
   "metadata": {},
   "source": [
    "Let:\n",
    "\n",
    "$fn$ = Number of features\n",
    "\n",
    "$hs$ = Number of output nodes (hidden size)\n",
    "\n",
    "$bs$ = Batch size\n",
    "\n",
    "Then:\n",
    " * Each $W_{something}$ matrix below has the shape $(fn, hs)$;\n",
    " * Each $U_{something}$ matrix below has the shape $(hs, hs)$;\n",
    " * Each $b_{something}$ matrix below has the shape $(1, hs)$;\n",
    " * The $x_t$ matrix below has shape $(bs, fn)$, corresponding to the element of index $t$ of each sequence inf the batch.; and\n",
    " * The $h_t$ matrix below has shape $(bs, hs)$, corresponding to hidden state at time $t$ of each sequence inf the batch.\n",
    "\n",
    "And:"
   ]
  },
  {
   "cell_type": "markdown",
   "metadata": {},
   "source": [
    "$f_t = \\sigma(W_f \\ x_t + U_f \\ h_{t-1} + b_f)$\n",
    "\n",
    "$i_t = \\sigma(W_i \\ x_t + U_i \\ h_{t-1} + b_i)$\n",
    "\n",
    "$o_t = \\sigma(W_o \\ x_t + U_o \\ h_{t-1} + b_o)$\n",
    "\n",
    "$g_t = \\tanh \\ (W_g \\ x_t + U_g \\ h_{t-1} + b_g)$ a.k.a. $\\tilde{c}_t$\n",
    "\n",
    "$c_t = f_t \\circ c_{t-1} + i_t \\circ g_t$\n",
    "\n",
    "$h_t = o_t \\circ \\tanh \\ (c_t)$"
   ]
  },
  {
   "cell_type": "markdown",
   "metadata": {},
   "source": [
    "<a src=\"https://colah.github.io/posts/2015-08-Understanding-LSTMs/\" target=\"_blank\">Source</a>"
   ]
  },
  {
   "cell_type": "code",
   "execution_count": 11,
   "metadata": {},
   "outputs": [],
   "source": [
    "import torch\n",
    "import torch.nn as nn\n",
    "import torch.nn.functional as F"
   ]
  },
  {
   "cell_type": "code",
   "execution_count": 98,
   "metadata": {},
   "outputs": [
    {
     "data": {
      "text/plain": [
       "device(type='cpu')"
      ]
     },
     "execution_count": 98,
     "metadata": {},
     "output_type": "execute_result"
    }
   ],
   "source": [
    "device = torch.device(\"cuda:0\" if torch.cuda.is_available() else \"cpu\")\n",
    "device"
   ]
  },
  {
   "cell_type": "markdown",
   "metadata": {},
   "source": [
    "## LSTM FROM SCARTCH Finished Version"
   ]
  },
  {
   "cell_type": "code",
   "execution_count": 97,
   "metadata": {},
   "outputs": [],
   "source": [
    "class LSTM(nn.Module):\n",
    "    def __init__(self, input_size, hidden_size, device):\n",
    "        super(LSTM, self).__init__()\n",
    "        self.device = device\n",
    "        self.W_xf, self.W_hf, self.b_f = torch.randn(input_size, hidden_size), torch.randn(hidden_size, hidden_size), torch.zeros(hidden_size)\n",
    "        self.W_xi, self.W_hi, self.b_i = torch.randn(input_size, hidden_size), torch.randn(hidden_size, hidden_size), torch.zeros(hidden_size)\n",
    "        self.W_xo, self.W_ho, self.b_o = torch.randn(input_size, hidden_size), torch.randn(hidden_size, hidden_size), torch.zeros(hidden_size)\n",
    "        self.W_xc, self.W_hc, self.b_c = torch.randn(input_size, hidden_size), torch.randn(hidden_size, hidden_size), torch.zeros(hidden_size)\n",
    "        \n",
    "    def forward(self, X, state):\n",
    "        prev_h, prev_c = state\n",
    "        batch_size, timesteps, _  = X.shape\n",
    "        hidden_seq = []\n",
    "        for t in range(timesteps):\n",
    "            x = X[:,t,:]\n",
    "            forget_gate = torch.sigmoid(x @ self.W_xf + prev_h @ self.W_hf + self.b_f)\n",
    "            input_gate = torch.sigmoid(x @ self.W_xi + prev_h @ self.W_hf + self.b_i)\n",
    "            output_gate = torch.sigmoid(x @ self.W_xo + prev_h @ self.W_ho + self.b_o)\n",
    "            C_tilda = torch.tanh(x @ self.W_xc + prev_h @ self.W_hc + self.b_c)\n",
    "            Ct = forget_gate * prev_c + input_gate * C_tilda\n",
    "            Ht = output_gate * torch.tanh(Ct)\n",
    "            hidden_seq.append(Ht.unsqueeze(0))\n",
    "        hidden_seq = torch.cat(hidden_seq, dim=0)\n",
    "        hidden_seq = hidden_seq.permute(1, 0, 2)\n",
    "        \n",
    "        return hidden_seq, hidden_seq_2"
   ]
  },
  {
   "cell_type": "code",
   "execution_count": 89,
   "metadata": {},
   "outputs": [],
   "source": [
    "INPUT_SIZE = 20 \n",
    "HIDDEN_SIZE = 10\n",
    "SEQ_LEN = 30\n",
    "lstm = LSTM(INPUT_SIZE, HIDDEN_SIZE, device)"
   ]
  },
  {
   "cell_type": "code",
   "execution_count": 90,
   "metadata": {},
   "outputs": [],
   "source": [
    "X = torch.randn(SEQ_LEN, 10, INPUT_SIZE)"
   ]
  },
  {
   "cell_type": "code",
   "execution_count": 91,
   "metadata": {},
   "outputs": [],
   "source": [
    "h0 = torch.zeros(SEQ_LEN, HIDDEN_SIZE)\n",
    "c0 = torch.zeros(SEQ_LEN, HIDDEN_SIZE)\n",
    "ht = lstm(X, (h0, c0))"
   ]
  },
  {
   "cell_type": "code",
   "execution_count": 92,
   "metadata": {},
   "outputs": [
    {
     "data": {
      "text/plain": [
       "torch.Size([30, 10, 10])"
      ]
     },
     "execution_count": 92,
     "metadata": {},
     "output_type": "execute_result"
    }
   ],
   "source": [
    "ht[0].shape"
   ]
  },
  {
   "cell_type": "code",
   "execution_count": 93,
   "metadata": {},
   "outputs": [
    {
     "data": {
      "text/plain": [
       "torch.Size([30, 10, 10])"
      ]
     },
     "execution_count": 93,
     "metadata": {},
     "output_type": "execute_result"
    }
   ],
   "source": [
    "ht[1].shape"
   ]
  },
  {
   "cell_type": "code",
   "execution_count": 99,
   "metadata": {},
   "outputs": [
    {
     "data": {
      "text/plain": [
       "(tensor([[[ 8.1236e-03, -5.6972e-01, -1.9282e-01,  ...,  3.3110e-03,\n",
       "           -1.4730e-02,  4.3709e-01],\n",
       "          [ 4.3937e-04, -3.1241e-04,  4.2398e-04,  ...,  5.7878e-02,\n",
       "           -6.2739e-01,  7.3442e-03],\n",
       "          [ 5.4506e-01, -1.5308e-03,  9.1636e-06,  ...,  1.4428e-01,\n",
       "            9.9743e-03, -1.3020e-01],\n",
       "          ...,\n",
       "          [ 8.4202e-02,  4.8387e-01, -1.2761e-03,  ..., -5.8824e-01,\n",
       "            6.6815e-02, -4.9246e-05],\n",
       "          [-7.2291e-01, -7.0754e-05, -7.3520e-01,  ..., -6.3249e-06,\n",
       "            2.1674e-01,  1.4758e-01],\n",
       "          [-1.9841e-02,  3.2707e-02,  5.9956e-01,  ...,  1.1214e-03,\n",
       "           -2.2702e-02, -1.1928e-01]],\n",
       " \n",
       "         [[ 2.8724e-04, -4.8192e-01,  4.1065e-04,  ...,  7.4646e-01,\n",
       "            5.6220e-01, -5.0417e-01],\n",
       "          [-5.3685e-01,  1.7344e-02, -2.5793e-01,  ..., -1.4721e-05,\n",
       "            4.2095e-04,  2.6854e-04],\n",
       "          [ 7.5432e-01,  5.7725e-04,  4.4640e-01,  ...,  1.2265e-01,\n",
       "            3.9054e-03, -5.4287e-01],\n",
       "          ...,\n",
       "          [-5.2733e-01,  6.0030e-03, -6.7438e-01,  ..., -6.3234e-06,\n",
       "            4.8065e-02, -5.0032e-01],\n",
       "          [-7.3943e-03,  6.5263e-02,  4.4157e-01,  ..., -4.4190e-03,\n",
       "            7.0261e-02,  1.6623e-01],\n",
       "          [ 6.9882e-03,  1.0242e-03, -3.0410e-01,  ..., -5.4114e-01,\n",
       "           -1.8177e-03,  3.2587e-04]],\n",
       " \n",
       "         [[-1.2847e-04, -2.4472e-03, -4.6475e-03,  ..., -6.6324e-04,\n",
       "            1.5718e-04,  1.3464e-01],\n",
       "          [ 2.8702e-02,  6.1237e-01, -1.0530e-02,  ..., -1.3082e-01,\n",
       "            1.0448e-04, -7.8534e-02],\n",
       "          [-9.3193e-04,  7.5441e-01, -1.5794e-02,  ..., -9.1553e-10,\n",
       "           -3.8326e-04, -9.7904e-02],\n",
       "          ...,\n",
       "          [-7.0321e-02,  6.2922e-01, -8.5653e-04,  ..., -5.4416e-02,\n",
       "            5.1854e-08, -3.7122e-02],\n",
       "          [ 3.6788e-02, -1.0482e-02, -2.9961e-01,  ..., -3.1484e-01,\n",
       "            4.4582e-01, -2.8063e-03],\n",
       "          [ 4.4173e-03,  2.7019e-02,  1.7774e-01,  ...,  1.6468e-01,\n",
       "            7.2962e-01, -5.3867e-01]],\n",
       " \n",
       "         ...,\n",
       " \n",
       "         [[ 7.5388e-05, -4.2416e-01, -7.2098e-02,  ..., -8.5140e-03,\n",
       "            5.1654e-02,  3.1114e-03],\n",
       "          [-5.2869e-01,  2.3016e-01, -2.8706e-01,  ..., -1.0298e-07,\n",
       "           -3.6261e-03,  2.9967e-01],\n",
       "          [ 8.3984e-02,  1.8841e-01,  2.7984e-01,  ..., -9.0215e-08,\n",
       "           -4.8245e-01, -5.1374e-02],\n",
       "          ...,\n",
       "          [ 4.2837e-01,  5.1750e-02,  1.6897e-02,  ...,  2.5121e-01,\n",
       "           -6.1395e-01, -3.1737e-01],\n",
       "          [-4.4958e-04,  1.1242e-01,  6.8011e-01,  ..., -2.3849e-04,\n",
       "            1.5416e-04,  8.1020e-04],\n",
       "          [ 2.6031e-02, -1.9194e-02,  1.7002e-03,  ...,  9.6661e-02,\n",
       "            2.2130e-04, -1.8357e-03]],\n",
       " \n",
       "         [[-3.1246e-04,  1.0488e-02, -6.6775e-01,  ..., -1.8217e-02,\n",
       "            1.7736e-02,  5.7331e-02],\n",
       "          [-4.8956e-01,  2.4029e-01,  2.3346e-01,  ..., -4.2608e-03,\n",
       "           -4.3914e-01,  1.3364e-03],\n",
       "          [-1.1734e-03, -6.9755e-02, -1.8994e-03,  ..., -5.6198e-01,\n",
       "            3.8660e-02,  2.7349e-05],\n",
       "          ...,\n",
       "          [ 4.7431e-02,  3.9038e-01, -4.6588e-01,  ...,  5.0943e-04,\n",
       "           -8.9514e-02,  7.2338e-01],\n",
       "          [-7.6720e-03, -1.4104e-02, -1.7498e-02,  ..., -4.5821e-02,\n",
       "            2.4208e-04,  3.8483e-08],\n",
       "          [-7.3983e-01,  1.5400e-02, -6.9186e-01,  ...,  2.7453e-01,\n",
       "           -1.0679e-03,  2.5819e-02]],\n",
       " \n",
       "         [[ 9.3802e-04,  7.0699e-01, -1.5760e-02,  ..., -2.2266e-01,\n",
       "            7.1660e-06, -5.5817e-01],\n",
       "          [ 3.1410e-05,  7.4243e-01,  7.3702e-03,  ..., -1.9039e-06,\n",
       "            2.6098e-01, -1.8927e-01],\n",
       "          [ 6.9279e-04, -2.0889e-02,  3.1076e-01,  ...,  6.8427e-02,\n",
       "           -3.5164e-01, -5.3051e-01],\n",
       "          ...,\n",
       "          [-4.5244e-02,  9.2332e-02,  1.1580e-01,  ..., -7.7034e-03,\n",
       "           -1.0172e-01, -5.8665e-03],\n",
       "          [ 4.2200e-01,  4.4605e-03,  5.6003e-01,  ..., -2.1368e-06,\n",
       "           -3.8043e-02, -3.1237e-01],\n",
       "          [-1.1365e-03,  4.9211e-01, -2.5631e-01,  ..., -1.8229e-01,\n",
       "           -1.9068e-03,  1.8912e-03]]]),\n",
       " tensor([[[ 8.1236e-03, -5.6972e-01, -1.9282e-01,  ...,  3.3110e-03,\n",
       "           -1.4730e-02,  4.3709e-01],\n",
       "          [ 4.3937e-04, -3.1241e-04,  4.2398e-04,  ...,  5.7878e-02,\n",
       "           -6.2739e-01,  7.3442e-03],\n",
       "          [ 5.4506e-01, -1.5308e-03,  9.1636e-06,  ...,  1.4428e-01,\n",
       "            9.9743e-03, -1.3020e-01],\n",
       "          ...,\n",
       "          [ 8.4202e-02,  4.8387e-01, -1.2761e-03,  ..., -5.8824e-01,\n",
       "            6.6815e-02, -4.9246e-05],\n",
       "          [-7.2291e-01, -7.0754e-05, -7.3520e-01,  ..., -6.3249e-06,\n",
       "            2.1674e-01,  1.4758e-01],\n",
       "          [-1.9841e-02,  3.2707e-02,  5.9956e-01,  ...,  1.1214e-03,\n",
       "           -2.2702e-02, -1.1928e-01]],\n",
       " \n",
       "         [[ 2.8724e-04, -4.8192e-01,  4.1065e-04,  ...,  7.4646e-01,\n",
       "            5.6220e-01, -5.0417e-01],\n",
       "          [-5.3685e-01,  1.7344e-02, -2.5793e-01,  ..., -1.4721e-05,\n",
       "            4.2095e-04,  2.6854e-04],\n",
       "          [ 7.5432e-01,  5.7725e-04,  4.4640e-01,  ...,  1.2265e-01,\n",
       "            3.9054e-03, -5.4287e-01],\n",
       "          ...,\n",
       "          [-5.2733e-01,  6.0030e-03, -6.7438e-01,  ..., -6.3234e-06,\n",
       "            4.8065e-02, -5.0032e-01],\n",
       "          [-7.3943e-03,  6.5263e-02,  4.4157e-01,  ..., -4.4190e-03,\n",
       "            7.0261e-02,  1.6623e-01],\n",
       "          [ 6.9882e-03,  1.0242e-03, -3.0410e-01,  ..., -5.4114e-01,\n",
       "           -1.8177e-03,  3.2587e-04]],\n",
       " \n",
       "         [[-1.2847e-04, -2.4472e-03, -4.6475e-03,  ..., -6.6324e-04,\n",
       "            1.5718e-04,  1.3464e-01],\n",
       "          [ 2.8702e-02,  6.1237e-01, -1.0530e-02,  ..., -1.3082e-01,\n",
       "            1.0448e-04, -7.8534e-02],\n",
       "          [-9.3193e-04,  7.5441e-01, -1.5794e-02,  ..., -9.1553e-10,\n",
       "           -3.8326e-04, -9.7904e-02],\n",
       "          ...,\n",
       "          [-7.0321e-02,  6.2922e-01, -8.5653e-04,  ..., -5.4416e-02,\n",
       "            5.1854e-08, -3.7122e-02],\n",
       "          [ 3.6788e-02, -1.0482e-02, -2.9961e-01,  ..., -3.1484e-01,\n",
       "            4.4582e-01, -2.8063e-03],\n",
       "          [ 4.4173e-03,  2.7019e-02,  1.7774e-01,  ...,  1.6468e-01,\n",
       "            7.2962e-01, -5.3867e-01]],\n",
       " \n",
       "         ...,\n",
       " \n",
       "         [[ 7.5388e-05, -4.2416e-01, -7.2098e-02,  ..., -8.5140e-03,\n",
       "            5.1654e-02,  3.1114e-03],\n",
       "          [-5.2869e-01,  2.3016e-01, -2.8706e-01,  ..., -1.0298e-07,\n",
       "           -3.6261e-03,  2.9967e-01],\n",
       "          [ 8.3984e-02,  1.8841e-01,  2.7984e-01,  ..., -9.0215e-08,\n",
       "           -4.8245e-01, -5.1374e-02],\n",
       "          ...,\n",
       "          [ 4.2837e-01,  5.1750e-02,  1.6897e-02,  ...,  2.5121e-01,\n",
       "           -6.1395e-01, -3.1737e-01],\n",
       "          [-4.4958e-04,  1.1242e-01,  6.8011e-01,  ..., -2.3849e-04,\n",
       "            1.5416e-04,  8.1020e-04],\n",
       "          [ 2.6031e-02, -1.9194e-02,  1.7002e-03,  ...,  9.6661e-02,\n",
       "            2.2130e-04, -1.8357e-03]],\n",
       " \n",
       "         [[-3.1246e-04,  1.0488e-02, -6.6775e-01,  ..., -1.8217e-02,\n",
       "            1.7736e-02,  5.7331e-02],\n",
       "          [-4.8956e-01,  2.4029e-01,  2.3346e-01,  ..., -4.2608e-03,\n",
       "           -4.3914e-01,  1.3364e-03],\n",
       "          [-1.1734e-03, -6.9755e-02, -1.8994e-03,  ..., -5.6198e-01,\n",
       "            3.8660e-02,  2.7349e-05],\n",
       "          ...,\n",
       "          [ 4.7431e-02,  3.9038e-01, -4.6588e-01,  ...,  5.0943e-04,\n",
       "           -8.9514e-02,  7.2338e-01],\n",
       "          [-7.6720e-03, -1.4104e-02, -1.7498e-02,  ..., -4.5821e-02,\n",
       "            2.4208e-04,  3.8483e-08],\n",
       "          [-7.3983e-01,  1.5400e-02, -6.9186e-01,  ...,  2.7453e-01,\n",
       "           -1.0679e-03,  2.5819e-02]],\n",
       " \n",
       "         [[ 9.3802e-04,  7.0699e-01, -1.5760e-02,  ..., -2.2266e-01,\n",
       "            7.1660e-06, -5.5817e-01],\n",
       "          [ 3.1410e-05,  7.4243e-01,  7.3702e-03,  ..., -1.9039e-06,\n",
       "            2.6098e-01, -1.8927e-01],\n",
       "          [ 6.9279e-04, -2.0889e-02,  3.1076e-01,  ...,  6.8427e-02,\n",
       "           -3.5164e-01, -5.3051e-01],\n",
       "          ...,\n",
       "          [-4.5244e-02,  9.2332e-02,  1.1580e-01,  ..., -7.7034e-03,\n",
       "           -1.0172e-01, -5.8665e-03],\n",
       "          [ 4.2200e-01,  4.4605e-03,  5.6003e-01,  ..., -2.1368e-06,\n",
       "           -3.8043e-02, -3.1237e-01],\n",
       "          [-1.1365e-03,  4.9211e-01, -2.5631e-01,  ..., -1.8229e-01,\n",
       "           -1.9068e-03,  1.8912e-03]]]))"
      ]
     },
     "execution_count": 99,
     "metadata": {},
     "output_type": "execute_result"
    }
   ],
   "source": [
    "ht"
   ]
  },
  {
   "cell_type": "code",
   "execution_count": 95,
   "metadata": {},
   "outputs": [
    {
     "data": {
      "text/plain": [
       "tensor([[ 8.1236e-03, -5.6972e-01, -1.9282e-01, -1.3982e-01,  5.3829e-01,\n",
       "          7.3191e-02,  3.1443e-02,  3.3110e-03, -1.4730e-02,  4.3709e-01],\n",
       "        [ 4.3937e-04, -3.1241e-04,  4.2398e-04,  5.1653e-02, -2.8496e-01,\n",
       "          2.0555e-01,  9.4550e-05,  5.7878e-02, -6.2739e-01,  7.3442e-03],\n",
       "        [ 5.4506e-01, -1.5308e-03,  9.1636e-06,  6.1318e-03,  1.3247e-01,\n",
       "         -1.0212e-04, -6.2275e-04,  1.4428e-01,  9.9743e-03, -1.3020e-01],\n",
       "        [-2.4175e-01,  4.3197e-01, -2.3800e-01,  1.7865e-02,  1.1318e-01,\n",
       "         -1.6723e-01,  5.5680e-03, -2.2768e-01, -4.3800e-02,  1.9391e-03],\n",
       "        [-5.3886e-02,  5.9305e-03,  5.6082e-02, -5.9841e-05, -4.6791e-01,\n",
       "          6.9016e-01,  1.1277e-06, -3.1930e-01,  7.2904e-01,  8.6519e-03],\n",
       "        [-1.0295e-01, -4.0401e-03,  1.4152e-03, -6.2615e-05, -2.0703e-02,\n",
       "          2.2247e-01,  3.6647e-01, -6.5065e-04,  1.4157e-02, -1.2546e-01],\n",
       "        [ 2.7497e-05, -7.3498e-01, -1.1131e-01, -1.5859e-02,  4.5274e-01,\n",
       "          2.9226e-01,  9.7908e-03,  2.0662e-03, -2.9317e-01, -4.3289e-01],\n",
       "        [ 8.4202e-02,  4.8387e-01, -1.2761e-03,  7.8218e-05,  5.3909e-02,\n",
       "          2.2347e-01, -1.6336e-03, -5.8824e-01,  6.6815e-02, -4.9246e-05],\n",
       "        [-7.2291e-01, -7.0754e-05, -7.3520e-01,  2.7845e-01, -3.9630e-01,\n",
       "         -2.5892e-02, -2.2098e-01, -6.3249e-06,  2.1674e-01,  1.4758e-01],\n",
       "        [-1.9841e-02,  3.2707e-02,  5.9956e-01, -1.0101e-04, -8.4585e-02,\n",
       "          3.1482e-01,  6.1164e-01,  1.1214e-03, -2.2702e-02, -1.1928e-01]])"
      ]
     },
     "execution_count": 95,
     "metadata": {},
     "output_type": "execute_result"
    }
   ],
   "source": [
    "ht[1][0]"
   ]
  },
  {
   "cell_type": "code",
   "execution_count": null,
   "metadata": {},
   "outputs": [],
   "source": []
  }
 ],
 "metadata": {
  "kernelspec": {
   "display_name": "Python 3",
   "language": "python",
   "name": "python3"
  },
  "language_info": {
   "codemirror_mode": {
    "name": "ipython",
    "version": 3
   },
   "file_extension": ".py",
   "mimetype": "text/x-python",
   "name": "python",
   "nbconvert_exporter": "python",
   "pygments_lexer": "ipython3",
   "version": "3.8.3"
  }
 },
 "nbformat": 4,
 "nbformat_minor": 4
}
