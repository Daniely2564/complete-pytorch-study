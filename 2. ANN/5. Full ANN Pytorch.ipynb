{
 "cells": [
  {
   "cell_type": "code",
   "execution_count": 1,
   "metadata": {},
   "outputs": [],
   "source": [
    "import torch\n",
    "import torch.nn as nn"
   ]
  },
  {
   "cell_type": "code",
   "execution_count": 2,
   "metadata": {},
   "outputs": [],
   "source": [
    "import numpy as np\n",
    "import pandas as pd\n",
    "import matplotlib.pyplot as plt"
   ]
  },
  {
   "cell_type": "code",
   "execution_count": 3,
   "metadata": {},
   "outputs": [],
   "source": [
    "df = pd.read_csv(\"../Data/NYCTaxiFares.csv\")"
   ]
  },
  {
   "cell_type": "code",
   "execution_count": 4,
   "metadata": {},
   "outputs": [
    {
     "data": {
      "text/html": [
       "<div>\n",
       "<style scoped>\n",
       "    .dataframe tbody tr th:only-of-type {\n",
       "        vertical-align: middle;\n",
       "    }\n",
       "\n",
       "    .dataframe tbody tr th {\n",
       "        vertical-align: top;\n",
       "    }\n",
       "\n",
       "    .dataframe thead th {\n",
       "        text-align: right;\n",
       "    }\n",
       "</style>\n",
       "<table border=\"1\" class=\"dataframe\">\n",
       "  <thead>\n",
       "    <tr style=\"text-align: right;\">\n",
       "      <th></th>\n",
       "      <th>pickup_datetime</th>\n",
       "      <th>fare_amount</th>\n",
       "      <th>fare_class</th>\n",
       "      <th>pickup_longitude</th>\n",
       "      <th>pickup_latitude</th>\n",
       "      <th>dropoff_longitude</th>\n",
       "      <th>dropoff_latitude</th>\n",
       "      <th>passenger_count</th>\n",
       "    </tr>\n",
       "  </thead>\n",
       "  <tbody>\n",
       "    <tr>\n",
       "      <th>0</th>\n",
       "      <td>2010-04-19 08:17:56 UTC</td>\n",
       "      <td>6.5</td>\n",
       "      <td>0</td>\n",
       "      <td>-73.992365</td>\n",
       "      <td>40.730521</td>\n",
       "      <td>-73.975499</td>\n",
       "      <td>40.744746</td>\n",
       "      <td>1</td>\n",
       "    </tr>\n",
       "    <tr>\n",
       "      <th>1</th>\n",
       "      <td>2010-04-17 15:43:53 UTC</td>\n",
       "      <td>6.9</td>\n",
       "      <td>0</td>\n",
       "      <td>-73.990078</td>\n",
       "      <td>40.740558</td>\n",
       "      <td>-73.974232</td>\n",
       "      <td>40.744114</td>\n",
       "      <td>1</td>\n",
       "    </tr>\n",
       "    <tr>\n",
       "      <th>2</th>\n",
       "      <td>2010-04-17 11:23:26 UTC</td>\n",
       "      <td>10.1</td>\n",
       "      <td>1</td>\n",
       "      <td>-73.994149</td>\n",
       "      <td>40.751118</td>\n",
       "      <td>-73.960064</td>\n",
       "      <td>40.766235</td>\n",
       "      <td>2</td>\n",
       "    </tr>\n",
       "    <tr>\n",
       "      <th>3</th>\n",
       "      <td>2010-04-11 21:25:03 UTC</td>\n",
       "      <td>8.9</td>\n",
       "      <td>0</td>\n",
       "      <td>-73.990485</td>\n",
       "      <td>40.756422</td>\n",
       "      <td>-73.971205</td>\n",
       "      <td>40.748192</td>\n",
       "      <td>1</td>\n",
       "    </tr>\n",
       "    <tr>\n",
       "      <th>4</th>\n",
       "      <td>2010-04-17 02:19:01 UTC</td>\n",
       "      <td>19.7</td>\n",
       "      <td>1</td>\n",
       "      <td>-73.990976</td>\n",
       "      <td>40.734202</td>\n",
       "      <td>-73.905956</td>\n",
       "      <td>40.743115</td>\n",
       "      <td>1</td>\n",
       "    </tr>\n",
       "  </tbody>\n",
       "</table>\n",
       "</div>"
      ],
      "text/plain": [
       "           pickup_datetime  fare_amount  fare_class  pickup_longitude  \\\n",
       "0  2010-04-19 08:17:56 UTC          6.5           0        -73.992365   \n",
       "1  2010-04-17 15:43:53 UTC          6.9           0        -73.990078   \n",
       "2  2010-04-17 11:23:26 UTC         10.1           1        -73.994149   \n",
       "3  2010-04-11 21:25:03 UTC          8.9           0        -73.990485   \n",
       "4  2010-04-17 02:19:01 UTC         19.7           1        -73.990976   \n",
       "\n",
       "   pickup_latitude  dropoff_longitude  dropoff_latitude  passenger_count  \n",
       "0        40.730521         -73.975499         40.744746                1  \n",
       "1        40.740558         -73.974232         40.744114                1  \n",
       "2        40.751118         -73.960064         40.766235                2  \n",
       "3        40.756422         -73.971205         40.748192                1  \n",
       "4        40.734202         -73.905956         40.743115                1  "
      ]
     },
     "execution_count": 4,
     "metadata": {},
     "output_type": "execute_result"
    }
   ],
   "source": [
    "df.head()"
   ]
  },
  {
   "cell_type": "code",
   "execution_count": 5,
   "metadata": {},
   "outputs": [
    {
     "data": {
      "text/html": [
       "<div>\n",
       "<style scoped>\n",
       "    .dataframe tbody tr th:only-of-type {\n",
       "        vertical-align: middle;\n",
       "    }\n",
       "\n",
       "    .dataframe tbody tr th {\n",
       "        vertical-align: top;\n",
       "    }\n",
       "\n",
       "    .dataframe thead th {\n",
       "        text-align: right;\n",
       "    }\n",
       "</style>\n",
       "<table border=\"1\" class=\"dataframe\">\n",
       "  <thead>\n",
       "    <tr style=\"text-align: right;\">\n",
       "      <th></th>\n",
       "      <th>fare_amount</th>\n",
       "      <th>fare_class</th>\n",
       "      <th>pickup_longitude</th>\n",
       "      <th>pickup_latitude</th>\n",
       "      <th>dropoff_longitude</th>\n",
       "      <th>dropoff_latitude</th>\n",
       "      <th>passenger_count</th>\n",
       "    </tr>\n",
       "  </thead>\n",
       "  <tbody>\n",
       "    <tr>\n",
       "      <th>count</th>\n",
       "      <td>120000.000000</td>\n",
       "      <td>120000.000000</td>\n",
       "      <td>120000.000000</td>\n",
       "      <td>120000.000000</td>\n",
       "      <td>120000.000000</td>\n",
       "      <td>120000.000000</td>\n",
       "      <td>120000.000000</td>\n",
       "    </tr>\n",
       "    <tr>\n",
       "      <th>mean</th>\n",
       "      <td>10.040326</td>\n",
       "      <td>0.333333</td>\n",
       "      <td>-73.976626</td>\n",
       "      <td>40.751443</td>\n",
       "      <td>-73.974501</td>\n",
       "      <td>40.751695</td>\n",
       "      <td>1.347167</td>\n",
       "    </tr>\n",
       "    <tr>\n",
       "      <th>std</th>\n",
       "      <td>7.500134</td>\n",
       "      <td>0.471406</td>\n",
       "      <td>0.031497</td>\n",
       "      <td>0.025821</td>\n",
       "      <td>0.032419</td>\n",
       "      <td>0.030279</td>\n",
       "      <td>0.759263</td>\n",
       "    </tr>\n",
       "    <tr>\n",
       "      <th>min</th>\n",
       "      <td>2.500000</td>\n",
       "      <td>0.000000</td>\n",
       "      <td>-74.465447</td>\n",
       "      <td>40.121653</td>\n",
       "      <td>-74.443323</td>\n",
       "      <td>40.164927</td>\n",
       "      <td>1.000000</td>\n",
       "    </tr>\n",
       "    <tr>\n",
       "      <th>25%</th>\n",
       "      <td>5.700000</td>\n",
       "      <td>0.000000</td>\n",
       "      <td>-73.992386</td>\n",
       "      <td>40.736594</td>\n",
       "      <td>-73.991478</td>\n",
       "      <td>40.735914</td>\n",
       "      <td>1.000000</td>\n",
       "    </tr>\n",
       "    <tr>\n",
       "      <th>50%</th>\n",
       "      <td>7.700000</td>\n",
       "      <td>0.000000</td>\n",
       "      <td>-73.982084</td>\n",
       "      <td>40.753661</td>\n",
       "      <td>-73.980411</td>\n",
       "      <td>40.754441</td>\n",
       "      <td>1.000000</td>\n",
       "    </tr>\n",
       "    <tr>\n",
       "      <th>75%</th>\n",
       "      <td>11.300000</td>\n",
       "      <td>1.000000</td>\n",
       "      <td>-73.968710</td>\n",
       "      <td>40.768020</td>\n",
       "      <td>-73.965500</td>\n",
       "      <td>40.768880</td>\n",
       "      <td>1.000000</td>\n",
       "    </tr>\n",
       "    <tr>\n",
       "      <th>max</th>\n",
       "      <td>49.900000</td>\n",
       "      <td>1.000000</td>\n",
       "      <td>-73.311845</td>\n",
       "      <td>40.981292</td>\n",
       "      <td>-73.496140</td>\n",
       "      <td>40.993498</td>\n",
       "      <td>5.000000</td>\n",
       "    </tr>\n",
       "  </tbody>\n",
       "</table>\n",
       "</div>"
      ],
      "text/plain": [
       "         fare_amount     fare_class  pickup_longitude  pickup_latitude  \\\n",
       "count  120000.000000  120000.000000     120000.000000    120000.000000   \n",
       "mean       10.040326       0.333333        -73.976626        40.751443   \n",
       "std         7.500134       0.471406          0.031497         0.025821   \n",
       "min         2.500000       0.000000        -74.465447        40.121653   \n",
       "25%         5.700000       0.000000        -73.992386        40.736594   \n",
       "50%         7.700000       0.000000        -73.982084        40.753661   \n",
       "75%        11.300000       1.000000        -73.968710        40.768020   \n",
       "max        49.900000       1.000000        -73.311845        40.981292   \n",
       "\n",
       "       dropoff_longitude  dropoff_latitude  passenger_count  \n",
       "count      120000.000000     120000.000000    120000.000000  \n",
       "mean          -73.974501         40.751695         1.347167  \n",
       "std             0.032419          0.030279         0.759263  \n",
       "min           -74.443323         40.164927         1.000000  \n",
       "25%           -73.991478         40.735914         1.000000  \n",
       "50%           -73.980411         40.754441         1.000000  \n",
       "75%           -73.965500         40.768880         1.000000  \n",
       "max           -73.496140         40.993498         5.000000  "
      ]
     },
     "execution_count": 5,
     "metadata": {},
     "output_type": "execute_result"
    }
   ],
   "source": [
    "df.describe()"
   ]
  },
  {
   "cell_type": "code",
   "execution_count": 6,
   "metadata": {},
   "outputs": [],
   "source": [
    "df['EDTdate'] = pd.to_datetime(df['pickup_datetime']) - pd.Timedelta(hours=4)"
   ]
  },
  {
   "cell_type": "code",
   "execution_count": 7,
   "metadata": {},
   "outputs": [],
   "source": [
    "def haversine_distance(df, lat1, long1, lat2, long2):\n",
    "    \"\"\"\n",
    "    Calculates the haversine distance between 2 sets of GPS coordinates in df\n",
    "    \"\"\"\n",
    "    r = 6371  # average radius of Earth in kilometers\n",
    "       \n",
    "    phi1 = np.radians(df[lat1])\n",
    "    phi2 = np.radians(df[lat2])\n",
    "    \n",
    "    delta_phi = np.radians(df[lat2]-df[lat1])\n",
    "    delta_lambda = np.radians(df[long2]-df[long1])\n",
    "     \n",
    "    a = np.sin(delta_phi/2)**2 + np.cos(phi1) * np.cos(phi2) * np.sin(delta_lambda/2)**2\n",
    "    c = 2 * np.arctan2(np.sqrt(a), np.sqrt(1-a))\n",
    "    d = (r * c) # in kilometers\n",
    "\n",
    "    return d"
   ]
  },
  {
   "cell_type": "code",
   "execution_count": 8,
   "metadata": {},
   "outputs": [],
   "source": [
    "df['dist_km'] = haversine_distance(df, 'pickup_latitude', 'pickup_longitude', 'dropoff_latitude', 'dropoff_longitude')"
   ]
  },
  {
   "cell_type": "code",
   "execution_count": 9,
   "metadata": {},
   "outputs": [],
   "source": [
    "df['Hour'] = df['EDTdate'].dt.hour"
   ]
  },
  {
   "cell_type": "code",
   "execution_count": 10,
   "metadata": {},
   "outputs": [],
   "source": [
    "df['AMorPM'] = np.where(df['Hour'] < 12, 'am','pm')"
   ]
  },
  {
   "cell_type": "code",
   "execution_count": 11,
   "metadata": {},
   "outputs": [],
   "source": [
    "df['Weekday'] = df['EDTdate'].dt.strftime(\"%a\")"
   ]
  },
  {
   "cell_type": "code",
   "execution_count": 12,
   "metadata": {},
   "outputs": [],
   "source": [
    "cat_cols = ['Hour','AMorPM','Weekday']"
   ]
  },
  {
   "cell_type": "code",
   "execution_count": 13,
   "metadata": {},
   "outputs": [],
   "source": [
    "for field in cat_cols:\n",
    "    df[field] = df[field].astype('category')"
   ]
  },
  {
   "cell_type": "code",
   "execution_count": 14,
   "metadata": {},
   "outputs": [],
   "source": [
    "con_cols = ['pickup_longitude',\n",
    "       'pickup_latitude', 'dropoff_longitude', 'dropoff_latitude',\n",
    "       'passenger_count', 'dist_km']"
   ]
  },
  {
   "cell_type": "code",
   "execution_count": 15,
   "metadata": {},
   "outputs": [],
   "source": [
    "cats = np.stack([df[cat].cat.codes.values for cat in cat_cols], axis=1)"
   ]
  },
  {
   "cell_type": "code",
   "execution_count": 16,
   "metadata": {},
   "outputs": [],
   "source": [
    "cons = np.stack([df[con].values for con in con_cols], axis=1)"
   ]
  },
  {
   "cell_type": "code",
   "execution_count": 17,
   "metadata": {},
   "outputs": [],
   "source": [
    "cat_sizes = [len(df[cat].cat.categories) for cat in cat_cols]"
   ]
  },
  {
   "cell_type": "code",
   "execution_count": 18,
   "metadata": {},
   "outputs": [],
   "source": [
    "emb_sizes = [(size, min(50, (size +1)//2 )) for size in cat_sizes]"
   ]
  },
  {
   "cell_type": "code",
   "execution_count": 19,
   "metadata": {},
   "outputs": [],
   "source": [
    "class TabularModel(nn.Module):\n",
    "    def __init__(self, emb_sizes, n_cont, out_sz, layers, p=0.5):\n",
    "        super().__init__()\n",
    "        self.embeds = nn.ModuleList([nn.Embedding(ni, nf) for ni, nf in emb_sizes])\n",
    "        self.emb_drop = nn.Dropout(p)\n",
    "        self.bn_cont = nn.BatchNorm1d(n_cont)\n",
    "        \n",
    "        n_emb = sum([nf for ni, nf in emb_sizes])\n",
    "        n_in = n_cont + n_emb\n",
    "        \n",
    "        layer_list = []\n",
    "        for layer in layers:\n",
    "            layer_list.append(nn.Linear(n_in, layer))\n",
    "            layer_list.append(nn.ReLU(inplace=True))\n",
    "            layer_list.append(nn.BatchNorm1d(layer))\n",
    "            layer_list.append(nn.Dropout(p))\n",
    "            n_in = layer\n",
    "            \n",
    "        layer_list.append(nn.Linear(layers[-1], out_sz))\n",
    "        self.layers = nn.Sequential(*layer_list)\n",
    "    \n",
    "    def forward(self, x_cat, x_con):\n",
    "        embeddings = []\n",
    "        \n",
    "        for i, e in enumerate(self.embeds):\n",
    "            embeddings.append(e(x_cat[:,i]))\n",
    "        x_cat = torch.cat(embeddings, axis=1)\n",
    "        x_cat = self.emb_drop(x_cat)\n",
    "        \n",
    "        x_con = self.bn_cont(x_con)\n",
    "        x = torch.cat([x_cat, x_con], axis=1)\n",
    "        x = self.layers(x)\n",
    "        return x"
   ]
  },
  {
   "cell_type": "code",
   "execution_count": 20,
   "metadata": {},
   "outputs": [],
   "source": [
    "torch.manual_seed(33)\n",
    "model = TabularModel(emb_sizes, cons.shape[1], 1, [400,200,100,50], p=.4)\n",
    "CUDA = torch.cuda.is_available()\n",
    "if CUDA:\n",
    "    model = model.cuda()"
   ]
  },
  {
   "cell_type": "code",
   "execution_count": 21,
   "metadata": {},
   "outputs": [
    {
     "data": {
      "text/plain": [
       "TabularModel(\n",
       "  (embeds): ModuleList(\n",
       "    (0): Embedding(24, 12)\n",
       "    (1): Embedding(2, 1)\n",
       "    (2): Embedding(7, 4)\n",
       "  )\n",
       "  (emb_drop): Dropout(p=0.4, inplace=False)\n",
       "  (bn_cont): BatchNorm1d(6, eps=1e-05, momentum=0.1, affine=True, track_running_stats=True)\n",
       "  (layers): Sequential(\n",
       "    (0): Linear(in_features=23, out_features=400, bias=True)\n",
       "    (1): ReLU(inplace=True)\n",
       "    (2): BatchNorm1d(400, eps=1e-05, momentum=0.1, affine=True, track_running_stats=True)\n",
       "    (3): Dropout(p=0.4, inplace=False)\n",
       "    (4): Linear(in_features=400, out_features=200, bias=True)\n",
       "    (5): ReLU(inplace=True)\n",
       "    (6): BatchNorm1d(200, eps=1e-05, momentum=0.1, affine=True, track_running_stats=True)\n",
       "    (7): Dropout(p=0.4, inplace=False)\n",
       "    (8): Linear(in_features=200, out_features=100, bias=True)\n",
       "    (9): ReLU(inplace=True)\n",
       "    (10): BatchNorm1d(100, eps=1e-05, momentum=0.1, affine=True, track_running_stats=True)\n",
       "    (11): Dropout(p=0.4, inplace=False)\n",
       "    (12): Linear(in_features=100, out_features=50, bias=True)\n",
       "    (13): ReLU(inplace=True)\n",
       "    (14): BatchNorm1d(50, eps=1e-05, momentum=0.1, affine=True, track_running_stats=True)\n",
       "    (15): Dropout(p=0.4, inplace=False)\n",
       "    (16): Linear(in_features=50, out_features=1, bias=True)\n",
       "  )\n",
       ")"
      ]
     },
     "execution_count": 21,
     "metadata": {},
     "output_type": "execute_result"
    }
   ],
   "source": [
    "model"
   ]
  },
  {
   "cell_type": "code",
   "execution_count": 22,
   "metadata": {},
   "outputs": [],
   "source": [
    "batch_size = 60000\n",
    "test_size = int(batch_size*.2)"
   ]
  },
  {
   "cell_type": "code",
   "execution_count": 23,
   "metadata": {},
   "outputs": [],
   "source": [
    "# Data was shuffled before I even loaded\n",
    "cat_train = torch.tensor(cats[:batch_size-test_size], dtype=torch.long)\n",
    "cat_test = torch.tensor(cats[batch_size-test_size:batch_size], dtype=torch.long)\n",
    "con_train = torch.tensor(cons[:batch_size-test_size], dtype=torch.float)\n",
    "con_test = torch.tensor(cons[batch_size-test_size:batch_size], dtype=torch.float)"
   ]
  },
  {
   "cell_type": "code",
   "execution_count": 24,
   "metadata": {},
   "outputs": [],
   "source": [
    "labels = torch.tensor(df['fare_amount'].values, dtype=torch.float).reshape(-1,1)\n",
    "y_train = labels[:batch_size-test_size]\n",
    "y_test = labels[batch_size-test_size:batch_size]"
   ]
  },
  {
   "cell_type": "code",
   "execution_count": 25,
   "metadata": {},
   "outputs": [],
   "source": [
    "criterion = nn.MSELoss()\n",
    "optimizer = torch.optim.Adam(model.parameters(), lr=.001)"
   ]
  },
  {
   "cell_type": "code",
   "execution_count": 26,
   "metadata": {},
   "outputs": [
    {
     "name": "stdout",
     "output_type": "stream",
     "text": [
      "Epoch [20/500]. Loss is 11.305451393127441\n",
      "Epoch [40/500]. Loss is 10.804606437683105\n",
      "Epoch [60/500]. Loss is 10.414175033569336\n",
      "Epoch [80/500]. Loss is 10.081148147583008\n",
      "Epoch [100/500]. Loss is 9.78172779083252\n",
      "Epoch [120/500]. Loss is 9.483381271362305\n",
      "Epoch [140/500]. Loss is 9.151167869567871\n",
      "Epoch [160/500]. Loss is 8.763978958129883\n",
      "Epoch [180/500]. Loss is 8.300594329833984\n",
      "Epoch [200/500]. Loss is 7.7646050453186035\n",
      "Epoch [220/500]. Loss is 7.161173343658447\n",
      "Epoch [240/500]. Loss is 6.496811389923096\n",
      "Epoch [260/500]. Loss is 5.801156520843506\n",
      "Epoch [280/500]. Loss is 5.161993026733398\n",
      "Epoch [300/500]. Loss is 4.614032745361328\n",
      "Epoch [320/500]. Loss is 4.209988117218018\n",
      "Epoch [340/500]. Loss is 3.963164806365967\n",
      "Epoch [360/500]. Loss is 3.824012279510498\n",
      "Epoch [380/500]. Loss is 3.7776038646698\n",
      "Epoch [400/500]. Loss is 3.6965131759643555\n",
      "Epoch [420/500]. Loss is 3.6419780254364014\n",
      "Epoch [440/500]. Loss is 3.6190345287323\n",
      "Epoch [460/500]. Loss is 3.5987179279327393\n",
      "Epoch [480/500]. Loss is 3.569387674331665\n",
      "Epoch [500/500]. Loss is 3.517788887023926\n",
      "Training took 59.13967680931091 seconds\n"
     ]
    }
   ],
   "source": [
    "import time\n",
    "\n",
    "start_time = time.time()\n",
    "\n",
    "epochs = 500\n",
    "\n",
    "losses = []\n",
    "\n",
    "for epoch in range(epochs):\n",
    "    if CUDA:\n",
    "        cat_train = cat_train.cuda()\n",
    "        con_train = con_train.cuda()\n",
    "        y_train = y_train.cuda()\n",
    "    y_pred = model(cat_train, con_train)\n",
    "    loss = torch.sqrt(criterion(y_pred, y_train)) # Root MSE\n",
    "    losses.append(loss)\n",
    "    \n",
    "    if (epoch + 1) % 20 == 0:\n",
    "        print(\"Epoch [{}/{}]. Loss is {}\".format(epoch+1, epochs, loss))\n",
    "    optimizer.zero_grad()\n",
    "    loss.backward()\n",
    "    optimizer.step()\n",
    "    \n",
    "duration = time.time() - start_time\n",
    "print('Training took {} seconds'.format(duration))"
   ]
  },
  {
   "cell_type": "code",
   "execution_count": 27,
   "metadata": {},
   "outputs": [
    {
     "data": {
      "text/plain": [
       "[<matplotlib.lines.Line2D at 0x1953d103b70>]"
      ]
     },
     "execution_count": 27,
     "metadata": {},
     "output_type": "execute_result"
    },
    {
     "data": {
      "image/png": "[encoded data removed]",
      "text/plain": [
       "<Figure size 432x288 with 1 Axes>"
      ]
     },
     "metadata": {
      "needs_background": "light"
     },
     "output_type": "display_data"
    }
   ],
   "source": [
    "plt.plot(range(epochs), losses)"
   ]
  },
  {
   "cell_type": "code",
   "execution_count": 28,
   "metadata": {},
   "outputs": [
    {
     "name": "stdout",
     "output_type": "stream",
     "text": [
      "RMSE: 3.51122642\n"
     ]
    }
   ],
   "source": [
    "# TO EVALUATE THE ENTIRE TEST SET\n",
    "with torch.no_grad():\n",
    "    if CUDA:\n",
    "        y_test = y_test.cuda()\n",
    "        cat_test = cat_test.cuda()\n",
    "        con_test = con_test.cuda()\n",
    "    y_val = model(cat_test, con_test)\n",
    "    loss = torch.sqrt(criterion(y_val, y_test))\n",
    "print(f'RMSE: {loss:.8f}')"
   ]
  },
  {
   "cell_type": "code",
   "execution_count": 29,
   "metadata": {},
   "outputs": [
    {
     "name": "stdout",
     "output_type": "stream",
     "text": [
      "0) PREDICTED :     5.31. TRUE :     2.90\n",
      "1) PREDICTED :    21.00. TRUE :     5.70\n",
      "2) PREDICTED :     4.82. TRUE :     7.70\n",
      "3) PREDICTED :    11.77. TRUE :    12.50\n",
      "4) PREDICTED :     5.52. TRUE :     4.10\n",
      "5) PREDICTED :     4.16. TRUE :     5.30\n",
      "6) PREDICTED :     3.00. TRUE :     3.70\n",
      "7) PREDICTED :    18.75. TRUE :    14.50\n",
      "8) PREDICTED :     4.69. TRUE :     5.70\n",
      "9) PREDICTED :     8.81. TRUE :    10.10\n",
      "10) PREDICTED :     2.85. TRUE :     4.50\n",
      "11) PREDICTED :     6.27. TRUE :     6.10\n",
      "12) PREDICTED :     6.84. TRUE :     6.90\n",
      "13) PREDICTED :    12.24. TRUE :    14.10\n",
      "14) PREDICTED :     4.83. TRUE :     4.50\n",
      "15) PREDICTED :    33.17. TRUE :    34.10\n",
      "16) PREDICTED :     4.81. TRUE :    12.50\n",
      "17) PREDICTED :     4.42. TRUE :     4.10\n",
      "18) PREDICTED :     8.03. TRUE :     8.50\n",
      "19) PREDICTED :     6.33. TRUE :     5.30\n",
      "20) PREDICTED :    15.66. TRUE :    11.30\n",
      "21) PREDICTED :    10.03. TRUE :    10.50\n",
      "22) PREDICTED :    19.46. TRUE :    15.30\n",
      "23) PREDICTED :    10.18. TRUE :    14.90\n",
      "24) PREDICTED :    62.99. TRUE :    49.57\n",
      "25) PREDICTED :     4.99. TRUE :     5.30\n",
      "26) PREDICTED :     5.42. TRUE :     3.70\n",
      "27) PREDICTED :     6.81. TRUE :     6.50\n",
      "28) PREDICTED :    15.59. TRUE :    14.10\n",
      "29) PREDICTED :     6.98. TRUE :     4.90\n"
     ]
    }
   ],
   "source": [
    "for i in range(30):\n",
    "    print(f\"{i}) PREDICTED : {y_val[i].item():8.2f}. TRUE : {y_test[i].item():8.2f}\")"
   ]
  },
  {
   "cell_type": "code",
   "execution_count": null,
   "metadata": {},
   "outputs": [],
   "source": []
  }
 ],
 "metadata": {
  "kernelspec": {
   "display_name": "Python 3",
   "language": "python",
   "name": "python3"
  },
  "language_info": {
   "codemirror_mode": {
    "name": "ipython",
    "version": 3
   },
   "file_extension": ".py",
   "mimetype": "text/x-python",
   "name": "python",
   "nbconvert_exporter": "python",
   "pygments_lexer": "ipython3",
   "version": "3.6.8"
  }
 },
 "nbformat": 4,
 "nbformat_minor": 2
}
