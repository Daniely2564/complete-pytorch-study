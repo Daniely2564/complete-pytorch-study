{
 "cells": [
  {
   "cell_type": "code",
   "execution_count": 22,
   "metadata": {},
   "outputs": [],
   "source": [
    "import torch\n",
    "import torch.nn as nn\n",
    "import matplotlib.pyplot as plt\n",
    "import numpy as np"
   ]
  },
  {
   "cell_type": "code",
   "execution_count": 2,
   "metadata": {},
   "outputs": [],
   "source": [
    "X = torch.linspace(1,50,50).reshape(-1,1)"
   ]
  },
  {
   "cell_type": "code",
   "execution_count": 3,
   "metadata": {},
   "outputs": [
    {
     "data": {
      "text/plain": [
       "tensor([[ 1.],\n",
       "        [ 2.],\n",
       "        [ 3.],\n",
       "        [ 4.],\n",
       "        [ 5.],\n",
       "        [ 6.],\n",
       "        [ 7.],\n",
       "        [ 8.],\n",
       "        [ 9.],\n",
       "        [10.],\n",
       "        [11.],\n",
       "        [12.],\n",
       "        [13.],\n",
       "        [14.],\n",
       "        [15.],\n",
       "        [16.],\n",
       "        [17.],\n",
       "        [18.],\n",
       "        [19.],\n",
       "        [20.],\n",
       "        [21.],\n",
       "        [22.],\n",
       "        [23.],\n",
       "        [24.],\n",
       "        [25.],\n",
       "        [26.],\n",
       "        [27.],\n",
       "        [28.],\n",
       "        [29.],\n",
       "        [30.],\n",
       "        [31.],\n",
       "        [32.],\n",
       "        [33.],\n",
       "        [34.],\n",
       "        [35.],\n",
       "        [36.],\n",
       "        [37.],\n",
       "        [38.],\n",
       "        [39.],\n",
       "        [40.],\n",
       "        [41.],\n",
       "        [42.],\n",
       "        [43.],\n",
       "        [44.],\n",
       "        [45.],\n",
       "        [46.],\n",
       "        [47.],\n",
       "        [48.],\n",
       "        [49.],\n",
       "        [50.]])"
      ]
     },
     "execution_count": 3,
     "metadata": {},
     "output_type": "execute_result"
    }
   ],
   "source": [
    "X"
   ]
  },
  {
   "cell_type": "code",
   "execution_count": 4,
   "metadata": {},
   "outputs": [],
   "source": [
    "torch.manual_seed(71)\n",
    "e = torch.randint(-8,9,(50,1), dtype=torch.float)"
   ]
  },
  {
   "cell_type": "code",
   "execution_count": 5,
   "metadata": {},
   "outputs": [
    {
     "data": {
      "text/plain": [
       "tensor([[ 2.],\n",
       "        [ 7.],\n",
       "        [ 2.],\n",
       "        [ 6.],\n",
       "        [ 2.],\n",
       "        [-4.],\n",
       "        [ 2.],\n",
       "        [-5.],\n",
       "        [ 4.],\n",
       "        [ 1.],\n",
       "        [ 2.],\n",
       "        [ 3.],\n",
       "        [ 1.],\n",
       "        [-8.],\n",
       "        [ 5.],\n",
       "        [ 5.],\n",
       "        [-6.],\n",
       "        [ 0.],\n",
       "        [-7.],\n",
       "        [-8.],\n",
       "        [-3.],\n",
       "        [-1.],\n",
       "        [ 2.],\n",
       "        [-6.],\n",
       "        [-3.],\n",
       "        [ 3.],\n",
       "        [ 2.],\n",
       "        [ 3.],\n",
       "        [ 4.],\n",
       "        [ 5.],\n",
       "        [ 1.],\n",
       "        [ 7.],\n",
       "        [ 6.],\n",
       "        [-1.],\n",
       "        [-6.],\n",
       "        [-5.],\n",
       "        [-3.],\n",
       "        [ 7.],\n",
       "        [ 0.],\n",
       "        [ 8.],\n",
       "        [-1.],\n",
       "        [-2.],\n",
       "        [ 2.],\n",
       "        [-8.],\n",
       "        [-1.],\n",
       "        [ 6.],\n",
       "        [-8.],\n",
       "        [-3.],\n",
       "        [-7.],\n",
       "        [-2.]])"
      ]
     },
     "execution_count": 5,
     "metadata": {},
     "output_type": "execute_result"
    }
   ],
   "source": [
    "e"
   ]
  },
  {
   "cell_type": "code",
   "execution_count": 6,
   "metadata": {},
   "outputs": [],
   "source": [
    "y = 2*X + 1 + e"
   ]
  },
  {
   "cell_type": "code",
   "execution_count": 7,
   "metadata": {},
   "outputs": [
    {
     "data": {
      "text/plain": [
       "tensor([[ 5.],\n",
       "        [12.],\n",
       "        [ 9.],\n",
       "        [15.],\n",
       "        [13.],\n",
       "        [ 9.],\n",
       "        [17.],\n",
       "        [12.],\n",
       "        [23.],\n",
       "        [22.],\n",
       "        [25.],\n",
       "        [28.],\n",
       "        [28.],\n",
       "        [21.],\n",
       "        [36.],\n",
       "        [38.],\n",
       "        [29.],\n",
       "        [37.],\n",
       "        [32.],\n",
       "        [33.],\n",
       "        [40.],\n",
       "        [44.],\n",
       "        [49.],\n",
       "        [43.],\n",
       "        [48.],\n",
       "        [56.],\n",
       "        [57.],\n",
       "        [60.],\n",
       "        [63.],\n",
       "        [66.],\n",
       "        [64.],\n",
       "        [72.],\n",
       "        [73.],\n",
       "        [68.],\n",
       "        [65.],\n",
       "        [68.],\n",
       "        [72.],\n",
       "        [84.],\n",
       "        [79.],\n",
       "        [89.],\n",
       "        [82.],\n",
       "        [83.],\n",
       "        [89.],\n",
       "        [81.],\n",
       "        [90.],\n",
       "        [99.],\n",
       "        [87.],\n",
       "        [94.],\n",
       "        [92.],\n",
       "        [99.]])"
      ]
     },
     "execution_count": 7,
     "metadata": {},
     "output_type": "execute_result"
    }
   ],
   "source": [
    "y"
   ]
  },
  {
   "cell_type": "code",
   "execution_count": 10,
   "metadata": {},
   "outputs": [
    {
     "data": {
      "text/plain": [
       "<matplotlib.collections.PathCollection at 0x22c0b23f888>"
      ]
     },
     "execution_count": 10,
     "metadata": {},
     "output_type": "execute_result"
    },
    {
     "data": {
      "image/png": "[encoded data removed]",
      "text/plain": [
       "<Figure size 432x288 with 1 Axes>"
      ]
     },
     "metadata": {
      "needs_background": "light"
     },
     "output_type": "display_data"
    }
   ],
   "source": [
    "plt.scatter(X.numpy(), y.numpy())"
   ]
  },
  {
   "cell_type": "code",
   "execution_count": 11,
   "metadata": {},
   "outputs": [
    {
     "name": "stdout",
     "output_type": "stream",
     "text": [
      "Parameter containing:\n",
      "tensor([[0.1060]], requires_grad=True)\n",
      "Parameter containing:\n",
      "tensor([0.9638], requires_grad=True)\n"
     ]
    }
   ],
   "source": [
    "torch.manual_seed(59)\n",
    "\n",
    "model = nn.Linear(in_features=1, out_features=1)\n",
    "print(model.weight)\n",
    "print(model.bias)"
   ]
  },
  {
   "cell_type": "code",
   "execution_count": 14,
   "metadata": {},
   "outputs": [],
   "source": [
    "class Model(nn.Module):\n",
    "    def __init__(self, in_features, out_features):\n",
    "        super().__init__()\n",
    "        self.linear = nn.Linear(in_features, out_features)\n",
    "        \n",
    "    def forward(self, x):\n",
    "        y_pred = self.linear(x)\n",
    "        return y_pred"
   ]
  },
  {
   "cell_type": "code",
   "execution_count": 15,
   "metadata": {},
   "outputs": [
    {
     "name": "stdout",
     "output_type": "stream",
     "text": [
      "Linear(in_features=1, out_features=1, bias=True)\n"
     ]
    }
   ],
   "source": [
    "torch.manual_seed(59)\n",
    "\n",
    "model = Model(1,1)\n",
    "\n",
    "print(model.linear)"
   ]
  },
  {
   "cell_type": "code",
   "execution_count": 17,
   "metadata": {},
   "outputs": [
    {
     "name": "stdout",
     "output_type": "stream",
     "text": [
      "Parameter containing:\n",
      "tensor([[0.1060]], requires_grad=True)\n",
      "Parameter containing:\n",
      "tensor([0.9638], requires_grad=True)\n"
     ]
    }
   ],
   "source": [
    "print(model.linear.weight)\n",
    "print(model.linear.bias)"
   ]
  },
  {
   "cell_type": "code",
   "execution_count": 18,
   "metadata": {},
   "outputs": [
    {
     "name": "stdout",
     "output_type": "stream",
     "text": [
      "linear.weight \t 0.10597813129425049\n",
      "linear.bias \t 0.9637961387634277\n"
     ]
    }
   ],
   "source": [
    "for name, param in model.named_parameters():\n",
    "    print(name,'\\t', param.item())"
   ]
  },
  {
   "cell_type": "code",
   "execution_count": 19,
   "metadata": {},
   "outputs": [
    {
     "name": "stdout",
     "output_type": "stream",
     "text": [
      "tensor([1.1758], grad_fn=<AddBackward0>)\n"
     ]
    }
   ],
   "source": [
    "x = torch.tensor([2.0])\n",
    "print(model.forward(x))"
   ]
  },
  {
   "cell_type": "code",
   "execution_count": 23,
   "metadata": {},
   "outputs": [],
   "source": [
    "x1 = np.linspace(0.0, 50.0, 50)"
   ]
  },
  {
   "cell_type": "code",
   "execution_count": 24,
   "metadata": {},
   "outputs": [],
   "source": [
    "w1 = 0.10597\n",
    "b1 = 0.96379"
   ]
  },
  {
   "cell_type": "code",
   "execution_count": 25,
   "metadata": {},
   "outputs": [],
   "source": [
    "y1 = w1 * x1 + b1"
   ]
  },
  {
   "cell_type": "code",
   "execution_count": 26,
   "metadata": {},
   "outputs": [
    {
     "data": {
      "text/plain": [
       "array([0.96379   , 1.07192265, 1.18005531, 1.28818796, 1.39632061,\n",
       "       1.50445327, 1.61258592, 1.72071857, 1.82885122, 1.93698388,\n",
       "       2.04511653, 2.15324918, 2.26138184, 2.36951449, 2.47764714,\n",
       "       2.5857798 , 2.69391245, 2.8020451 , 2.91017776, 3.01831041,\n",
       "       3.12644306, 3.23457571, 3.34270837, 3.45084102, 3.55897367,\n",
       "       3.66710633, 3.77523898, 3.88337163, 3.99150429, 4.09963694,\n",
       "       4.20776959, 4.31590224, 4.4240349 , 4.53216755, 4.6403002 ,\n",
       "       4.74843286, 4.85656551, 4.96469816, 5.07283082, 5.18096347,\n",
       "       5.28909612, 5.39722878, 5.50536143, 5.61349408, 5.72162673,\n",
       "       5.82975939, 5.93789204, 6.04602469, 6.15415735, 6.26229   ])"
      ]
     },
     "execution_count": 26,
     "metadata": {},
     "output_type": "execute_result"
    }
   ],
   "source": [
    "y1"
   ]
  },
  {
   "cell_type": "code",
   "execution_count": 27,
   "metadata": {},
   "outputs": [
    {
     "data": {
      "text/plain": [
       "<matplotlib.collections.PathCollection at 0x22c0d05f988>"
      ]
     },
     "execution_count": 27,
     "metadata": {},
     "output_type": "execute_result"
    },
    {
     "data": {
      "image/png": "[encoded data removed]",
      "text/plain": [
       "<Figure size 432x288 with 1 Axes>"
      ]
     },
     "metadata": {
      "needs_background": "light"
     },
     "output_type": "display_data"
    }
   ],
   "source": [
    "plt.plot(x1,y1,'r')\n",
    "plt.scatter(X.numpy(), y.numpy())"
   ]
  },
  {
   "cell_type": "code",
   "execution_count": 28,
   "metadata": {},
   "outputs": [],
   "source": [
    "criterion = nn.MSELoss()"
   ]
  },
  {
   "cell_type": "code",
   "execution_count": null,
   "metadata": {},
   "outputs": [],
   "source": [
    " "
   ]
  }
 ],
 "metadata": {
  "kernelspec": {
   "display_name": "Python 3",
   "language": "python",
   "name": "python3"
  },
  "language_info": {
   "codemirror_mode": {
    "name": "ipython",
    "version": 3
   },
   "file_extension": ".py",
   "mimetype": "text/x-python",
   "name": "python",
   "nbconvert_exporter": "python",
   "pygments_lexer": "ipython3",
   "version": "3.7.4"
  }
 },
 "nbformat": 4,
 "nbformat_minor": 2
}
