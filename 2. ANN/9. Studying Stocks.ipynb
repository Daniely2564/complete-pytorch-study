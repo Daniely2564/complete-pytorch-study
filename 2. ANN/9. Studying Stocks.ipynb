{
 "cells": [
  {
   "cell_type": "code",
   "execution_count": 1024,
   "metadata": {},
   "outputs": [],
   "source": [
    "import numpy as np\n",
    "import pandas as pd\n",
    "import matplotlib.pyplot as plt"
   ]
  },
  {
   "cell_type": "code",
   "execution_count": 1025,
   "metadata": {},
   "outputs": [],
   "source": [
    "import torch\n",
    "import torch.nn as nn"
   ]
  },
  {
   "cell_type": "code",
   "execution_count": 1026,
   "metadata": {},
   "outputs": [],
   "source": [
    "df1 = pd.read_csv(\"./MSFT.csv\")\n",
    "df2 = pd.read_csv(\"./FB.csv\")"
   ]
  },
  {
   "cell_type": "code",
   "execution_count": 1027,
   "metadata": {},
   "outputs": [],
   "source": [
    "data = df1['Close'].values"
   ]
  },
  {
   "cell_type": "code",
   "execution_count": 1028,
   "metadata": {},
   "outputs": [],
   "source": [
    "T = 20\n",
    "X = []\n",
    "Y = []\n",
    "\n",
    "for t in range(len(data)- 2 * T):\n",
    "    x = data[t:t+T]\n",
    "    X.append(x)\n",
    "    y = data[t+T: t+T*2]\n",
    "    Y.append(y)"
   ]
  },
  {
   "cell_type": "code",
   "execution_count": 1029,
   "metadata": {},
   "outputs": [],
   "source": [
    "class ANN(nn.Module):\n",
    "    def __init__(self, input_no, output_no, hidden_layers):\n",
    "        super().__init__()\n",
    "        layers = []\n",
    "        \n",
    "        no_in = input_no\n",
    "        for h in hidden_layers:\n",
    "            layers.append(nn.Linear(no_in, h))\n",
    "            layers.append(nn.ReLU(inplace=True))\n",
    "            \n",
    "            no_in = h\n",
    "            \n",
    "        layers.append(nn.Linear(hidden_layers[-1], output_no))\n",
    "        self.layer = nn.Sequential(*layers)\n",
    "    def forward(self,X):\n",
    "        out = self.layer(X)\n",
    "        return out"
   ]
  },
  {
   "cell_type": "code",
   "execution_count": 1030,
   "metadata": {},
   "outputs": [],
   "source": [
    "model = ANN(T, T, [100,100])"
   ]
  },
  {
   "cell_type": "code",
   "execution_count": 1031,
   "metadata": {},
   "outputs": [
    {
     "data": {
      "text/plain": [
       "ANN(\n",
       "  (layer): Sequential(\n",
       "    (0): Linear(in_features=20, out_features=100, bias=True)\n",
       "    (1): ReLU(inplace=True)\n",
       "    (2): Linear(in_features=100, out_features=100, bias=True)\n",
       "    (3): ReLU(inplace=True)\n",
       "    (4): Linear(in_features=100, out_features=20, bias=True)\n",
       "  )\n",
       ")"
      ]
     },
     "execution_count": 1031,
     "metadata": {},
     "output_type": "execute_result"
    }
   ],
   "source": [
    "model"
   ]
  },
  {
   "cell_type": "code",
   "execution_count": 1032,
   "metadata": {},
   "outputs": [],
   "source": [
    "train_count = int(len(X) * 0.005)\n",
    "X_train = torch.tensor(X[:-1], dtype=torch.float)\n",
    "y_train =torch.tensor(Y[:-1], dtype=torch.float)\n",
    "X_test = torch.tensor(X[-1:], dtype=torch.float)\n",
    "y_test = torch.tensor(Y[-1:], dtype=torch.float)"
   ]
  },
  {
   "cell_type": "code",
   "execution_count": 1033,
   "metadata": {},
   "outputs": [],
   "source": [
    "criterion = nn.MSELoss()\n",
    "optimizer = torch.optim.Adam(model.parameters(), lr=0.001)"
   ]
  },
  {
   "cell_type": "code",
   "execution_count": 1034,
   "metadata": {},
   "outputs": [
    {
     "name": "stdout",
     "output_type": "stream",
     "text": [
      "Epoch [1/90]. Loss : 12452.6728515625. Test Loss : 44695.06640625\n",
      "Epoch [2/90]. Loss : 11911.494140625. Test Loss : 42669.3125\n",
      "Epoch [3/90]. Loss : 11371.728515625. Test Loss : 40596.6796875\n",
      "Epoch [4/90]. Loss : 10823.521484375. Test Loss : 38459.24609375\n",
      "Epoch [5/90]. Loss : 10257.3466796875. Test Loss : 36234.421875\n",
      "Epoch [6/90]. Loss : 9667.1708984375. Test Loss : 33920.3671875\n",
      "Epoch [7/90]. Loss : 9052.630859375. Test Loss : 31554.275390625\n",
      "Epoch [8/90]. Loss : 8424.345703125. Test Loss : 29067.31640625\n",
      "Epoch [9/90]. Loss : 7763.14794921875. Test Loss : 26448.552734375\n",
      "Epoch [10/90]. Loss : 7066.96142578125. Test Loss : 23713.23046875\n",
      "Epoch [11/90]. Loss : 6339.51611328125. Test Loss : 20883.81640625\n",
      "Epoch [12/90]. Loss : 5587.8193359375. Test Loss : 18008.87109375\n",
      "Epoch [13/90]. Loss : 4822.1923828125. Test Loss : 15125.3828125\n",
      "Epoch [14/90]. Loss : 4054.332763671875. Test Loss : 12292.2568359375\n",
      "Epoch [15/90]. Loss : 3300.1025390625. Test Loss : 9588.248046875\n",
      "Epoch [16/90]. Loss : 2580.184814453125. Test Loss : 7107.43994140625\n",
      "Epoch [17/90]. Loss : 1919.4627685546875. Test Loss : 4955.75439453125\n",
      "Epoch [18/90]. Loss : 1345.9862060546875. Test Loss : 3241.8779296875\n",
      "Epoch [19/90]. Loss : 888.5321044921875. Test Loss : 2061.37939453125\n",
      "Epoch [20/90]. Loss : 572.5281372070312. Test Loss : 1472.8038330078125\n",
      "Epoch [21/90]. Loss : 412.88189697265625. Test Loss : 1436.713134765625\n",
      "Epoch [22/90]. Loss : 399.6903076171875. Test Loss : 1830.191162109375\n",
      "Epoch [23/90]. Loss : 500.46875. Test Loss : 2440.16162109375\n",
      "Epoch [24/90]. Loss : 658.9299926757812. Test Loss : 3020.23095703125\n",
      "Epoch [25/90]. Loss : 809.9159545898438. Test Loss : 3371.301513671875\n",
      "Epoch [26/90]. Loss : 900.7183837890625. Test Loss : 3399.262451171875\n",
      "Epoch [27/90]. Loss : 906.336181640625. Test Loss : 3114.65478515625\n",
      "Epoch [28/90]. Loss : 829.7536010742188. Test Loss : 2602.148681640625\n",
      "Epoch [29/90]. Loss : 693.2078247070312. Test Loss : 1981.3599853515625\n",
      "Epoch [30/90]. Loss : 528.3244018554688. Test Loss : 1368.471435546875\n",
      "Epoch [31/90]. Loss : 365.837890625. Test Loss : 852.5604248046875\n",
      "Epoch [32/90]. Loss : 229.29893493652344. Test Loss : 485.25140380859375\n",
      "Epoch [33/90]. Loss : 132.3246612548828. Test Loss : 281.0501708984375\n",
      "Epoch [34/90]. Loss : 78.69087219238281. Test Loss : 224.72909545898438\n",
      "Epoch [35/90]. Loss : 64.29643249511719. Test Loss : 282.0107727050781\n",
      "Epoch [36/90]. Loss : 79.98308563232422. Test Loss : 410.36083984375\n",
      "Epoch [37/90]. Loss : 114.43750762939453. Test Loss : 567.8102416992188\n",
      "Epoch [38/90]. Loss : 156.4890899658203. Test Loss : 718.8614501953125\n",
      "Epoch [39/90]. Loss : 196.7034454345703. Test Loss : 837.5505981445312\n",
      "Epoch [40/90]. Loss : 228.1841583251953. Test Loss : 908.2654418945312\n",
      "Epoch [41/90]. Loss : 246.78961181640625. Test Loss : 925.0838623046875\n",
      "Epoch [42/90]. Loss : 250.956298828125. Test Loss : 890.2815551757812\n",
      "Epoch [43/90]. Loss : 241.300537109375. Test Loss : 812.4419555664062\n",
      "Epoch [44/90]. Loss : 220.11721801757812. Test Loss : 704.4295043945312\n",
      "Epoch [45/90]. Loss : 190.840576171875. Test Loss : 581.3377075195312\n",
      "Epoch [46/90]. Loss : 157.49954223632812. Test Loss : 458.480224609375\n",
      "Epoch [47/90]. Loss : 124.18440246582031. Test Loss : 349.50006103515625\n",
      "Epoch [48/90]. Loss : 94.5448989868164. Test Loss : 264.719970703125\n",
      "Epoch [49/90]. Loss : 71.35142517089844. Test Loss : 209.9111328125\n",
      "Epoch [50/90]. Loss : 56.16780090332031. Test Loss : 185.70079040527344\n",
      "Epoch [51/90]. Loss : 49.192134857177734. Test Loss : 187.79592895507812\n",
      "Epoch [52/90]. Loss : 49.314388275146484. Test Loss : 208.0810089111328\n",
      "Epoch [53/90]. Loss : 54.40520477294922. Test Loss : 236.435302734375\n",
      "Epoch [54/90]. Loss : 61.79597091674805. Test Loss : 262.9003601074219\n",
      "Epoch [55/90]. Loss : 68.85194396972656. Test Loss : 279.6767272949219\n",
      "Epoch [56/90]. Loss : 73.50140380859375. Test Loss : 282.4655456542969\n",
      "Epoch [57/90]. Loss : 74.59176635742188. Test Loss : 270.8587951660156\n",
      "Epoch [58/90]. Loss : 71.99423217773438. Test Loss : 247.7806854248047\n",
      "Epoch [59/90]. Loss : 66.45793151855469. Test Loss : 218.2546844482422\n",
      "Epoch [60/90]. Loss : 59.284912109375. Test Loss : 187.90957641601562\n",
      "Epoch [61/90]. Loss : 51.93626403808594. Test Loss : 161.63592529296875\n",
      "Epoch [62/90]. Loss : 45.6778678894043. Test Loss : 142.67837524414062\n",
      "Epoch [63/90]. Loss : 41.341270446777344. Test Loss : 132.27474975585938\n",
      "Epoch [64/90]. Loss : 39.22920608520508. Test Loss : 129.79769897460938\n",
      "Epoch [65/90]. Loss : 39.15396499633789. Test Loss : 133.25\n",
      "Epoch [66/90]. Loss : 40.56941604614258. Test Loss : 139.93101501464844\n",
      "Epoch [67/90]. Loss : 42.747554779052734. Test Loss : 147.09837341308594\n",
      "Epoch [68/90]. Loss : 44.954437255859375. Test Loss : 152.50440979003906\n",
      "Epoch [69/90]. Loss : 46.591697692871094. Test Loss : 154.732421875\n",
      "Epoch [70/90]. Loss : 47.28561019897461. Test Loss : 153.3155059814453\n",
      "Epoch [71/90]. Loss : 46.918243408203125. Test Loss : 148.66201782226562\n",
      "Epoch [72/90]. Loss : 45.60665512084961. Test Loss : 141.82907104492188\n",
      "Epoch [73/90]. Loss : 43.642723083496094. Test Loss : 134.21090698242188\n",
      "Epoch [74/90]. Loss : 41.40978240966797. Test Loss : 127.20858001708984\n",
      "Epoch [75/90]. Loss : 39.29422378540039. Test Loss : 121.93995666503906\n",
      "Epoch [76/90]. Loss : 37.608150482177734. Test Loss : 119.0431137084961\n",
      "Epoch [77/90]. Loss : 36.53639602661133. Test Loss : 118.60013580322266\n",
      "Epoch [78/90]. Loss : 36.115779876708984. Test Loss : 120.1871109008789\n",
      "Epoch [79/90]. Loss : 36.24753189086914. Test Loss : 123.02713775634766\n",
      "Epoch [80/90]. Loss : 36.73748016357422. Test Loss : 126.20353698730469\n",
      "Epoch [81/90]. Loss : 37.35194778442383. Test Loss : 128.8794708251953\n",
      "Epoch [82/90]. Loss : 37.87550735473633. Test Loss : 130.4691925048828\n",
      "Epoch [83/90]. Loss : 38.156497955322266. Test Loss : 130.72972106933594\n",
      "Epoch [84/90]. Loss : 38.131187438964844. Test Loss : 129.75881958007812\n",
      "Epoch [85/90]. Loss : 37.82339096069336. Test Loss : 127.9137954711914\n",
      "Epoch [86/90]. Loss : 37.32338333129883. Test Loss : 125.68302917480469\n",
      "Epoch [87/90]. Loss : 36.75441360473633. Test Loss : 123.550048828125\n",
      "Epoch [88/90]. Loss : 36.237037658691406. Test Loss : 121.8820571899414\n",
      "Epoch [89/90]. Loss : 35.860511779785156. Test Loss : 120.86849212646484\n",
      "Epoch [90/90]. Loss : 35.66682052612305. Test Loss : 120.51243591308594\n"
     ]
    }
   ],
   "source": [
    "epochs = 90\n",
    "losses = []\n",
    "test_losses = []\n",
    "for epoch in range(epochs):\n",
    "    y_pred = model(X_train)\n",
    "    loss = criterion(y_pred, y_train)\n",
    "    losses.append(loss.item())\n",
    "    \n",
    "    optimizer.zero_grad()\n",
    "    loss.backward()\n",
    "    optimizer.step()\n",
    "    \n",
    "    test_loss = criterion(model(X_test),y_test)\n",
    "    test_losses.append(test_loss)\n",
    "    print(f'Epoch [{epoch+1}/{epochs}]. Loss : {loss.item()}. Test Loss : {test_loss.item()}')"
   ]
  },
  {
   "cell_type": "code",
   "execution_count": 1035,
   "metadata": {},
   "outputs": [
    {
     "data": {
      "text/plain": [
       "[<matplotlib.lines.Line2D at 0x28c9652d2c8>]"
      ]
     },
     "execution_count": 1035,
     "metadata": {},
     "output_type": "execute_result"
    },
    {
     "data": {
      "image/png": "[encoded data removed]",
      "text/plain": [
       "<Figure size 432x288 with 1 Axes>"
      ]
     },
     "metadata": {
      "needs_background": "light"
     },
     "output_type": "display_data"
    }
   ],
   "source": [
    "plt.plot(range(epochs), losses)\n",
    "plt.plot(range(epochs), test_losses)"
   ]
  },
  {
   "cell_type": "code",
   "execution_count": 1036,
   "metadata": {},
   "outputs": [
    {
     "name": "stdout",
     "output_type": "stream",
     "text": [
      "tensor(120.5124, grad_fn=<MseLossBackward>)\n"
     ]
    }
   ],
   "source": [
    "y_pred = model(X_test)\n",
    "loss = criterion(y_pred, y_test)\n",
    "print(loss)"
   ]
  },
  {
   "cell_type": "code",
   "execution_count": 1037,
   "metadata": {},
   "outputs": [
    {
     "data": {
      "text/plain": [
       "tensor([[201.3000, 203.8500, 202.0200, 204.0600, 203.9000, 205.0100, 216.5400,\n",
       "         213.2900, 212.9400, 216.3500, 212.4800, 208.2500, 203.3800, 209.1900,\n",
       "         208.7000, 208.9000, 210.2800, 211.4900, 209.7000, 214.5800]])"
      ]
     },
     "execution_count": 1037,
     "metadata": {},
     "output_type": "execute_result"
    }
   ],
   "source": [
    "X_test[-1].reshape(1,-1)"
   ]
  },
  {
   "cell_type": "code",
   "execution_count": 1038,
   "metadata": {},
   "outputs": [],
   "source": [
    "pred = model(X_test[-1].reshape(1,-1))"
   ]
  },
  {
   "cell_type": "code",
   "execution_count": 1039,
   "metadata": {},
   "outputs": [],
   "source": [
    "pred = pred.reshape(-1).detach()"
   ]
  },
  {
   "cell_type": "code",
   "execution_count": 1040,
   "metadata": {},
   "outputs": [
    {
     "data": {
      "text/plain": [
       "tensor([211.7561, 211.7486, 210.6959, 211.0661, 213.3620, 213.7000, 213.0267,\n",
       "        214.0594, 212.2471, 215.2707, 212.8997, 213.2862, 213.8068, 214.3684,\n",
       "        217.1486, 215.3324, 216.5415, 215.8074, 218.1086, 216.9066])"
      ]
     },
     "execution_count": 1040,
     "metadata": {},
     "output_type": "execute_result"
    }
   ],
   "source": [
    "pred"
   ]
  },
  {
   "cell_type": "code",
   "execution_count": 1041,
   "metadata": {},
   "outputs": [
    {
     "data": {
      "text/plain": [
       "<matplotlib.legend.Legend at 0x28c97881f08>"
      ]
     },
     "execution_count": 1041,
     "metadata": {},
     "output_type": "execute_result"
    },
    {
     "data": {
      "image/png": "[encoded data removed]",
      "text/plain": [
       "<Figure size 432x288 with 1 Axes>"
      ]
     },
     "metadata": {
      "needs_background": "light"
     },
     "output_type": "display_data"
    }
   ],
   "source": [
    "plt.plot(pred, label=\"Prediction\")\n",
    "plt.plot(y_test[-1], label=\"Actual\")\n",
    "plt.legend()"
   ]
  },
  {
   "cell_type": "code",
   "execution_count": 1042,
   "metadata": {},
   "outputs": [
    {
     "data": {
      "text/plain": [
       "[<matplotlib.lines.Line2D at 0x28c97900848>]"
      ]
     },
     "execution_count": 1042,
     "metadata": {},
     "output_type": "execute_result"
    },
    {
     "data": {
      "image/png": "[encoded data removed]",
      "text/plain": [
       "<Figure size 432x288 with 1 Axes>"
      ]
     },
     "metadata": {
      "needs_background": "light"
     },
     "output_type": "display_data"
    }
   ],
   "source": [
    "plt.plot(data1[:-T])\n",
    "plt.plot(np.arange(T)+len(data[:-T]),Y[-1], label=\"Actual\")\n",
    "plt.plot(np.arange(T)+len(data[:-T]),pred, label=\"Prediction\")\n",
    "#plt.legend()"
   ]
  },
  {
   "cell_type": "code",
   "execution_count": 1043,
   "metadata": {},
   "outputs": [
    {
     "data": {
      "text/plain": [
       "array([201.300003, 203.850006, 202.020004, 204.059998, 203.899994,\n",
       "       205.009995, 216.539993, 213.289993, 212.940002, 216.350006,\n",
       "       212.479996, 208.25    , 203.380005, 209.190002, 208.699997,\n",
       "       208.899994, 210.279999, 211.490005, 209.699997, 214.580002])"
      ]
     },
     "execution_count": 1043,
     "metadata": {},
     "output_type": "execute_result"
    }
   ],
   "source": [
    "X[-1]"
   ]
  },
  {
   "cell_type": "code",
   "execution_count": null,
   "metadata": {},
   "outputs": [],
   "source": []
  }
 ],
 "metadata": {
  "kernelspec": {
   "display_name": "Python 3",
   "language": "python",
   "name": "python3"
  },
  "language_info": {
   "codemirror_mode": {
    "name": "ipython",
    "version": 3
   },
   "file_extension": ".py",
   "mimetype": "text/x-python",
   "name": "python",
   "nbconvert_exporter": "python",
   "pygments_lexer": "ipython3",
   "version": "3.7.4"
  }
 },
 "nbformat": 4,
 "nbformat_minor": 2
}
