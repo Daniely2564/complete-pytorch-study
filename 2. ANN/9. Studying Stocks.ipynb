{
 "cells": [
  {
   "cell_type": "code",
   "execution_count": 216,
   "metadata": {},
   "outputs": [],
   "source": [
    "import numpy as np\n",
    "import pandas as pd\n",
    "import matplotlib.pyplot as plt"
   ]
  },
  {
   "cell_type": "code",
   "execution_count": 217,
   "metadata": {},
   "outputs": [],
   "source": [
    "import torch\n",
    "import torch.nn as nn"
   ]
  },
  {
   "cell_type": "code",
   "execution_count": 218,
   "metadata": {},
   "outputs": [],
   "source": [
    "from torchvision import datasets, transforms\n",
    "from torch.utils.data import DataLoader"
   ]
  },
  {
   "cell_type": "code",
   "execution_count": 219,
   "metadata": {},
   "outputs": [],
   "source": [
    "companies = ['MSFT.csv', 'FB.csv', 'DKNG.csv'] \n",
    "df = pd.read_csv(companies[2])"
   ]
  },
  {
   "cell_type": "code",
   "execution_count": 220,
   "metadata": {},
   "outputs": [],
   "source": [
    "data = df['Close'].values"
   ]
  },
  {
   "cell_type": "code",
   "execution_count": 221,
   "metadata": {},
   "outputs": [],
   "source": [
    "T = 15\n",
    "X = []\n",
    "Y = []\n",
    "\n",
    "for t in range(len(data)- 2 * T):\n",
    "    x = data[t:t+T]\n",
    "    X.append(x)\n",
    "    y = data[t+T: t+T*2]\n",
    "    Y.append(y)"
   ]
  },
  {
   "cell_type": "code",
   "execution_count": 222,
   "metadata": {},
   "outputs": [],
   "source": [
    "class ANN(nn.Module):\n",
    "    def __init__(self, input_no, output_no, hidden_layers):\n",
    "        super().__init__()\n",
    "        layers = []\n",
    "        \n",
    "        no_in = input_no\n",
    "        for h in hidden_layers:\n",
    "            layers.append(nn.Linear(no_in, h))\n",
    "            layers.append(nn.ReLU(inplace=True))\n",
    "            layers.append(nn.Dropout(.3))\n",
    "            no_in = h\n",
    "            \n",
    "        layers.append(nn.Linear(hidden_layers[-1], output_no))\n",
    "        self.layer = nn.Sequential(*layers)\n",
    "    def forward(self,X):\n",
    "        out = self.layer(X)\n",
    "        return out"
   ]
  },
  {
   "cell_type": "code",
   "execution_count": 223,
   "metadata": {},
   "outputs": [],
   "source": [
    "model = ANN(T, T, [100,100,100,100,15])"
   ]
  },
  {
   "cell_type": "code",
   "execution_count": 224,
   "metadata": {},
   "outputs": [
    {
     "data": {
      "text/plain": [
       "ANN(\n",
       "  (layer): Sequential(\n",
       "    (0): Linear(in_features=15, out_features=100, bias=True)\n",
       "    (1): ReLU(inplace=True)\n",
       "    (2): Dropout(p=0.3, inplace=False)\n",
       "    (3): Linear(in_features=100, out_features=100, bias=True)\n",
       "    (4): ReLU(inplace=True)\n",
       "    (5): Dropout(p=0.3, inplace=False)\n",
       "    (6): Linear(in_features=100, out_features=100, bias=True)\n",
       "    (7): ReLU(inplace=True)\n",
       "    (8): Dropout(p=0.3, inplace=False)\n",
       "    (9): Linear(in_features=100, out_features=100, bias=True)\n",
       "    (10): ReLU(inplace=True)\n",
       "    (11): Dropout(p=0.3, inplace=False)\n",
       "    (12): Linear(in_features=100, out_features=15, bias=True)\n",
       "    (13): ReLU(inplace=True)\n",
       "    (14): Dropout(p=0.3, inplace=False)\n",
       "    (15): Linear(in_features=15, out_features=15, bias=True)\n",
       "  )\n",
       ")"
      ]
     },
     "execution_count": 224,
     "metadata": {},
     "output_type": "execute_result"
    }
   ],
   "source": [
    "model"
   ]
  },
  {
   "cell_type": "code",
   "execution_count": 225,
   "metadata": {},
   "outputs": [],
   "source": [
    "train_count = int(len(X) * 0.01)\n",
    "X_train = torch.tensor(X[:-1], dtype=torch.float)\n",
    "y_train =torch.tensor(Y[:-1], dtype=torch.float)\n",
    "X_test = torch.tensor(X[-1:], dtype=torch.float)\n",
    "y_test = torch.tensor(Y[-1:], dtype=torch.float)"
   ]
  },
  {
   "cell_type": "code",
   "execution_count": 226,
   "metadata": {},
   "outputs": [],
   "source": [
    "train_loader = DataLoader((X_train,y_train), shuffle=True, batch_size=X_train.shape[0])\n",
    "for X_train, y_train in train_loader:\n",
    "    break"
   ]
  },
  {
   "cell_type": "code",
   "execution_count": 227,
   "metadata": {},
   "outputs": [],
   "source": [
    "criterion = nn.MSELoss()\n",
    "optimizer = torch.optim.Adam(model.parameters(), lr=0.002)"
   ]
  },
  {
   "cell_type": "code",
   "execution_count": 228,
   "metadata": {},
   "outputs": [
    {
     "name": "stdout",
     "output_type": "stream",
     "text": [
      "Epoch [1/80]. Loss : 442.64923095703125. Test Loss : 1834.9776611328125\n",
      "Epoch [2/80]. Loss : 438.2863464355469. Test Loss : 1835.800537109375\n",
      "Epoch [3/80]. Loss : 432.591064453125. Test Loss : 1812.964599609375\n",
      "Epoch [4/80]. Loss : 424.2961730957031. Test Loss : 1695.9239501953125\n",
      "Epoch [5/80]. Loss : 414.56451416015625. Test Loss : 1796.726318359375\n",
      "Epoch [6/80]. Loss : 400.35162353515625. Test Loss : 1580.1195068359375\n",
      "Epoch [7/80]. Loss : 372.1764831542969. Test Loss : 1579.2652587890625\n",
      "Epoch [8/80]. Loss : 357.2143859863281. Test Loss : 1350.336181640625\n",
      "Epoch [9/80]. Loss : 333.66888427734375. Test Loss : 1405.26171875\n",
      "Epoch [10/80]. Loss : 332.72369384765625. Test Loss : 1337.6422119140625\n",
      "Epoch [11/80]. Loss : 323.3633117675781. Test Loss : 1067.220703125\n",
      "Epoch [12/80]. Loss : 291.3654479980469. Test Loss : 1087.611572265625\n",
      "Epoch [13/80]. Loss : 274.39996337890625. Test Loss : 1224.786865234375\n",
      "Epoch [14/80]. Loss : 266.9905090332031. Test Loss : 1238.812744140625\n",
      "Epoch [15/80]. Loss : 256.24444580078125. Test Loss : 967.9209594726562\n",
      "Epoch [16/80]. Loss : 244.56979370117188. Test Loss : 1540.183837890625\n",
      "Epoch [17/80]. Loss : 236.0322265625. Test Loss : 833.4400634765625\n",
      "Epoch [18/80]. Loss : 233.77796936035156. Test Loss : 1523.5289306640625\n",
      "Epoch [19/80]. Loss : 235.1544189453125. Test Loss : 972.2762451171875\n",
      "Epoch [20/80]. Loss : 228.39271545410156. Test Loss : 887.6614379882812\n",
      "Epoch [21/80]. Loss : 218.7617645263672. Test Loss : 778.1451416015625\n",
      "Epoch [22/80]. Loss : 202.9663543701172. Test Loss : 865.9305419921875\n",
      "Epoch [23/80]. Loss : 205.70021057128906. Test Loss : 1667.254150390625\n",
      "Epoch [24/80]. Loss : 204.14122009277344. Test Loss : 447.2712097167969\n",
      "Epoch [25/80]. Loss : 179.42015075683594. Test Loss : 775.9882202148438\n",
      "Epoch [26/80]. Loss : 179.60531616210938. Test Loss : 476.22845458984375\n",
      "Epoch [27/80]. Loss : 178.10464477539062. Test Loss : 355.33355712890625\n",
      "Epoch [28/80]. Loss : 180.77017211914062. Test Loss : 823.6622924804688\n",
      "Epoch [29/80]. Loss : 171.9368896484375. Test Loss : 433.7267761230469\n",
      "Epoch [30/80]. Loss : 158.36634826660156. Test Loss : 849.9148559570312\n",
      "Epoch [31/80]. Loss : 152.4795684814453. Test Loss : 625.7000732421875\n",
      "Epoch [32/80]. Loss : 156.8458709716797. Test Loss : 789.2700805664062\n",
      "Epoch [33/80]. Loss : 145.3787078857422. Test Loss : 351.3322448730469\n",
      "Epoch [34/80]. Loss : 143.8427276611328. Test Loss : 485.35382080078125\n",
      "Epoch [35/80]. Loss : 148.15542602539062. Test Loss : 706.8251953125\n",
      "Epoch [36/80]. Loss : 130.42417907714844. Test Loss : 717.2290649414062\n",
      "Epoch [37/80]. Loss : 133.78733825683594. Test Loss : 300.9778137207031\n",
      "Epoch [38/80]. Loss : 137.84703063964844. Test Loss : 1030.0576171875\n",
      "Epoch [39/80]. Loss : 137.7184600830078. Test Loss : 421.5669860839844\n",
      "Epoch [40/80]. Loss : 127.57609558105469. Test Loss : 690.5624389648438\n",
      "Epoch [41/80]. Loss : 125.55973052978516. Test Loss : 278.71282958984375\n",
      "Epoch [42/80]. Loss : 115.27729797363281. Test Loss : 439.40191650390625\n",
      "Epoch [43/80]. Loss : 122.74645233154297. Test Loss : 236.63937377929688\n",
      "Epoch [44/80]. Loss : 111.5523681640625. Test Loss : 209.98312377929688\n",
      "Epoch [45/80]. Loss : 119.62003326416016. Test Loss : 412.6820068359375\n",
      "Epoch [46/80]. Loss : 118.40168762207031. Test Loss : 956.3271484375\n",
      "Epoch [47/80]. Loss : 116.50452423095703. Test Loss : 154.12860107421875\n",
      "Epoch [48/80]. Loss : 103.16650390625. Test Loss : 470.8272705078125\n",
      "Epoch [49/80]. Loss : 110.24137878417969. Test Loss : 311.9508361816406\n",
      "Epoch [50/80]. Loss : 114.62207794189453. Test Loss : 982.2684936523438\n",
      "Epoch [51/80]. Loss : 109.44891357421875. Test Loss : 858.0682983398438\n",
      "Epoch [52/80]. Loss : 97.92765045166016. Test Loss : 613.4459228515625\n",
      "Epoch [53/80]. Loss : 98.94024658203125. Test Loss : 886.887939453125\n",
      "Epoch [54/80]. Loss : 106.85730743408203. Test Loss : 134.48776245117188\n",
      "Epoch [55/80]. Loss : 110.90774536132812. Test Loss : 633.7380981445312\n",
      "Epoch [56/80]. Loss : 103.49632263183594. Test Loss : 843.5947875976562\n",
      "Epoch [57/80]. Loss : 104.40198516845703. Test Loss : 606.7105712890625\n",
      "Epoch [58/80]. Loss : 91.41410827636719. Test Loss : 1043.1885986328125\n",
      "Epoch [59/80]. Loss : 106.09673309326172. Test Loss : 673.484130859375\n",
      "Epoch [60/80]. Loss : 102.77913665771484. Test Loss : 316.96697998046875\n",
      "Epoch [61/80]. Loss : 94.72833251953125. Test Loss : 225.13095092773438\n",
      "Epoch [62/80]. Loss : 95.9703140258789. Test Loss : 54.68012619018555\n",
      "Epoch [63/80]. Loss : 89.0998306274414. Test Loss : 561.867919921875\n",
      "Epoch [64/80]. Loss : 93.46092987060547. Test Loss : 299.5013122558594\n",
      "Epoch [65/80]. Loss : 89.48638916015625. Test Loss : 281.3503723144531\n",
      "Epoch [66/80]. Loss : 87.0360336303711. Test Loss : 123.26262664794922\n",
      "Epoch [67/80]. Loss : 97.79991912841797. Test Loss : 163.85159301757812\n",
      "Epoch [68/80]. Loss : 83.54544830322266. Test Loss : 554.0396118164062\n",
      "Epoch [69/80]. Loss : 96.6546401977539. Test Loss : 402.9949645996094\n",
      "Epoch [70/80]. Loss : 87.66897583007812. Test Loss : 770.7985229492188\n",
      "Epoch [71/80]. Loss : 85.39978790283203. Test Loss : 900.5194091796875\n",
      "Epoch [72/80]. Loss : 93.32024383544922. Test Loss : 401.38372802734375\n",
      "Epoch [73/80]. Loss : 82.61621856689453. Test Loss : 219.02085876464844\n",
      "Epoch [74/80]. Loss : 84.74678802490234. Test Loss : 809.5804443359375\n",
      "Epoch [75/80]. Loss : 80.368408203125. Test Loss : 254.16268920898438\n",
      "Epoch [76/80]. Loss : 82.09317016601562. Test Loss : 247.3618927001953\n",
      "Epoch [77/80]. Loss : 76.56610870361328. Test Loss : 358.00567626953125\n",
      "Epoch [78/80]. Loss : 81.94340515136719. Test Loss : 377.6515808105469\n",
      "Epoch [79/80]. Loss : 82.71178436279297. Test Loss : 977.8922119140625\n",
      "Epoch [80/80]. Loss : 89.32017517089844. Test Loss : 41.72203063964844\n"
     ]
    }
   ],
   "source": [
    "epochs = 80\n",
    "losses = []\n",
    "test_losses = []\n",
    "for epoch in range(epochs):\n",
    "    y_pred = model(X_train)\n",
    "    loss = criterion(y_pred, y_train)\n",
    "    losses.append(loss.item())\n",
    "    \n",
    "    optimizer.zero_grad()\n",
    "    loss.backward()\n",
    "    optimizer.step()\n",
    "    \n",
    "    test_loss = criterion(model(X_test),y_test)\n",
    "    test_losses.append(test_loss)\n",
    "    print(f'Epoch [{epoch+1}/{epochs}]. Loss : {loss.item()}. Test Loss : {test_loss.item()}')"
   ]
  },
  {
   "cell_type": "code",
   "execution_count": 229,
   "metadata": {},
   "outputs": [
    {
     "data": {
      "text/plain": [
       "[<matplotlib.lines.Line2D at 0x1e1bfa0a1d0>]"
      ]
     },
     "execution_count": 229,
     "metadata": {},
     "output_type": "execute_result"
    },
    {
     "data": {
      "image/png": "[encoded data removed]",
      "text/plain": [
       "<Figure size 432x288 with 1 Axes>"
      ]
     },
     "metadata": {
      "needs_background": "light"
     },
     "output_type": "display_data"
    }
   ],
   "source": [
    "plt.plot(range(epochs), losses)\n",
    "plt.plot(range(epochs), test_losses)"
   ]
  },
  {
   "cell_type": "code",
   "execution_count": 230,
   "metadata": {},
   "outputs": [
    {
     "name": "stdout",
     "output_type": "stream",
     "text": [
      "tensor(539.4167, grad_fn=<MseLossBackward>)\n"
     ]
    }
   ],
   "source": [
    "y_pred = model(X_test)\n",
    "loss = criterion(y_pred, y_test)\n",
    "print(loss)"
   ]
  },
  {
   "cell_type": "code",
   "execution_count": 231,
   "metadata": {},
   "outputs": [
    {
     "data": {
      "text/plain": [
       "tensor([[34.0900, 31.6100, 32.0400, 33.7400, 36.0500, 33.9100, 34.6800, 37.2100,\n",
       "         36.2700, 36.3200, 35.1500, 35.8100, 39.0600, 38.8600, 39.0600]])"
      ]
     },
     "execution_count": 231,
     "metadata": {},
     "output_type": "execute_result"
    }
   ],
   "source": [
    "X_test[-1].reshape(1,-1)"
   ]
  },
  {
   "cell_type": "code",
   "execution_count": 232,
   "metadata": {},
   "outputs": [],
   "source": [
    "pred = model(X_test[-1].reshape(1,-1))"
   ]
  },
  {
   "cell_type": "code",
   "execution_count": 233,
   "metadata": {},
   "outputs": [],
   "source": [
    "pred = pred.reshape(-1).detach()"
   ]
  },
  {
   "cell_type": "code",
   "execution_count": 234,
   "metadata": {},
   "outputs": [
    {
     "data": {
      "text/plain": [
       "tensor([21.8381, 31.5296, 26.7423, 26.1746, 30.2470, 19.1099, 28.5938, 38.7899,\n",
       "        35.7905, 31.6104, 37.9412, 38.4864, 33.6589, 30.0012, 29.0171])"
      ]
     },
     "execution_count": 234,
     "metadata": {},
     "output_type": "execute_result"
    }
   ],
   "source": [
    "pred"
   ]
  },
  {
   "cell_type": "code",
   "execution_count": 235,
   "metadata": {},
   "outputs": [
    {
     "data": {
      "text/plain": [
       "<matplotlib.legend.Legend at 0x1e1bfacb9e8>"
      ]
     },
     "execution_count": 235,
     "metadata": {},
     "output_type": "execute_result"
    },
    {
     "data": {
      "image/png": "[encoded data removed]",
      "text/plain": [
       "<Figure size 432x288 with 1 Axes>"
      ]
     },
     "metadata": {
      "needs_background": "light"
     },
     "output_type": "display_data"
    }
   ],
   "source": [
    "plt.plot(pred, label=\"Prediction\")\n",
    "plt.plot(y_test[-1], label=\"Actual\")\n",
    "plt.legend()"
   ]
  },
  {
   "cell_type": "code",
   "execution_count": 236,
   "metadata": {},
   "outputs": [
    {
     "data": {
      "text/plain": [
       "[<matplotlib.lines.Line2D at 0x1e1bfb38898>]"
      ]
     },
     "execution_count": 236,
     "metadata": {},
     "output_type": "execute_result"
    },
    {
     "data": {
      "image/png": "[encoded data removed]",
      "text/plain": [
       "<Figure size 432x288 with 1 Axes>"
      ]
     },
     "metadata": {
      "needs_background": "light"
     },
     "output_type": "display_data"
    }
   ],
   "source": [
    "plt.plot(data[:-T])\n",
    "plt.plot(np.arange(T)+len(data[:-T]),Y[-1], label=\"Actual\")\n",
    "plt.plot(np.arange(T)+len(data[:-T]),pred, label=\"Prediction\")\n",
    "#plt.legend()"
   ]
  },
  {
   "cell_type": "code",
   "execution_count": 237,
   "metadata": {},
   "outputs": [
    {
     "data": {
      "text/plain": [
       "array([34.09    , 31.610001, 32.040001, 33.740002, 36.049999, 33.91    ,\n",
       "       34.68    , 37.209999, 36.27    , 36.32    , 35.150002, 35.810001,\n",
       "       39.060001, 38.860001, 39.060001])"
      ]
     },
     "execution_count": 237,
     "metadata": {},
     "output_type": "execute_result"
    }
   ],
   "source": [
    "X[-1]"
   ]
  },
  {
   "cell_type": "code",
   "execution_count": 238,
   "metadata": {},
   "outputs": [],
   "source": [
    "# What if instead of picking the next values, predict next +/- values from the very last value"
   ]
  }
 ],
 "metadata": {
  "kernelspec": {
   "display_name": "Python 3",
   "language": "python",
   "name": "python3"
  },
  "language_info": {
   "codemirror_mode": {
    "name": "ipython",
    "version": 3
   },
   "file_extension": ".py",
   "mimetype": "text/x-python",
   "name": "python",
   "nbconvert_exporter": "python",
   "pygments_lexer": "ipython3",
   "version": "3.6.8"
  }
 },
 "nbformat": 4,
 "nbformat_minor": 2
}
