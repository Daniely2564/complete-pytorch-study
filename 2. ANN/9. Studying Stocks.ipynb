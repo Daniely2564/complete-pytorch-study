{
 "cells": [
  {
   "cell_type": "code",
   "execution_count": 457,
   "metadata": {},
   "outputs": [],
   "source": [
    "import numpy as np\n",
    "import pandas as pd\n",
    "import matplotlib.pyplot as plt"
   ]
  },
  {
   "cell_type": "code",
   "execution_count": 458,
   "metadata": {},
   "outputs": [],
   "source": [
    "import torch\n",
    "import torch.nn as nn"
   ]
  },
  {
   "cell_type": "code",
   "execution_count": 459,
   "metadata": {},
   "outputs": [],
   "source": [
    "companies = ['MSFT.csv', 'FB.csv', 'DKNG.csv'] \n",
    "df = pd.read_csv(companies[2])"
   ]
  },
  {
   "cell_type": "code",
   "execution_count": 460,
   "metadata": {},
   "outputs": [],
   "source": [
    "data = df['Close'].values"
   ]
  },
  {
   "cell_type": "code",
   "execution_count": 461,
   "metadata": {},
   "outputs": [],
   "source": [
    "T = 15\n",
    "X = []\n",
    "Y = []\n",
    "\n",
    "for t in range(len(data)- 2 * T):\n",
    "    x = data[t:t+T]\n",
    "    X.append(x)\n",
    "    y = data[t+T: t+T*2]\n",
    "    Y.append(y)"
   ]
  },
  {
   "cell_type": "code",
   "execution_count": 462,
   "metadata": {},
   "outputs": [],
   "source": [
    "class ANN(nn.Module):\n",
    "    def __init__(self, input_no, output_no, hidden_layers):\n",
    "        super().__init__()\n",
    "        layers = []\n",
    "        \n",
    "        no_in = input_no\n",
    "        for h in hidden_layers:\n",
    "            layers.append(nn.Linear(no_in, h))\n",
    "            layers.append(nn.ReLU(inplace=True))\n",
    "            layers.append(nn.Dropout(.3))\n",
    "            no_in = h\n",
    "            \n",
    "        layers.append(nn.Linear(hidden_layers[-1], output_no))\n",
    "        self.layer = nn.Sequential(*layers)\n",
    "    def forward(self,X):\n",
    "        out = self.layer(X)\n",
    "        return out"
   ]
  },
  {
   "cell_type": "code",
   "execution_count": 463,
   "metadata": {},
   "outputs": [],
   "source": [
    "model = ANN(T, T, [10000])"
   ]
  },
  {
   "cell_type": "code",
   "execution_count": 464,
   "metadata": {},
   "outputs": [
    {
     "data": {
      "text/plain": [
       "ANN(\n",
       "  (layer): Sequential(\n",
       "    (0): Linear(in_features=15, out_features=10000, bias=True)\n",
       "    (1): ReLU(inplace=True)\n",
       "    (2): Dropout(p=0.3, inplace=False)\n",
       "    (3): Linear(in_features=10000, out_features=15, bias=True)\n",
       "  )\n",
       ")"
      ]
     },
     "execution_count": 464,
     "metadata": {},
     "output_type": "execute_result"
    }
   ],
   "source": [
    "model"
   ]
  },
  {
   "cell_type": "code",
   "execution_count": 465,
   "metadata": {},
   "outputs": [],
   "source": [
    "train_count = int(len(X) * 0.005)\n",
    "X_train = torch.tensor(X[:-1], dtype=torch.float)\n",
    "y_train =torch.tensor(Y[:-1], dtype=torch.float)\n",
    "X_test = torch.tensor(X[-1:], dtype=torch.float)\n",
    "y_test = torch.tensor(Y[-1:], dtype=torch.float)"
   ]
  },
  {
   "cell_type": "code",
   "execution_count": 466,
   "metadata": {},
   "outputs": [],
   "source": [
    "criterion = nn.MSELoss()\n",
    "optimizer = torch.optim.Adam(model.parameters(), lr=0.002)"
   ]
  },
  {
   "cell_type": "code",
   "execution_count": 467,
   "metadata": {},
   "outputs": [
    {
     "name": "stdout",
     "output_type": "stream",
     "text": [
      "Epoch [1/70]. Loss : 540.3467407226562. Test Loss : 15752.51171875\n",
      "Epoch [2/70]. Loss : 6233.15185546875. Test Loss : 1406.563720703125\n",
      "Epoch [3/70]. Loss : 640.0948486328125. Test Loss : 2828.95703125\n",
      "Epoch [4/70]. Loss : 877.0830688476562. Test Loss : 9071.884765625\n",
      "Epoch [5/70]. Loss : 2748.578369140625. Test Loss : 6890.19970703125\n",
      "Epoch [6/70]. Loss : 2175.368408203125. Test Loss : 2388.40625\n",
      "Epoch [7/70]. Loss : 685.2758178710938. Test Loss : 118.95796203613281\n",
      "Epoch [8/70]. Loss : 28.926210403442383. Test Loss : 1036.3189697265625\n",
      "Epoch [9/70]. Loss : 420.2896728515625. Test Loss : 2589.930908203125\n",
      "Epoch [10/70]. Loss : 1036.44287109375. Test Loss : 2655.01953125\n",
      "Epoch [11/70]. Loss : 1138.5589599609375. Test Loss : 1753.775390625\n",
      "Epoch [12/70]. Loss : 755.0613403320312. Test Loss : 591.0833740234375\n",
      "Epoch [13/70]. Loss : 273.59039306640625. Test Loss : 51.059776306152344\n",
      "Epoch [14/70]. Loss : 37.519378662109375. Test Loss : 380.4252014160156\n",
      "Epoch [15/70]. Loss : 96.8718490600586. Test Loss : 1037.421630859375\n",
      "Epoch [16/70]. Loss : 305.0048522949219. Test Loss : 1568.2332763671875\n",
      "Epoch [17/70]. Loss : 470.8365478515625. Test Loss : 1630.85693359375\n",
      "Epoch [18/70]. Loss : 479.6221008300781. Test Loss : 1328.951171875\n",
      "Epoch [19/70]. Loss : 349.6311340332031. Test Loss : 758.709716796875\n",
      "Epoch [20/70]. Loss : 176.5583953857422. Test Loss : 216.76446533203125\n",
      "Epoch [21/70]. Loss : 57.79149627685547. Test Loss : 50.01926040649414\n",
      "Epoch [22/70]. Loss : 30.271263122558594. Test Loss : 150.23562622070312\n",
      "Epoch [23/70]. Loss : 79.50221252441406. Test Loss : 217.8427276611328\n",
      "Epoch [24/70]. Loss : 154.033203125. Test Loss : 462.3843688964844\n",
      "Epoch [25/70]. Loss : 199.66583251953125. Test Loss : 413.9324645996094\n",
      "Epoch [26/70]. Loss : 188.98207092285156. Test Loss : 281.9525146484375\n",
      "Epoch [27/70]. Loss : 139.6663818359375. Test Loss : 196.69778442382812\n",
      "Epoch [28/70]. Loss : 79.89826965332031. Test Loss : 72.58509826660156\n",
      "Epoch [29/70]. Loss : 36.59484100341797. Test Loss : 102.821533203125\n",
      "Epoch [30/70]. Loss : 26.992881774902344. Test Loss : 135.1339569091797\n",
      "Epoch [31/70]. Loss : 41.462623596191406. Test Loss : 310.1832580566406\n",
      "Epoch [32/70]. Loss : 66.64033508300781. Test Loss : 344.2168273925781\n",
      "Epoch [33/70]. Loss : 84.45086669921875. Test Loss : 396.81634521484375\n",
      "Epoch [34/70]. Loss : 89.39772033691406. Test Loss : 341.3152770996094\n",
      "Epoch [35/70]. Loss : 74.7195816040039. Test Loss : 251.6946258544922\n",
      "Epoch [36/70]. Loss : 54.552120208740234. Test Loss : 158.49085998535156\n",
      "Epoch [37/70]. Loss : 34.50971221923828. Test Loss : 81.03620147705078\n",
      "Epoch [38/70]. Loss : 24.116249084472656. Test Loss : 66.11023712158203\n",
      "Epoch [39/70]. Loss : 25.196006774902344. Test Loss : 78.24661254882812\n",
      "Epoch [40/70]. Loss : 32.49945831298828. Test Loss : 60.57453536987305\n",
      "Epoch [41/70]. Loss : 39.35546112060547. Test Loss : 56.73467254638672\n",
      "Epoch [42/70]. Loss : 43.866249084472656. Test Loss : 71.33935546875\n",
      "Epoch [43/70]. Loss : 43.053035736083984. Test Loss : 51.81669616699219\n",
      "Epoch [44/70]. Loss : 36.07600402832031. Test Loss : 33.14070510864258\n",
      "Epoch [45/70]. Loss : 28.957345962524414. Test Loss : 44.04549026489258\n",
      "Epoch [46/70]. Loss : 22.309911727905273. Test Loss : 78.16162109375\n",
      "Epoch [47/70]. Loss : 20.222637176513672. Test Loss : 82.01713562011719\n",
      "Epoch [48/70]. Loss : 22.05742835998535. Test Loss : 111.42123413085938\n",
      "Epoch [49/70]. Loss : 24.983675003051758. Test Loss : 109.06783294677734\n",
      "Epoch [50/70]. Loss : 27.6420841217041. Test Loss : 159.2135772705078\n",
      "Epoch [51/70]. Loss : 27.36517333984375. Test Loss : 108.45211791992188\n",
      "Epoch [52/70]. Loss : 25.579864501953125. Test Loss : 73.31674194335938\n",
      "Epoch [53/70]. Loss : 22.567045211791992. Test Loss : 114.561767578125\n",
      "Epoch [54/70]. Loss : 20.05159568786621. Test Loss : 73.83442687988281\n",
      "Epoch [55/70]. Loss : 18.491167068481445. Test Loss : 41.6343994140625\n",
      "Epoch [56/70]. Loss : 18.832622528076172. Test Loss : 55.45964431762695\n",
      "Epoch [57/70]. Loss : 19.68490982055664. Test Loss : 29.627262115478516\n",
      "Epoch [58/70]. Loss : 21.414060592651367. Test Loss : 27.808658599853516\n",
      "Epoch [59/70]. Loss : 19.997875213623047. Test Loss : 27.421649932861328\n",
      "Epoch [60/70]. Loss : 19.389299392700195. Test Loss : 50.40476989746094\n",
      "Epoch [61/70]. Loss : 18.957252502441406. Test Loss : 43.55192184448242\n",
      "Epoch [62/70]. Loss : 17.84190559387207. Test Loss : 53.5781364440918\n",
      "Epoch [63/70]. Loss : 17.205217361450195. Test Loss : 56.67265319824219\n",
      "Epoch [64/70]. Loss : 17.093019485473633. Test Loss : 51.92938995361328\n",
      "Epoch [65/70]. Loss : 17.182750701904297. Test Loss : 61.54744338989258\n",
      "Epoch [66/70]. Loss : 17.286848068237305. Test Loss : 60.810081481933594\n",
      "Epoch [67/70]. Loss : 17.54306983947754. Test Loss : 83.62137603759766\n",
      "Epoch [68/70]. Loss : 17.7952938079834. Test Loss : 77.25125122070312\n",
      "Epoch [69/70]. Loss : 17.29591178894043. Test Loss : 61.71474838256836\n",
      "Epoch [70/70]. Loss : 16.688493728637695. Test Loss : 53.69029235839844\n"
     ]
    }
   ],
   "source": [
    "epochs = 70\n",
    "losses = []\n",
    "test_losses = []\n",
    "for epoch in range(epochs):\n",
    "    y_pred = model(X_train)\n",
    "    loss = criterion(y_pred, y_train)\n",
    "    losses.append(loss.item())\n",
    "    \n",
    "    optimizer.zero_grad()\n",
    "    loss.backward()\n",
    "    optimizer.step()\n",
    "    \n",
    "    test_loss = criterion(model(X_test),y_test)\n",
    "    test_losses.append(test_loss)\n",
    "    print(f'Epoch [{epoch+1}/{epochs}]. Loss : {loss.item()}. Test Loss : {test_loss.item()}')"
   ]
  },
  {
   "cell_type": "code",
   "execution_count": 468,
   "metadata": {},
   "outputs": [
    {
     "data": {
      "text/plain": [
       "[<matplotlib.lines.Line2D at 0x2a000097ac8>]"
      ]
     },
     "execution_count": 468,
     "metadata": {},
     "output_type": "execute_result"
    },
    {
     "data": {
      "image/png": "[encoded data removed]",
      "text/plain": [
       "<Figure size 432x288 with 1 Axes>"
      ]
     },
     "metadata": {
      "needs_background": "light"
     },
     "output_type": "display_data"
    }
   ],
   "source": [
    "plt.plot(range(epochs), losses)\n",
    "plt.plot(range(epochs), test_losses)"
   ]
  },
  {
   "cell_type": "code",
   "execution_count": 469,
   "metadata": {},
   "outputs": [
    {
     "name": "stdout",
     "output_type": "stream",
     "text": [
      "tensor(37.9595, grad_fn=<MseLossBackward>)\n"
     ]
    }
   ],
   "source": [
    "y_pred = model(X_test)\n",
    "loss = criterion(y_pred, y_test)\n",
    "print(loss)"
   ]
  },
  {
   "cell_type": "code",
   "execution_count": 470,
   "metadata": {},
   "outputs": [
    {
     "data": {
      "text/plain": [
       "tensor([[34.0900, 31.6100, 32.0400, 33.7400, 36.0500, 33.9100, 34.6800, 37.2100,\n",
       "         36.2700, 36.3200, 35.1500, 35.8100, 39.0600, 38.8600, 39.0600]])"
      ]
     },
     "execution_count": 470,
     "metadata": {},
     "output_type": "execute_result"
    }
   ],
   "source": [
    "X_test[-1].reshape(1,-1)"
   ]
  },
  {
   "cell_type": "code",
   "execution_count": 471,
   "metadata": {},
   "outputs": [],
   "source": [
    "pred = model(X_test[-1].reshape(1,-1))"
   ]
  },
  {
   "cell_type": "code",
   "execution_count": 472,
   "metadata": {},
   "outputs": [],
   "source": [
    "pred = pred.reshape(-1).detach()"
   ]
  },
  {
   "cell_type": "code",
   "execution_count": 473,
   "metadata": {},
   "outputs": [
    {
     "data": {
      "text/plain": [
       "tensor([37.6373, 37.2648, 36.7536, 41.3938, 43.2507, 44.1545, 41.8457, 37.6722,\n",
       "        44.5066, 36.4121, 38.4061, 41.3250, 43.8471, 36.4369, 45.1129])"
      ]
     },
     "execution_count": 473,
     "metadata": {},
     "output_type": "execute_result"
    }
   ],
   "source": [
    "pred"
   ]
  },
  {
   "cell_type": "code",
   "execution_count": 474,
   "metadata": {},
   "outputs": [
    {
     "data": {
      "text/plain": [
       "<matplotlib.legend.Legend at 0x2a0000ecc18>"
      ]
     },
     "execution_count": 474,
     "metadata": {},
     "output_type": "execute_result"
    },
    {
     "data": {
      "image/png": "[encoded data removed]",
      "text/plain": [
       "<Figure size 432x288 with 1 Axes>"
      ]
     },
     "metadata": {
      "needs_background": "light"
     },
     "output_type": "display_data"
    }
   ],
   "source": [
    "plt.plot(pred, label=\"Prediction\")\n",
    "plt.plot(y_test[-1], label=\"Actual\")\n",
    "plt.legend()"
   ]
  },
  {
   "cell_type": "code",
   "execution_count": 475,
   "metadata": {},
   "outputs": [
    {
     "data": {
      "text/plain": [
       "[<matplotlib.lines.Line2D at 0x2a00075e630>]"
      ]
     },
     "execution_count": 475,
     "metadata": {},
     "output_type": "execute_result"
    },
    {
     "data": {
      "image/png": "[encoded data removed]",
      "text/plain": [
       "<Figure size 432x288 with 1 Axes>"
      ]
     },
     "metadata": {
      "needs_background": "light"
     },
     "output_type": "display_data"
    }
   ],
   "source": [
    "plt.plot(data[:-T])\n",
    "plt.plot(np.arange(T)+len(data[:-T]),Y[-1], label=\"Actual\")\n",
    "plt.plot(np.arange(T)+len(data[:-T]),pred, label=\"Prediction\")\n",
    "#plt.legend()"
   ]
  },
  {
   "cell_type": "code",
   "execution_count": 476,
   "metadata": {},
   "outputs": [
    {
     "data": {
      "text/plain": [
       "array([34.09    , 31.610001, 32.040001, 33.740002, 36.049999, 33.91    ,\n",
       "       34.68    , 37.209999, 36.27    , 36.32    , 35.150002, 35.810001,\n",
       "       39.060001, 38.860001, 39.060001])"
      ]
     },
     "execution_count": 476,
     "metadata": {},
     "output_type": "execute_result"
    }
   ],
   "source": [
    "X[-1]"
   ]
  },
  {
   "cell_type": "code",
   "execution_count": null,
   "metadata": {},
   "outputs": [],
   "source": []
  }
 ],
 "metadata": {
  "kernelspec": {
   "display_name": "Python 3",
   "language": "python",
   "name": "python3"
  },
  "language_info": {
   "codemirror_mode": {
    "name": "ipython",
    "version": 3
   },
   "file_extension": ".py",
   "mimetype": "text/x-python",
   "name": "python",
   "nbconvert_exporter": "python",
   "pygments_lexer": "ipython3",
   "version": "3.6.8"
  }
 },
 "nbformat": 4,
 "nbformat_minor": 2
}
