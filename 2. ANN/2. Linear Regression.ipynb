{
 "cells": [
  {
   "cell_type": "code",
   "execution_count": 1,
   "metadata": {},
   "outputs": [],
   "source": [
    "import torch\n",
    "import torch.nn as nn\n",
    "import matplotlib.pyplot as plt\n",
    "import numpy as np"
   ]
  },
  {
   "cell_type": "code",
   "execution_count": 2,
   "metadata": {},
   "outputs": [],
   "source": [
    "X = torch.linspace(1,50,50).reshape(-1,1)"
   ]
  },
  {
   "cell_type": "code",
   "execution_count": 3,
   "metadata": {},
   "outputs": [
    {
     "data": {
      "text/plain": [
       "tensor([[ 1.],\n",
       "        [ 2.],\n",
       "        [ 3.],\n",
       "        [ 4.],\n",
       "        [ 5.],\n",
       "        [ 6.],\n",
       "        [ 7.],\n",
       "        [ 8.],\n",
       "        [ 9.],\n",
       "        [10.],\n",
       "        [11.],\n",
       "        [12.],\n",
       "        [13.],\n",
       "        [14.],\n",
       "        [15.],\n",
       "        [16.],\n",
       "        [17.],\n",
       "        [18.],\n",
       "        [19.],\n",
       "        [20.],\n",
       "        [21.],\n",
       "        [22.],\n",
       "        [23.],\n",
       "        [24.],\n",
       "        [25.],\n",
       "        [26.],\n",
       "        [27.],\n",
       "        [28.],\n",
       "        [29.],\n",
       "        [30.],\n",
       "        [31.],\n",
       "        [32.],\n",
       "        [33.],\n",
       "        [34.],\n",
       "        [35.],\n",
       "        [36.],\n",
       "        [37.],\n",
       "        [38.],\n",
       "        [39.],\n",
       "        [40.],\n",
       "        [41.],\n",
       "        [42.],\n",
       "        [43.],\n",
       "        [44.],\n",
       "        [45.],\n",
       "        [46.],\n",
       "        [47.],\n",
       "        [48.],\n",
       "        [49.],\n",
       "        [50.]])"
      ]
     },
     "execution_count": 3,
     "metadata": {},
     "output_type": "execute_result"
    }
   ],
   "source": [
    "X"
   ]
  },
  {
   "cell_type": "code",
   "execution_count": 4,
   "metadata": {},
   "outputs": [],
   "source": [
    "torch.manual_seed(71)\n",
    "e = torch.randint(-8,9,(50,1), dtype=torch.float)"
   ]
  },
  {
   "cell_type": "code",
   "execution_count": 5,
   "metadata": {},
   "outputs": [
    {
     "data": {
      "text/plain": [
       "tensor([[ 2.],\n",
       "        [ 7.],\n",
       "        [ 2.],\n",
       "        [ 6.],\n",
       "        [ 2.],\n",
       "        [-4.],\n",
       "        [ 2.],\n",
       "        [-5.],\n",
       "        [ 4.],\n",
       "        [ 1.],\n",
       "        [ 2.],\n",
       "        [ 3.],\n",
       "        [ 1.],\n",
       "        [-8.],\n",
       "        [ 5.],\n",
       "        [ 5.],\n",
       "        [-6.],\n",
       "        [ 0.],\n",
       "        [-7.],\n",
       "        [-8.],\n",
       "        [-3.],\n",
       "        [-1.],\n",
       "        [ 2.],\n",
       "        [-6.],\n",
       "        [-3.],\n",
       "        [ 3.],\n",
       "        [ 2.],\n",
       "        [ 3.],\n",
       "        [ 4.],\n",
       "        [ 5.],\n",
       "        [ 1.],\n",
       "        [ 7.],\n",
       "        [ 6.],\n",
       "        [-1.],\n",
       "        [-6.],\n",
       "        [-5.],\n",
       "        [-3.],\n",
       "        [ 7.],\n",
       "        [ 0.],\n",
       "        [ 8.],\n",
       "        [-1.],\n",
       "        [-2.],\n",
       "        [ 2.],\n",
       "        [-8.],\n",
       "        [-1.],\n",
       "        [ 6.],\n",
       "        [-8.],\n",
       "        [-3.],\n",
       "        [-7.],\n",
       "        [-2.]])"
      ]
     },
     "execution_count": 5,
     "metadata": {},
     "output_type": "execute_result"
    }
   ],
   "source": [
    "e"
   ]
  },
  {
   "cell_type": "code",
   "execution_count": 6,
   "metadata": {},
   "outputs": [],
   "source": [
    "y = 2*X + 1 + e"
   ]
  },
  {
   "cell_type": "code",
   "execution_count": 7,
   "metadata": {},
   "outputs": [
    {
     "data": {
      "text/plain": [
       "tensor([[ 5.],\n",
       "        [12.],\n",
       "        [ 9.],\n",
       "        [15.],\n",
       "        [13.],\n",
       "        [ 9.],\n",
       "        [17.],\n",
       "        [12.],\n",
       "        [23.],\n",
       "        [22.],\n",
       "        [25.],\n",
       "        [28.],\n",
       "        [28.],\n",
       "        [21.],\n",
       "        [36.],\n",
       "        [38.],\n",
       "        [29.],\n",
       "        [37.],\n",
       "        [32.],\n",
       "        [33.],\n",
       "        [40.],\n",
       "        [44.],\n",
       "        [49.],\n",
       "        [43.],\n",
       "        [48.],\n",
       "        [56.],\n",
       "        [57.],\n",
       "        [60.],\n",
       "        [63.],\n",
       "        [66.],\n",
       "        [64.],\n",
       "        [72.],\n",
       "        [73.],\n",
       "        [68.],\n",
       "        [65.],\n",
       "        [68.],\n",
       "        [72.],\n",
       "        [84.],\n",
       "        [79.],\n",
       "        [89.],\n",
       "        [82.],\n",
       "        [83.],\n",
       "        [89.],\n",
       "        [81.],\n",
       "        [90.],\n",
       "        [99.],\n",
       "        [87.],\n",
       "        [94.],\n",
       "        [92.],\n",
       "        [99.]])"
      ]
     },
     "execution_count": 7,
     "metadata": {},
     "output_type": "execute_result"
    }
   ],
   "source": [
    "y"
   ]
  },
  {
   "cell_type": "code",
   "execution_count": 8,
   "metadata": {},
   "outputs": [
    {
     "data": {
      "text/plain": [
       "<matplotlib.collections.PathCollection at 0x1f0872db688>"
      ]
     },
     "execution_count": 8,
     "metadata": {},
     "output_type": "execute_result"
    },
    {
     "data": {
      "image/png": "[encoded data removed]",
      "text/plain": [
       "<Figure size 432x288 with 1 Axes>"
      ]
     },
     "metadata": {
      "needs_background": "light"
     },
     "output_type": "display_data"
    }
   ],
   "source": [
    "plt.scatter(X.numpy(), y.numpy())"
   ]
  },
  {
   "cell_type": "code",
   "execution_count": 9,
   "metadata": {},
   "outputs": [
    {
     "name": "stdout",
     "output_type": "stream",
     "text": [
      "Parameter containing:\n",
      "tensor([[0.1060]], requires_grad=True)\n",
      "Parameter containing:\n",
      "tensor([0.9638], requires_grad=True)\n"
     ]
    }
   ],
   "source": [
    "torch.manual_seed(59)\n",
    "\n",
    "model = nn.Linear(in_features=1, out_features=1)\n",
    "print(model.weight)\n",
    "print(model.bias)"
   ]
  },
  {
   "cell_type": "code",
   "execution_count": 10,
   "metadata": {},
   "outputs": [],
   "source": [
    "class Model(nn.Module):\n",
    "    def __init__(self, in_features, out_features):\n",
    "        super().__init__()\n",
    "        self.linear = nn.Linear(in_features, out_features)\n",
    "        \n",
    "    def forward(self, x):\n",
    "        y_pred = self.linear(x)\n",
    "        return y_pred"
   ]
  },
  {
   "cell_type": "code",
   "execution_count": 11,
   "metadata": {},
   "outputs": [
    {
     "name": "stdout",
     "output_type": "stream",
     "text": [
      "Linear(in_features=1, out_features=1, bias=True)\n"
     ]
    }
   ],
   "source": [
    "torch.manual_seed(59)\n",
    "\n",
    "model = Model(1,1)\n",
    "\n",
    "print(model.linear)"
   ]
  },
  {
   "cell_type": "code",
   "execution_count": 12,
   "metadata": {},
   "outputs": [
    {
     "name": "stdout",
     "output_type": "stream",
     "text": [
      "Parameter containing:\n",
      "tensor([[0.1060]], requires_grad=True)\n",
      "Parameter containing:\n",
      "tensor([0.9638], requires_grad=True)\n"
     ]
    }
   ],
   "source": [
    "print(model.linear.weight)\n",
    "print(model.linear.bias)"
   ]
  },
  {
   "cell_type": "code",
   "execution_count": 13,
   "metadata": {},
   "outputs": [
    {
     "name": "stdout",
     "output_type": "stream",
     "text": [
      "linear.weight \t 0.10597813129425049\n",
      "linear.bias \t 0.9637961387634277\n"
     ]
    }
   ],
   "source": [
    "for name, param in model.named_parameters():\n",
    "    print(name,'\\t', param.item())"
   ]
  },
  {
   "cell_type": "code",
   "execution_count": 14,
   "metadata": {},
   "outputs": [
    {
     "name": "stdout",
     "output_type": "stream",
     "text": [
      "tensor([1.1758], grad_fn=<AddBackward0>)\n"
     ]
    }
   ],
   "source": [
    "x = torch.tensor([2.0])\n",
    "print(model.forward(x))"
   ]
  },
  {
   "cell_type": "code",
   "execution_count": 15,
   "metadata": {},
   "outputs": [],
   "source": [
    "x1 = np.linspace(0.0, 50.0, 50)"
   ]
  },
  {
   "cell_type": "code",
   "execution_count": 16,
   "metadata": {},
   "outputs": [],
   "source": [
    "w1 = 0.10597\n",
    "b1 = 0.96379"
   ]
  },
  {
   "cell_type": "code",
   "execution_count": 17,
   "metadata": {},
   "outputs": [],
   "source": [
    "y1 = w1 * x1 + b1"
   ]
  },
  {
   "cell_type": "code",
   "execution_count": 18,
   "metadata": {},
   "outputs": [
    {
     "data": {
      "text/plain": [
       "array([0.96379   , 1.07192265, 1.18005531, 1.28818796, 1.39632061,\n",
       "       1.50445327, 1.61258592, 1.72071857, 1.82885122, 1.93698388,\n",
       "       2.04511653, 2.15324918, 2.26138184, 2.36951449, 2.47764714,\n",
       "       2.5857798 , 2.69391245, 2.8020451 , 2.91017776, 3.01831041,\n",
       "       3.12644306, 3.23457571, 3.34270837, 3.45084102, 3.55897367,\n",
       "       3.66710633, 3.77523898, 3.88337163, 3.99150429, 4.09963694,\n",
       "       4.20776959, 4.31590224, 4.4240349 , 4.53216755, 4.6403002 ,\n",
       "       4.74843286, 4.85656551, 4.96469816, 5.07283082, 5.18096347,\n",
       "       5.28909612, 5.39722878, 5.50536143, 5.61349408, 5.72162673,\n",
       "       5.82975939, 5.93789204, 6.04602469, 6.15415735, 6.26229   ])"
      ]
     },
     "execution_count": 18,
     "metadata": {},
     "output_type": "execute_result"
    }
   ],
   "source": [
    "y1"
   ]
  },
  {
   "cell_type": "code",
   "execution_count": 19,
   "metadata": {},
   "outputs": [
    {
     "data": {
      "text/plain": [
       "<matplotlib.collections.PathCollection at 0x1f088353048>"
      ]
     },
     "execution_count": 19,
     "metadata": {},
     "output_type": "execute_result"
    },
    {
     "data": {
      "image/png": "[encoded data removed]",
      "text/plain": [
       "<Figure size 432x288 with 1 Axes>"
      ]
     },
     "metadata": {
      "needs_background": "light"
     },
     "output_type": "display_data"
    }
   ],
   "source": [
    "plt.plot(x1,y1,'r')\n",
    "plt.scatter(X.numpy(), y.numpy())"
   ]
  },
  {
   "cell_type": "code",
   "execution_count": 20,
   "metadata": {},
   "outputs": [],
   "source": [
    "criterion = nn.MSELoss() # The criteria which you are evaluating your function"
   ]
  },
  {
   "cell_type": "code",
   "execution_count": 21,
   "metadata": {},
   "outputs": [],
   "source": [
    "optimizer = torch.optim.SGD(model.parameters(), lr=0.001)"
   ]
  },
  {
   "cell_type": "code",
   "execution_count": 22,
   "metadata": {},
   "outputs": [],
   "source": [
    "# Training the model"
   ]
  },
  {
   "cell_type": "code",
   "execution_count": 25,
   "metadata": {},
   "outputs": [
    {
     "name": "stdout",
     "output_type": "stream",
     "text": [
      "Epoch [1/50]. Loss : 3057.216796875 weight : 0.10597813129425049 biase : 0.9637961387634277\n",
      "Epoch [2/50]. Loss : 1588.5308837890625 weight : 3.334900379180908 biase : 1.0604636669158936\n",
      "Epoch [3/50]. Loss : 830.3001708984375 weight : 1.0148327350616455 biase : 0.9922627806663513\n",
      "Epoch [4/50]. Loss : 438.8524169921875 weight : 2.6817996501922607 biase : 1.0425218343734741\n",
      "Epoch [5/50]. Loss : 236.7615203857422 weight : 1.4840211868286133 biase : 1.0076650381088257\n",
      "Epoch [6/50]. Loss : 132.4291229248047 weight : 2.3446059226989746 biase : 1.0339646339416504\n",
      "Epoch [7/50]. Loss : 78.56573486328125 weight : 1.7262253761291504 biase : 1.0163217782974243\n",
      "Epoch [8/50]. Loss : 50.75775909423828 weight : 2.170504093170166 biase : 1.0302516222000122\n",
      "Epoch [9/50]. Loss : 36.4012336730957 weight : 1.8512457609176636 biase : 1.0214954614639282\n",
      "Epoch [10/50]. Loss : 28.98923110961914 weight : 2.0806007385253906 biase : 1.029038906097412\n",
      "Epoch [11/50]. Loss : 25.16238784790039 weight : 1.9157683849334717 biase : 1.0248701572418213\n",
      "Epoch [12/50]. Loss : 23.186473846435547 weight : 2.034165620803833 biase : 1.0291162729263306\n",
      "Epoch [13/50]. Loss : 22.166122436523438 weight : 1.9490584135055542 biase : 1.027315616607666\n",
      "Epoch [14/50]. Loss : 21.639110565185547 weight : 2.010172128677368 biase : 1.0298590660095215\n",
      "Epoch [15/50]. Loss : 21.366769790649414 weight : 1.9662237167358398 biase : 1.0292805433273315\n",
      "Epoch [16/50]. Loss : 21.225919723510742 weight : 1.997764229774475 biase : 1.030944585800171\n",
      "Epoch [17/50]. Loss : 21.152944564819336 weight : 1.9750648736953735 biase : 1.0309966802597046\n",
      "Epoch [18/50]. Loss : 21.115013122558594 weight : 1.991337537765503 biase : 1.032206416130066\n",
      "Epoch [19/50]. Loss : 21.09518051147461 weight : 1.9796085357666016 biase : 1.0325838327407837\n",
      "Epoch [20/50]. Loss : 21.084684371948242 weight : 1.9879988431930542 biase : 1.0335586071014404\n",
      "Epoch [21/50]. Loss : 21.07901382446289 weight : 1.981933355331421 biase : 1.034103512763977\n",
      "Epoch [22/50]. Loss : 21.075830459594727 weight : 1.9862544536590576 biase : 1.034956693649292\n",
      "Epoch [23/50]. Loss : 21.07394027709961 weight : 1.9831126928329468 biase : 1.0355877876281738\n",
      "Epoch [24/50]. Loss : 21.072702407836914 weight : 1.9853330850601196 biase : 1.0363779067993164\n",
      "Epoch [25/50]. Loss : 21.071819305419922 weight : 1.9837009906768799 biase : 1.037053108215332\n",
      "Epoch [26/50]. Loss : 21.07110595703125 weight : 1.9848365783691406 biase : 1.037810206413269\n",
      "Epoch [27/50]. Loss : 21.070484161376953 weight : 1.9839837551116943 biase : 1.0385079383850098\n",
      "Epoch [28/50]. Loss : 21.069913864135742 weight : 1.9845597743988037 biase : 1.039247751235962\n",
      "Epoch [29/50]. Loss : 21.06937026977539 weight : 1.9841090440750122 biase : 1.0399566888809204\n",
      "Epoch [30/50]. Loss : 21.068838119506836 weight : 1.9843961000442505 biase : 1.0406872034072876\n",
      "Epoch [31/50]. Loss : 21.068307876586914 weight : 1.984152913093567 biase : 1.0414016246795654\n",
      "Epoch [32/50]. Loss : 21.067781448364258 weight : 1.9842908382415771 biase : 1.042127013206482\n",
      "Epoch [33/50]. Loss : 21.0672664642334 weight : 1.9841549396514893 biase : 1.0428439378738403\n",
      "Epoch [34/50]. Loss : 21.066740036010742 weight : 1.9842157363891602 biase : 1.043566346168518\n",
      "Epoch [35/50]. Loss : 21.066225051879883 weight : 1.9841355085372925 biase : 1.0442842245101929\n",
      "Epoch [36/50]. Loss : 21.065706253051758 weight : 1.9841564893722534 biase : 1.0450047254562378\n",
      "Epoch [37/50]. Loss : 21.065185546875 weight : 1.9841045141220093 biase : 1.0457227230072021\n",
      "Epoch [38/50]. Loss : 21.06467056274414 weight : 1.9841052293777466 biase : 1.046441912651062\n",
      "Epoch [39/50]. Loss : 21.064157485961914 weight : 1.9840680360794067 biase : 1.0471596717834473\n",
      "Epoch [40/50]. Loss : 21.063640594482422 weight : 1.984058141708374 biase : 1.0478779077529907\n",
      "Epoch [41/50]. Loss : 21.063121795654297 weight : 1.984028697013855 biase : 1.0485951900482178\n",
      "Epoch [42/50]. Loss : 21.062604904174805 weight : 1.9840131998062134 biase : 1.0493125915527344\n",
      "Epoch [43/50]. Loss : 21.062095642089844 weight : 1.98398756980896 biase : 1.0500292778015137\n",
      "Epoch [44/50]. Loss : 21.061574935913086 weight : 1.9839695692062378 biase : 1.0507458448410034\n",
      "Epoch [45/50]. Loss : 21.061071395874023 weight : 1.9839458465576172 biase : 1.051461935043335\n",
      "Epoch [46/50]. Loss : 21.06055450439453 weight : 1.9839262962341309 biase : 1.0521777868270874\n",
      "Epoch [47/50]. Loss : 21.060043334960938 weight : 1.9839037656784058 biase : 1.0528931617736816\n",
      "Epoch [48/50]. Loss : 21.059534072875977 weight : 1.9838833808898926 biase : 1.0536082983016968\n",
      "Epoch [49/50]. Loss : 21.05901527404785 weight : 1.9838614463806152 biase : 1.0543230772018433\n",
      "Epoch [50/50]. Loss : 21.058507919311523 weight : 1.9838409423828125 biase : 1.055037498474121\n"
     ]
    }
   ],
   "source": [
    "epochs = 50\n",
    "losses = []\n",
    "\n",
    "for epoch in range(epochs):\n",
    "    y_pred = model(X)\n",
    "    \n",
    "    loss = criterion(y_pred, y)\n",
    "    \n",
    "    losses.append(loss)\n",
    "    \n",
    "    print(f\"Epoch [{epoch+1}/{epochs}]. Loss : {loss.item()} weight : {model.linear.weight.item()} biase : {model.linear.bias.item()}\")\n",
    "    print(\"Epoch [{}/{}]. Loss : {.3f}\".format(epoch+1,epochs, loss))\n",
    "    \n",
    "    # Reset the stored gradient for each epoch\n",
    "    optimizer.zero_grad()\n",
    "    \n",
    "    loss.backward()\n",
    "    \n",
    "    optimizer.step()"
   ]
  },
  {
   "cell_type": "code",
   "execution_count": 26,
   "metadata": {},
   "outputs": [
    {
     "data": {
      "text/plain": [
       "Text(0.5, 0, 'Epoch ')"
      ]
     },
     "execution_count": 26,
     "metadata": {},
     "output_type": "execute_result"
    },
    {
     "data": {
      "image/png": "[encoded data removed]",
      "text/plain": [
       "<Figure size 432x288 with 1 Axes>"
      ]
     },
     "metadata": {
      "needs_background": "light"
     },
     "output_type": "display_data"
    }
   ],
   "source": [
    "plt.plot(range(epochs), losses)\n",
    "plt.ylabel(\"MSE Loss\")\n",
    "plt.xlabel(\"Epoch \")"
   ]
  },
  {
   "cell_type": "code",
   "execution_count": 27,
   "metadata": {},
   "outputs": [],
   "source": [
    "x = np.linspace(0.0, 50.0,50)\n",
    "current_weight = model.linear.weight.item()\n",
    "current_bias = model.linear.bias.item()\n",
    "predicted_y = current_weight * x + current_bias"
   ]
  },
  {
   "cell_type": "code",
   "execution_count": 28,
   "metadata": {},
   "outputs": [
    {
     "data": {
      "text/plain": [
       "[<matplotlib.lines.Line2D at 0x1f08a260908>]"
      ]
     },
     "execution_count": 28,
     "metadata": {},
     "output_type": "execute_result"
    },
    {
     "data": {
      "image/png": "[encoded data removed]",
      "text/plain": [
       "<Figure size 432x288 with 1 Axes>"
      ]
     },
     "metadata": {
      "needs_background": "light"
     },
     "output_type": "display_data"
    }
   ],
   "source": [
    "plt.scatter(X.numpy(), y.numpy())\n",
    "plt.plot(x,predicted_y, 'r')"
   ]
  },
  {
   "cell_type": "code",
   "execution_count": null,
   "metadata": {},
   "outputs": [],
   "source": []
  }
 ],
 "metadata": {
  "kernelspec": {
   "display_name": "Python 3",
   "language": "python",
   "name": "python3"
  },
  "language_info": {
   "codemirror_mode": {
    "name": "ipython",
    "version": 3
   },
   "file_extension": ".py",
   "mimetype": "text/x-python",
   "name": "python",
   "nbconvert_exporter": "python",
   "pygments_lexer": "ipython3",
   "version": "3.7.4"
  }
 },
 "nbformat": 4,
 "nbformat_minor": 2
}
